{
 "cells": [
  {
   "cell_type": "code",
   "execution_count": 2,
   "id": "947b285b-b875-4b82-9879-172ba5319ac7",
   "metadata": {},
   "outputs": [
    {
     "data": {
      "text/plain": [
       "10"
      ]
     },
     "execution_count": 2,
     "metadata": {},
     "output_type": "execute_result"
    }
   ],
   "source": [
    "def add_numbers(num1,num2):\n",
    "    _sum = num1 + num2\n",
    "    return _sum\n",
    "\n",
    "add_numbers(5,5)"
   ]
  },
  {
   "cell_type": "code",
   "execution_count": 3,
   "id": "c033fe0c-8670-456d-94f0-efbcb089002e",
   "metadata": {},
   "outputs": [],
   "source": [
    "def greet(name, greeting='Hello'):\n",
    "    return f'{greeting}, {name} !'"
   ]
  },
  {
   "cell_type": "code",
   "execution_count": 4,
   "id": "7a98d650-27a9-4e6d-8e3e-e34f995c6bf0",
   "metadata": {},
   "outputs": [
    {
     "data": {
      "text/plain": [
       "'Hello, Samyam !'"
      ]
     },
     "execution_count": 4,
     "metadata": {},
     "output_type": "execute_result"
    }
   ],
   "source": [
    "greet(\"Samyam\")"
   ]
  },
  {
   "cell_type": "code",
   "execution_count": 8,
   "id": "491111fc-cb8f-475c-96f7-e317a785fa3e",
   "metadata": {},
   "outputs": [],
   "source": [
    "def print_args(*args):\n",
    "    for arg in args:\n",
    "        print(arg)"
   ]
  },
  {
   "cell_type": "code",
   "execution_count": 9,
   "id": "cad2a4f8-c967-4e76-b35a-73912a615dba",
   "metadata": {},
   "outputs": [
    {
     "name": "stdout",
     "output_type": "stream",
     "text": [
      "1\n",
      "hello\n",
      "ram\n"
     ]
    }
   ],
   "source": [
    "print_args(1,\"hello\", \"ram\")"
   ]
  },
  {
   "cell_type": "code",
   "execution_count": 13,
   "id": "8bf0e564-15c4-42c5-be5b-bd7ecc9c6742",
   "metadata": {},
   "outputs": [],
   "source": [
    "def print_kwargs(**kwargs):\n",
    "    for key, value in kwargs.items():\n",
    "        print(key, \"=\", value)"
   ]
  },
  {
   "cell_type": "code",
   "execution_count": 14,
   "id": "37ece1c9-b57b-4586-8c79-a5648b7a1ad2",
   "metadata": {},
   "outputs": [
    {
     "name": "stdout",
     "output_type": "stream",
     "text": [
      "name = samyam\n",
      "age = 21\n"
     ]
    }
   ],
   "source": [
    "print_kwargs(name=\"samyam\", age=\"21\")"
   ]
  },
  {
   "cell_type": "code",
   "execution_count": 15,
   "id": "b34b4d98-8f29-4976-aedc-449633bf93d9",
   "metadata": {},
   "outputs": [],
   "source": [
    "def print_allargs(*args, **kwargs):\n",
    "    for arg in args:\n",
    "        print(arg)\n",
    "\n",
    "    print(\"-\"*20)\n",
    "\n",
    "    for key, value in kwargs.items():\n",
    "        print(key, \"=\", value)"
   ]
  },
  {
   "cell_type": "code",
   "execution_count": 16,
   "id": "47487a52-2b76-4c03-8bbb-993f797d77b1",
   "metadata": {},
   "outputs": [
    {
     "name": "stdout",
     "output_type": "stream",
     "text": [
      "1\n",
      "hello\n",
      "ram\n",
      "--------------------\n",
      "name = samyam\n",
      "age = 21\n"
     ]
    }
   ],
   "source": [
    "print_allargs(1,\"hello\", \"ram\", name=\"samyam\", age=\"21\")"
   ]
  },
  {
   "cell_type": "code",
   "execution_count": 25,
   "id": "039afcfe-2c32-4056-beef-71d0d8f8f260",
   "metadata": {},
   "outputs": [],
   "source": [
    "def mse(*error):\n",
    "    #pow(error,2)\n",
    "    total = sum(error)\n",
    "    mean = total/len(error)\n",
    "    return mean"
   ]
  },
  {
   "cell_type": "code",
   "execution_count": 26,
   "id": "a0a1c906-6484-4fc3-9d80-67906f3581af",
   "metadata": {},
   "outputs": [
    {
     "name": "stdout",
     "output_type": "stream",
     "text": [
      "11.428571428571429\n",
      "11.428571428571429\n"
     ]
    }
   ],
   "source": [
    "print(mse(1,2,54,3,6,8,6))\n",
    "print(mse(*[1,2,54,3,6,8,6]))"
   ]
  },
  {
   "cell_type": "code",
   "execution_count": 28,
   "id": "0355d83c-6389-40b3-8c22-4a12a6fb2bd8",
   "metadata": {},
   "outputs": [],
   "source": [
    "def create_model(name, **kwargs):\n",
    "    model_name = name\n",
    "    model_size = kwargs['size']\n",
    "    model_type = kwargs['type']\n",
    "\n",
    "    return {name: f\"{model_type}_{model_size}\"}"
   ]
  },
  {
   "cell_type": "code",
   "execution_count": 30,
   "id": "72e4f584-f9d6-44cf-899b-1cbc4e7f553d",
   "metadata": {},
   "outputs": [
    {
     "data": {
      "text/plain": [
       "{'VGG16': 'CNN_2000'}"
      ]
     },
     "execution_count": 30,
     "metadata": {},
     "output_type": "execute_result"
    }
   ],
   "source": [
    "create_model(\"VGG16\", size = 2000, type = \"CNN\", shape = (22,33,1))"
   ]
  },
  {
   "cell_type": "code",
   "execution_count": 41,
   "id": "e26a1c12-4250-4a93-8840-4b4dda094747",
   "metadata": {},
   "outputs": [],
   "source": [
    "def square(n=2):\n",
    "    \"\"\"\n",
    "    Takes in a number n, return the square of n\n",
    "    \n",
    "    Argument:\n",
    "        n(int): User input number\n",
    "    \"\"\"\n",
    "    return n ** 2"
   ]
  },
  {
   "cell_type": "code",
   "execution_count": 43,
   "id": "67b7c80e-fafc-4fea-bbb2-924d377bea81",
   "metadata": {},
   "outputs": [
    {
     "name": "stdout",
     "output_type": "stream",
     "text": [
      "\n",
      "    Takes in a number n, return the square of n\n",
      "    \n",
      "    Argument:\n",
      "        n(int): User input number\n",
      "    \n"
     ]
    },
    {
     "data": {
      "text/plain": [
       "16"
      ]
     },
     "execution_count": 43,
     "metadata": {},
     "output_type": "execute_result"
    }
   ],
   "source": [
    "print(square.__doc__)\n",
    "square(4)"
   ]
  },
  {
   "cell_type": "code",
   "execution_count": null,
   "id": "502c23de-3505-448a-977b-e708dc668933",
   "metadata": {},
   "outputs": [],
   "source": []
  }
 ],
 "metadata": {
  "kernelspec": {
   "display_name": "Python 3 (ipykernel)",
   "language": "python",
   "name": "python3"
  },
  "language_info": {
   "codemirror_mode": {
    "name": "ipython",
    "version": 3
   },
   "file_extension": ".py",
   "mimetype": "text/x-python",
   "name": "python",
   "nbconvert_exporter": "python",
   "pygments_lexer": "ipython3",
   "version": "3.12.5"
  }
 },
 "nbformat": 4,
 "nbformat_minor": 5
}
