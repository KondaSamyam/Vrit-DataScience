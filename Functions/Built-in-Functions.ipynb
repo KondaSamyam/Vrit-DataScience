{
 "cells": [
  {
   "cell_type": "code",
   "execution_count": 3,
   "id": "2617fe98-dc5a-4e48-a110-248d0aaf69ac",
   "metadata": {},
   "outputs": [
    {
     "name": "stdin",
     "output_type": "stream",
     "text": [
      "What is your name? Samyam\n"
     ]
    },
    {
     "name": "stdout",
     "output_type": "stream",
     "text": [
      "Hello, Samyam!\n"
     ]
    }
   ],
   "source": [
    "name = input(\"What is your name?\")\n",
    "print(\"Hello, \" + name +\"!\")"
   ]
  },
  {
   "cell_type": "code",
   "execution_count": 5,
   "id": "ea8b4a8a-7d26-47f2-82a9-607de2f223ad",
   "metadata": {},
   "outputs": [
    {
     "name": "stdin",
     "output_type": "stream",
     "text": [
      "Enter your age?  23\n"
     ]
    },
    {
     "name": "stdout",
     "output_type": "stream",
     "text": [
      "i am 23 years old.\n"
     ]
    }
   ],
   "source": [
    "age = int(input(\"Enter your age? \"))\n",
    "print(\"i am \" + str(age) + \" years old.\")"
   ]
  },
  {
   "cell_type": "code",
   "execution_count": 6,
   "id": "57c64650-e159-4a3e-a5d1-7c1cbb4d8996",
   "metadata": {},
   "outputs": [],
   "source": [
    "file = open(\"message.txt\", \"w\")\n",
    "file.write(\"This is a testing message\")\n",
    "file.close()"
   ]
  },
  {
   "cell_type": "code",
   "execution_count": 9,
   "id": "96ece1e1-aeab-4b09-a021-4c9d037279e8",
   "metadata": {},
   "outputs": [
    {
     "name": "stdout",
     "output_type": "stream",
     "text": [
      "0:sa\n",
      "1:yam\n",
      "2:asdas\n"
     ]
    }
   ],
   "source": [
    "names = [\"sa\", \"yam\", \"asdas\"]\n",
    "\n",
    "for i , name in enumerate(names):\n",
    "    print(i, name, sep=\":\")"
   ]
  },
  {
   "cell_type": "code",
   "execution_count": 10,
   "id": "dc3384ed-3eee-414e-9b7d-b47fe7634807",
   "metadata": {},
   "outputs": [
    {
     "name": "stdout",
     "output_type": "stream",
     "text": [
      "1:sa\n",
      "2:yam\n",
      "3:asdas\n"
     ]
    }
   ],
   "source": [
    "names = [\"sa\", \"yam\", \"asdas\"]\n",
    "\n",
    "for i , name in enumerate(names, 1):\n",
    "    print(i, name, sep=\":\")"
   ]
  },
  {
   "cell_type": "code",
   "execution_count": 1,
   "id": "d4ad4a17-092d-4e22-8aed-9ac103f06517",
   "metadata": {},
   "outputs": [
    {
     "name": "stdout",
     "output_type": "stream",
     "text": [
      "1 a !\n",
      "2 b @\n",
      "3 c #\n"
     ]
    }
   ],
   "source": [
    "l1 = [1,2,3]\n",
    "l2 = [\"a\",\"b\", \"c\"]\n",
    "l3 = [\"!\",\"@\",\"#\"]\n",
    "\n",
    "for a1, a2, a3 in zip(l1,l2,l3):\n",
    "    print(a1, a2,a3)\n",
    "    "
   ]
  },
  {
   "cell_type": "code",
   "execution_count": null,
   "id": "670e3ec0-3dad-436b-bc54-26e900d12087",
   "metadata": {},
   "outputs": [],
   "source": []
  }
 ],
 "metadata": {
  "kernelspec": {
   "display_name": "Python 3 (ipykernel)",
   "language": "python",
   "name": "python3"
  },
  "language_info": {
   "codemirror_mode": {
    "name": "ipython",
    "version": 3
   },
   "file_extension": ".py",
   "mimetype": "text/x-python",
   "name": "python",
   "nbconvert_exporter": "python",
   "pygments_lexer": "ipython3",
   "version": "3.12.5"
  }
 },
 "nbformat": 4,
 "nbformat_minor": 5
}
