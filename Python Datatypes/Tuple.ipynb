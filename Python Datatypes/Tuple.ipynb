{
 "cells": [
  {
   "cell_type": "markdown",
   "id": "15f15915",
   "metadata": {},
   "source": [
    "**Tuple is immutable (not modifable), Values cannot be added removed or changed.**"
   ]
  },
  {
   "cell_type": "code",
   "execution_count": 11,
   "id": "c3e66426",
   "metadata": {},
   "outputs": [
    {
     "name": "stdout",
     "output_type": "stream",
     "text": [
      "(1, 2, 3, 4, 5, 4, 3, 2, 1)\n",
      "<class 'tuple'>\n"
     ]
    }
   ],
   "source": [
    "tup = (1,2,3,4,5,4,3,2,1)\n",
    "print(tup)\n",
    "print(type(tup))"
   ]
  },
  {
   "cell_type": "code",
   "execution_count": 12,
   "id": "3553cd3d",
   "metadata": {},
   "outputs": [
    {
     "name": "stdout",
     "output_type": "stream",
     "text": [
      "2\n",
      "(2, 3)\n",
      "(1, 2, 3, 4, 5, 4, 3, 2, 1)\n"
     ]
    }
   ],
   "source": [
    "print(tup[1])\n",
    "print(tup[1:3])\n",
    "print(tup[::-1])"
   ]
  },
  {
   "cell_type": "code",
   "execution_count": 13,
   "id": "d7031b27",
   "metadata": {},
   "outputs": [
    {
     "name": "stdout",
     "output_type": "stream",
     "text": [
      "2\n",
      "1\n"
     ]
    }
   ],
   "source": [
    "print(tup.count(1))\n",
    "print(tup.index(2))"
   ]
  },
  {
   "cell_type": "code",
   "execution_count": null,
   "id": "e7ee7f7f",
   "metadata": {},
   "outputs": [],
   "source": []
  }
 ],
 "metadata": {
  "kernelspec": {
   "display_name": "Python 3 (ipykernel)",
   "language": "python",
   "name": "python3"
  },
  "language_info": {
   "codemirror_mode": {
    "name": "ipython",
    "version": 3
   },
   "file_extension": ".py",
   "mimetype": "text/x-python",
   "name": "python",
   "nbconvert_exporter": "python",
   "pygments_lexer": "ipython3",
   "version": "3.9.7"
  }
 },
 "nbformat": 4,
 "nbformat_minor": 5
}
