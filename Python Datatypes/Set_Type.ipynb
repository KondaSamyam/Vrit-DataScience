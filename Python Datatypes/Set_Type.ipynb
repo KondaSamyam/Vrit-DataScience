{
 "cells": [
  {
   "cell_type": "markdown",
   "id": "9aaaffb6",
   "metadata": {},
   "source": [
    "**Str to List**"
   ]
  },
  {
   "cell_type": "code",
   "execution_count": 22,
   "id": "0e073b5f",
   "metadata": {},
   "outputs": [
    {
     "name": "stdout",
     "output_type": "stream",
     "text": [
      "['d', 's', 'f', 'd', 's', 'f', 'd', 'a', 'f', 's', 'd', 'f', 's', 'f']\n"
     ]
    }
   ],
   "source": [
    "str1 = \"dsfdsfdafsdfsf\"\n",
    "lis2 = [*str1]\n",
    "print(lis2)"
   ]
  },
  {
   "cell_type": "markdown",
   "id": "bfda103b",
   "metadata": {},
   "source": [
    "**Sets are Mutable(Modifable) but doesnot store duplicate values**"
   ]
  },
  {
   "cell_type": "code",
   "execution_count": 10,
   "id": "4533480d",
   "metadata": {},
   "outputs": [
    {
     "name": "stdout",
     "output_type": "stream",
     "text": [
      "{1, 2, 3, 4, 5}\n",
      "{2, 4, 6, 8, 10}\n"
     ]
    }
   ],
   "source": [
    "A = {1,2,3,4,5,4,3,2,1}\n",
    "B = set([2,4,6,8,10])\n",
    "print(A)\n",
    "print(B)"
   ]
  },
  {
   "cell_type": "code",
   "execution_count": 12,
   "id": "69f838a4",
   "metadata": {},
   "outputs": [
    {
     "name": "stdout",
     "output_type": "stream",
     "text": [
      "<class 'set'>\n",
      "{1, 2, 3, 4, 5, 6, 8, 10}\n"
     ]
    }
   ],
   "source": [
    "print(type(A))\n",
    "C = A.union(B)\n",
    "print(C)"
   ]
  },
  {
   "cell_type": "code",
   "execution_count": 13,
   "id": "50ff1d60",
   "metadata": {},
   "outputs": [
    {
     "name": "stdout",
     "output_type": "stream",
     "text": [
      "{2, 4}\n"
     ]
    }
   ],
   "source": [
    "D = A.intersection(B)\n",
    "print(D)"
   ]
  },
  {
   "cell_type": "code",
   "execution_count": 14,
   "id": "7cbdd933",
   "metadata": {},
   "outputs": [
    {
     "name": "stdout",
     "output_type": "stream",
     "text": [
      "{1, 3, 5}\n"
     ]
    }
   ],
   "source": [
    "E = A.difference(B)\n",
    "print(E)"
   ]
  },
  {
   "cell_type": "code",
   "execution_count": 29,
   "id": "91b8e90a",
   "metadata": {},
   "outputs": [
    {
     "name": "stdout",
     "output_type": "stream",
     "text": [
      "{1, 3, 5, 6, 8, 10}\n"
     ]
    }
   ],
   "source": [
    "F = A.symmetric_difference(B)\n",
    "print(F)"
   ]
  },
  {
   "cell_type": "code",
   "execution_count": 30,
   "id": "6fe9a8ab",
   "metadata": {},
   "outputs": [
    {
     "name": "stdout",
     "output_type": "stream",
     "text": [
      "{'f', ' ', 's', 'a', 'd'}\n",
      "5\n"
     ]
    }
   ],
   "source": [
    "lis1 = [*\"sadasda asd adasdas asdasdad fdds\"]\n",
    "# print(lis1)\n",
    "print(set(lis1))\n",
    "print(len(set(lis1)))"
   ]
  },
  {
   "cell_type": "code",
   "execution_count": 31,
   "id": "be3b36be",
   "metadata": {},
   "outputs": [
    {
     "name": "stdout",
     "output_type": "stream",
     "text": [
      "{1, 2, 3, 5, 6, 8, 10}\n"
     ]
    }
   ],
   "source": [
    "F.add(2)\n",
    "print(F)"
   ]
  },
  {
   "cell_type": "code",
   "execution_count": 32,
   "id": "2c2fb77d",
   "metadata": {},
   "outputs": [
    {
     "name": "stdout",
     "output_type": "stream",
     "text": [
      "{1, 2, 5, 6, 8, 10}\n"
     ]
    }
   ],
   "source": [
    "F.remove(3)\n",
    "print(F)"
   ]
  },
  {
   "cell_type": "code",
   "execution_count": 33,
   "id": "981d998f",
   "metadata": {},
   "outputs": [
    {
     "name": "stdout",
     "output_type": "stream",
     "text": [
      "{1, 2, 5, 6, 8, 10}\n"
     ]
    }
   ],
   "source": [
    "F.discard(11) #Doesnot raise error\n",
    "print(F)"
   ]
  },
  {
   "cell_type": "code",
   "execution_count": 34,
   "id": "8d01bc95",
   "metadata": {},
   "outputs": [
    {
     "name": "stdout",
     "output_type": "stream",
     "text": [
      "{2, 5, 6, 8, 10}\n",
      "1\n"
     ]
    }
   ],
   "source": [
    "x = F.pop()\n",
    "print(F)\n",
    "print(x)"
   ]
  },
  {
   "cell_type": "code",
   "execution_count": 35,
   "id": "22a717f8",
   "metadata": {},
   "outputs": [
    {
     "name": "stdout",
     "output_type": "stream",
     "text": [
      "set()\n"
     ]
    }
   ],
   "source": [
    "F.clear()\n",
    "print(F)"
   ]
  }
 ],
 "metadata": {
  "kernelspec": {
   "display_name": "Python 3 (ipykernel)",
   "language": "python",
   "name": "python3"
  },
  "language_info": {
   "codemirror_mode": {
    "name": "ipython",
    "version": 3
   },
   "file_extension": ".py",
   "mimetype": "text/x-python",
   "name": "python",
   "nbconvert_exporter": "python",
   "pygments_lexer": "ipython3",
   "version": "3.12.7"
  }
 },
 "nbformat": 4,
 "nbformat_minor": 5
}
