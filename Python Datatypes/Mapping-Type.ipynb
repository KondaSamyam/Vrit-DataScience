{
 "cells": [
  {
   "cell_type": "code",
   "execution_count": 45,
   "id": "452ad982",
   "metadata": {},
   "outputs": [
    {
     "name": "stdout",
     "output_type": "stream",
     "text": [
      "{'Name': 'Samyam', 'Age': 23, 'Address': 'Bkt'}\n"
     ]
    }
   ],
   "source": [
    "person = {\"Name\": \"Samyam\", \"Age\": 23, \"Address\": \"Bkt\"}\n",
    "print(person)"
   ]
  },
  {
   "cell_type": "code",
   "execution_count": 46,
   "id": "99be7cce",
   "metadata": {},
   "outputs": [
    {
     "name": "stdout",
     "output_type": "stream",
     "text": [
      "{'Name': 'Samyam', 'Age': 23, 'Address': 'Bkt', 'gender': 'male'}\n"
     ]
    }
   ],
   "source": [
    "person[\"gender\"] = \"male\"\n",
    "print(person)"
   ]
  },
  {
   "cell_type": "code",
   "execution_count": 47,
   "id": "9a60e98a",
   "metadata": {},
   "outputs": [
    {
     "name": "stdout",
     "output_type": "stream",
     "text": [
      "Samyam\n"
     ]
    }
   ],
   "source": [
    "print(person[\"Name\"])"
   ]
  },
  {
   "cell_type": "code",
   "execution_count": 48,
   "id": "b45d8ff5",
   "metadata": {},
   "outputs": [
    {
     "name": "stdout",
     "output_type": "stream",
     "text": [
      "{'Name': 'Samyam', 'Age': 23, 'Address': 'Ktm', 'gender': 'male'}\n"
     ]
    }
   ],
   "source": [
    "person[\"Address\"] = \"Ktm\"\n",
    "print(person)"
   ]
  },
  {
   "cell_type": "code",
   "execution_count": 49,
   "id": "b3dfc752",
   "metadata": {},
   "outputs": [
    {
     "name": "stdout",
     "output_type": "stream",
     "text": [
      "Samyam\n",
      "Unknown\n"
     ]
    }
   ],
   "source": [
    "print(person.get(\"Name\", \"Unknown\"))\n",
    "print(person.get(\"lastname\", \"Unknown\"))"
   ]
  },
  {
   "cell_type": "code",
   "execution_count": 50,
   "id": "dab101f0",
   "metadata": {},
   "outputs": [
    {
     "name": "stdout",
     "output_type": "stream",
     "text": [
      "{'Name': 'Samyam', 'Age': 23, 'Address': 'Ktm', 'gender': 'male'}\n",
      "Name : Samyam\n",
      "Age : 23\n",
      "Address : Ktm\n",
      "gender : male\n"
     ]
    }
   ],
   "source": [
    "print(person)\n",
    "for key in person:\n",
    "    print(key,\":\",person[key])"
   ]
  },
  {
   "cell_type": "code",
   "execution_count": 51,
   "id": "fd9301bb",
   "metadata": {},
   "outputs": [
    {
     "name": "stdout",
     "output_type": "stream",
     "text": [
      "{1: 'one', 2: 'two'}\n",
      "{0.111: 'one', 0.22: 'two'}\n"
     ]
    }
   ],
   "source": [
    "test = {1:\"one\", 2:\"two\"}\n",
    "test1 = {0.111:\"one\", 0.22:\"two\"}\n",
    "print(test)\n",
    "print(test1)"
   ]
  },
  {
   "cell_type": "code",
   "execution_count": 52,
   "id": "b4208605",
   "metadata": {},
   "outputs": [
    {
     "name": "stdout",
     "output_type": "stream",
     "text": [
      "{'Name': 'Samyam', 'Age': 23, 'Address': 'Ktm', 'gender': 'male', 'test': 'delete'}\n",
      "{'Name': 'Samyam', 'Age': 23, 'Address': 'Ktm', 'gender': 'male'}\n"
     ]
    }
   ],
   "source": [
    "person[\"test\"] = \"delete\"\n",
    "print(person)\n",
    "del person[\"test\"]\n",
    "print(person)"
   ]
  },
  {
   "cell_type": "markdown",
   "id": "3bd5b842",
   "metadata": {},
   "source": [
    "**Dictionary Methods**"
   ]
  },
  {
   "cell_type": "code",
   "execution_count": 53,
   "id": "f920331a",
   "metadata": {},
   "outputs": [
    {
     "name": "stdout",
     "output_type": "stream",
     "text": [
      "dict_keys(['Name', 'Age', 'Address', 'gender'])\n",
      "dict_values(['Samyam', 23, 'Ktm', 'male'])\n",
      "dict_items([('Name', 'Samyam'), ('Age', 23), ('Address', 'Ktm'), ('gender', 'male')])\n"
     ]
    }
   ],
   "source": [
    "print(person.keys())\n",
    "print(person.values())\n",
    "print(person.items())"
   ]
  },
  {
   "cell_type": "code",
   "execution_count": 54,
   "id": "cec54068",
   "metadata": {},
   "outputs": [
    {
     "name": "stdout",
     "output_type": "stream",
     "text": [
      "male\n",
      "{'Name': 'Samyam', 'Age': 23, 'Address': 'Ktm'}\n"
     ]
    }
   ],
   "source": [
    "gender = person.pop('gender')\n",
    "print(gender)\n",
    "print(person)"
   ]
  },
  {
   "cell_type": "code",
   "execution_count": 57,
   "id": "afbe745c",
   "metadata": {},
   "outputs": [
    {
     "name": "stdout",
     "output_type": "stream",
     "text": [
      "Ktm\n",
      "{'Name': 'Samyam', 'Age': 23}\n"
     ]
    }
   ],
   "source": [
    "city = person.pop('Address', 'Bkt')\n",
    "print(city)\n",
    "print(person)"
   ]
  },
  {
   "cell_type": "code",
   "execution_count": 62,
   "id": "90782c84",
   "metadata": {},
   "outputs": [
    {
     "name": "stdout",
     "output_type": "stream",
     "text": [
      "{'Address': 'Bkt', 'Age': '23', 'Gender': 'male', 'Name': 'Samyam'}\n",
      "{'Age': '23', 'Address': 'Bkt', 'Name': 'Samyam', 'Gender': 'male'}\n"
     ]
    }
   ],
   "source": [
    "person = {\"Name\": \"Samyam\", \"Age\": \"23\", \"Address\": \"Bkt\", \"Gender\": \"male\"}\n",
    "\n",
    "sorted1 = dict(sorted(person.items(), key = lambda item: item[0])) #Key Sorted\n",
    "print(sorted1)\n",
    "\n",
    "sorted2 = dict(sorted(person.items(), key = lambda item: item[1]))#Value Sorted\n",
    "print(sorted2)"
   ]
  },
  {
   "cell_type": "code",
   "execution_count": 64,
   "id": "6420a4cb",
   "metadata": {},
   "outputs": [
    {
     "name": "stdout",
     "output_type": "stream",
     "text": [
      "konda\n"
     ]
    }
   ],
   "source": [
    "name = {\"name\": ['samyam', 'konda']}\n",
    "print(name['name'][1])"
   ]
  },
  {
   "cell_type": "code",
   "execution_count": 67,
   "id": "54c3be4d",
   "metadata": {},
   "outputs": [
    {
     "name": "stdout",
     "output_type": "stream",
     "text": [
      "samyam\n"
     ]
    }
   ],
   "source": [
    "name = {\"name\": {\"firstname\": \"samyam\", \"lastname\": \"konda\"}}\n",
    "print(name['name']['firstname'])"
   ]
  },
  {
   "cell_type": "code",
   "execution_count": null,
   "id": "0a12b7c9",
   "metadata": {},
   "outputs": [],
   "source": []
  }
 ],
 "metadata": {
  "kernelspec": {
   "display_name": "Python 3 (ipykernel)",
   "language": "python",
   "name": "python3"
  },
  "language_info": {
   "codemirror_mode": {
    "name": "ipython",
    "version": 3
   },
   "file_extension": ".py",
   "mimetype": "text/x-python",
   "name": "python",
   "nbconvert_exporter": "python",
   "pygments_lexer": "ipython3",
   "version": "3.9.7"
  }
 },
 "nbformat": 4,
 "nbformat_minor": 5
}
