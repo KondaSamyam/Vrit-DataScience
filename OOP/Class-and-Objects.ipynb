{
 "cells": [
  {
   "cell_type": "code",
   "execution_count": 1,
   "id": "058b115f",
   "metadata": {},
   "outputs": [],
   "source": [
    "class Calculator:\n",
    "    def __init__(self, num1, num2):\n",
    "        self.num1 = num1\n",
    "        self.num2 = num2\n",
    "        \n",
    "    def sum(self):\n",
    "        return self.num1 + self.num2\n",
    "    \n",
    "    "
   ]
  },
  {
   "cell_type": "code",
   "execution_count": 3,
   "id": "49ebb761",
   "metadata": {},
   "outputs": [
    {
     "data": {
      "text/plain": [
       "<__main__.Calculator at 0x2248cb97d30>"
      ]
     },
     "execution_count": 3,
     "metadata": {},
     "output_type": "execute_result"
    }
   ],
   "source": [
    "calc_obj = Calculator(10,5)\n",
    "calc_obj"
   ]
  },
  {
   "cell_type": "code",
   "execution_count": 7,
   "id": "e92a9f8f",
   "metadata": {},
   "outputs": [
    {
     "data": {
      "text/plain": [
       "15"
      ]
     },
     "execution_count": 7,
     "metadata": {},
     "output_type": "execute_result"
    }
   ],
   "source": [
    "calc_obj.sum()"
   ]
  },
  {
   "cell_type": "code",
   "execution_count": 8,
   "id": "54050117",
   "metadata": {},
   "outputs": [],
   "source": [
    "class Dog:\n",
    "    def __init__(self, name, age):\n",
    "        self.name = name\n",
    "        self.age = age\n",
    "        \n",
    "    def bark(self):\n",
    "        print(f\"{self.name} is barking!\")"
   ]
  },
  {
   "cell_type": "code",
   "execution_count": 9,
   "id": "93943f42",
   "metadata": {},
   "outputs": [
    {
     "name": "stdout",
     "output_type": "stream",
     "text": [
      "Leo is barking!\n"
     ]
    }
   ],
   "source": [
    "dog_obj = Dog(\"Leo\", 2)\n",
    "dog_obj.bark()"
   ]
  },
  {
   "cell_type": "code",
   "execution_count": 15,
   "id": "133920cb",
   "metadata": {},
   "outputs": [],
   "source": [
    "class Person:\n",
    "    count = 0\n",
    "    \n",
    "    def __init__(self, name):\n",
    "        self.name = name\n",
    "        Person.count += 1\n",
    "\n",
    "    def update_name(self, new_name):\n",
    "        self.name = str(new_name)\n",
    "        \n",
    "    @classmethod\n",
    "    def get_count(cls):\n",
    "        return cls.count\n",
    "    \n",
    "    @staticmethod\n",
    "    def get_fullname(fname, lname):\n",
    "        return (f\"{fname} {lname}\")"
   ]
  },
  {
   "cell_type": "code",
   "execution_count": 16,
   "id": "df104c7b",
   "metadata": {},
   "outputs": [
    {
     "data": {
      "text/plain": [
       "1"
      ]
     },
     "execution_count": 16,
     "metadata": {},
     "output_type": "execute_result"
    }
   ],
   "source": [
    "person1 = Person(\"Samyam\")\n",
    "person1.get_count()"
   ]
  },
  {
   "cell_type": "code",
   "execution_count": 17,
   "id": "341d79d3",
   "metadata": {},
   "outputs": [
    {
     "data": {
      "text/plain": [
       "'Konda'"
      ]
     },
     "execution_count": 17,
     "metadata": {},
     "output_type": "execute_result"
    }
   ],
   "source": [
    "person1.update_name(\"Konda\")\n",
    "person1.name"
   ]
  },
  {
   "cell_type": "code",
   "execution_count": 18,
   "id": "5e8b4d0f-9d4b-4e17-bcbb-740ad06ad6de",
   "metadata": {},
   "outputs": [
    {
     "data": {
      "text/plain": [
       "'Samyam Konda'"
      ]
     },
     "execution_count": 18,
     "metadata": {},
     "output_type": "execute_result"
    }
   ],
   "source": [
    "person1.get_fullname(\"Samyam\", \"Konda\")"
   ]
  },
  {
   "cell_type": "code",
   "execution_count": 19,
   "id": "19c73a78-ecaa-4ae1-a50e-a81fd00aa571",
   "metadata": {},
   "outputs": [
    {
     "name": "stdout",
     "output_type": "stream",
     "text": [
      "Ram\n",
      "2\n"
     ]
    }
   ],
   "source": [
    "person2 = Person(\"Ram\")\n",
    "print(person2.name)\n",
    "print(person2.get_count())"
   ]
  },
  {
   "cell_type": "code",
   "execution_count": 20,
   "id": "a0daf4ad-1b0c-4f76-85a1-2bb4618807a2",
   "metadata": {},
   "outputs": [
    {
     "name": "stdout",
     "output_type": "stream",
     "text": [
      "Hari\n",
      "3\n"
     ]
    }
   ],
   "source": [
    "person3 = Person(\"Hari\")\n",
    "print(person3.name)\n",
    "print(person3.get_count())"
   ]
  },
  {
   "cell_type": "code",
   "execution_count": 42,
   "id": "9d0926c9-bca4-47f4-9274-dc2361a1a507",
   "metadata": {},
   "outputs": [],
   "source": [
    "books = [ \n",
    "    (\"The Alchemist\", 25),\n",
    "    (\"The Da Vinci Code\", 30),\n",
    "    (\"A Brief History of Time\", 15),\n",
    "    (\"Angels & Demons\", 0),\n",
    "    (\"The Grand Design\", 0),\n",
    "    (\"1984\", 19)\n",
    "]\n",
    "\n",
    "class Library:\n",
    "    total_student = 0\n",
    "    \n",
    "    def __init__(self, stu_name, dept=\"Computer Science\"):\n",
    "        self.stu_name = stu_name\n",
    "        self.dept = dept\n",
    "        Library.total_student += 1\n",
    "\n",
    "    def lend_book(self, book_name):\n",
    "        for bk_name, qt in books:\n",
    "            if bk_name == book_name and qt > 0:               \n",
    "                return (f\"You can lend the book {book_name}\")\n",
    "            else:\n",
    "                return (f\"You cant lend the book {book_name}\")\n",
    "\n",
    "    @classmethod\n",
    "    def get_student_count(cls):\n",
    "        return cls.total_student"
   ]
  },
  {
   "cell_type": "code",
   "execution_count": 43,
   "id": "90c56277-87ed-4d3b-b32c-3973cf135bce",
   "metadata": {},
   "outputs": [
    {
     "data": {
      "text/plain": [
       "'You can lend the book The Alchemist'"
      ]
     },
     "execution_count": 43,
     "metadata": {},
     "output_type": "execute_result"
    }
   ],
   "source": [
    "student1 = Library(\"Samyam\" , \"IT\")\n",
    "student1.lend_book(\"The Alchemist\")"
   ]
  },
  {
   "cell_type": "code",
   "execution_count": 44,
   "id": "b9f59fd6-a0ef-4764-ad80-6ac86c635e87",
   "metadata": {},
   "outputs": [
    {
     "data": {
      "text/plain": [
       "'You cant lend the book The Grand Design'"
      ]
     },
     "execution_count": 44,
     "metadata": {},
     "output_type": "execute_result"
    }
   ],
   "source": [
    "student2 = Library(\"Konda\" , \"IT\")\n",
    "student2.lend_book(\"The Grand Design\")"
   ]
  },
  {
   "cell_type": "code",
   "execution_count": 45,
   "id": "2708bbbd-48ff-406e-b9f5-22b9d1b31e06",
   "metadata": {},
   "outputs": [
    {
     "data": {
      "text/plain": [
       "2"
      ]
     },
     "execution_count": 45,
     "metadata": {},
     "output_type": "execute_result"
    }
   ],
   "source": [
    "Library.get_student_count()"
   ]
  },
  {
   "cell_type": "code",
   "execution_count": null,
   "id": "f0c7e868-54d7-46b2-9bde-827df0b90094",
   "metadata": {},
   "outputs": [],
   "source": []
  }
 ],
 "metadata": {
  "kernelspec": {
   "display_name": "Python 3 (ipykernel)",
   "language": "python",
   "name": "python3"
  },
  "language_info": {
   "codemirror_mode": {
    "name": "ipython",
    "version": 3
   },
   "file_extension": ".py",
   "mimetype": "text/x-python",
   "name": "python",
   "nbconvert_exporter": "python",
   "pygments_lexer": "ipython3",
   "version": "3.12.6"
  }
 },
 "nbformat": 4,
 "nbformat_minor": 5
}
