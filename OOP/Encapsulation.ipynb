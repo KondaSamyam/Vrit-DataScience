{
 "cells": [
  {
   "cell_type": "markdown",
   "id": "8174ee15",
   "metadata": {},
   "source": [
    "**Types: Private, Public, Protected**\n",
    "\n",
    "Private = __variable-name --- can only be used in class it is initialized in.\n",
    "\n",
    "Public = None\n",
    "\n",
    "Protected = _variable-name"
   ]
  },
  {
   "cell_type": "code",
   "execution_count": 5,
   "id": "4dd72332",
   "metadata": {},
   "outputs": [],
   "source": [
    "class Example:\n",
    "    def __init__(self):\n",
    "        self.public = 1\n",
    "        self.__private = 2\n",
    "        self._protected = 3\n",
    "        \n",
    "    def public_method(self):\n",
    "        print(self.public)\n",
    "    \n",
    "    def __private_method(self):\n",
    "        print(self.__private)\n",
    "    \n",
    "    def _protected_method(self):\n",
    "        print(self._protected)"
   ]
  },
  {
   "cell_type": "code",
   "execution_count": 6,
   "id": "4425900e",
   "metadata": {},
   "outputs": [],
   "source": [
    "ex = Example()"
   ]
  },
  {
   "cell_type": "code",
   "execution_count": 7,
   "id": "9b36a38b",
   "metadata": {},
   "outputs": [
    {
     "data": {
      "text/plain": [
       "3"
      ]
     },
     "execution_count": 7,
     "metadata": {},
     "output_type": "execute_result"
    }
   ],
   "source": [
    "ex.public\n",
    "ex._protected"
   ]
  },
  {
   "cell_type": "code",
   "execution_count": 8,
   "id": "2d03beb9",
   "metadata": {},
   "outputs": [
    {
     "ename": "AttributeError",
     "evalue": "'Example' object has no attribute '__private'",
     "output_type": "error",
     "traceback": [
      "\u001b[1;31m---------------------------------------------------------------------------\u001b[0m",
      "\u001b[1;31mAttributeError\u001b[0m                            Traceback (most recent call last)",
      "\u001b[1;32m~\\AppData\\Local\\Temp/ipykernel_22860/3716244926.py\u001b[0m in \u001b[0;36m<module>\u001b[1;34m\u001b[0m\n\u001b[1;32m----> 1\u001b[1;33m \u001b[0mex\u001b[0m\u001b[1;33m.\u001b[0m\u001b[0m__private\u001b[0m\u001b[1;33m\u001b[0m\u001b[1;33m\u001b[0m\u001b[0m\n\u001b[0m",
      "\u001b[1;31mAttributeError\u001b[0m: 'Example' object has no attribute '__private'"
     ]
    }
   ],
   "source": [
    "ex.__private"
   ]
  },
  {
   "cell_type": "code",
   "execution_count": 9,
   "id": "14e44701",
   "metadata": {},
   "outputs": [
    {
     "name": "stdout",
     "output_type": "stream",
     "text": [
      "1\n",
      "3\n"
     ]
    }
   ],
   "source": [
    "ex.public_method()\n",
    "ex._protected_method()"
   ]
  },
  {
   "cell_type": "code",
   "execution_count": 10,
   "id": "f0c2e6f0",
   "metadata": {},
   "outputs": [
    {
     "ename": "AttributeError",
     "evalue": "'Example' object has no attribute '__private_method'",
     "output_type": "error",
     "traceback": [
      "\u001b[1;31m---------------------------------------------------------------------------\u001b[0m",
      "\u001b[1;31mAttributeError\u001b[0m                            Traceback (most recent call last)",
      "\u001b[1;32m~\\AppData\\Local\\Temp/ipykernel_22860/2938218592.py\u001b[0m in \u001b[0;36m<module>\u001b[1;34m\u001b[0m\n\u001b[1;32m----> 1\u001b[1;33m \u001b[0mex\u001b[0m\u001b[1;33m.\u001b[0m\u001b[0m__private_method\u001b[0m\u001b[1;33m(\u001b[0m\u001b[1;33m)\u001b[0m\u001b[1;33m\u001b[0m\u001b[1;33m\u001b[0m\u001b[0m\n\u001b[0m",
      "\u001b[1;31mAttributeError\u001b[0m: 'Example' object has no attribute '__private_method'"
     ]
    }
   ],
   "source": [
    "ex.__private_method()"
   ]
  },
  {
   "cell_type": "code",
   "execution_count": null,
   "id": "38939a49",
   "metadata": {},
   "outputs": [],
   "source": []
  }
 ],
 "metadata": {
  "kernelspec": {
   "display_name": "Python 3 (ipykernel)",
   "language": "python",
   "name": "python3"
  },
  "language_info": {
   "codemirror_mode": {
    "name": "ipython",
    "version": 3
   },
   "file_extension": ".py",
   "mimetype": "text/x-python",
   "name": "python",
   "nbconvert_exporter": "python",
   "pygments_lexer": "ipython3",
   "version": "3.9.7"
  }
 },
 "nbformat": 4,
 "nbformat_minor": 5
}
