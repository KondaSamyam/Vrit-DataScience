{
 "cells": [
  {
   "cell_type": "markdown",
   "id": "732bded0-9b5d-4ca2-b61b-15d853e714c8",
   "metadata": {},
   "source": [
    "**Single Inheritance (Single Parent)**"
   ]
  },
  {
   "cell_type": "code",
   "execution_count": 22,
   "id": "01bf23e8-afcc-4889-85dd-1767b7ee9bf6",
   "metadata": {},
   "outputs": [],
   "source": [
    "#Base Class(Parent)\n",
    "class Person: \n",
    "    def __init__(self, name, age):\n",
    "        self.name = name\n",
    "        self.age = age\n",
    "\n",
    "    def intro(self):\n",
    "        print(f\"My name is {name}\")"
   ]
  },
  {
   "cell_type": "code",
   "execution_count": 23,
   "id": "f0cb9d44-857b-470f-b455-287c3e164af9",
   "metadata": {},
   "outputs": [],
   "source": [
    "#Derived Class(Child)\n",
    "class Student(Person):\n",
    "    def __init__(self, name, age, dept):\n",
    "        super().__init__(name, age)\n",
    "        self.dept = dept\n",
    "\n",
    "    def stu_intro(self):\n",
    "        print(f\"My name is {self.name} and i am in {self.dept} department.\")"
   ]
  },
  {
   "cell_type": "code",
   "execution_count": 24,
   "id": "512d1266-c84f-4c36-9add-b78ce4978c39",
   "metadata": {},
   "outputs": [
    {
     "name": "stdout",
     "output_type": "stream",
     "text": [
      "My name is Samyam and i am in Computer Science department.\n"
     ]
    }
   ],
   "source": [
    "student1 = Student(\"Samyam\", 23, \"Computer Science\")\n",
    "student1.stu_intro()"
   ]
  },
  {
   "cell_type": "markdown",
   "id": "44f385e3-601a-4fdb-8570-fbe69e1e090d",
   "metadata": {},
   "source": [
    "**Multiple Inheritance (Multiple Parents)**"
   ]
  },
  {
   "cell_type": "code",
   "execution_count": null,
   "id": "dcd8a636-4573-4b5b-97a6-2371af4bcc28",
   "metadata": {},
   "outputs": [],
   "source": []
  }
 ],
 "metadata": {
  "kernelspec": {
   "display_name": "Python 3 (ipykernel)",
   "language": "python",
   "name": "python3"
  },
  "language_info": {
   "codemirror_mode": {
    "name": "ipython",
    "version": 3
   },
   "file_extension": ".py",
   "mimetype": "text/x-python",
   "name": "python",
   "nbconvert_exporter": "python",
   "pygments_lexer": "ipython3",
   "version": "3.12.6"
  }
 },
 "nbformat": 4,
 "nbformat_minor": 5
}
