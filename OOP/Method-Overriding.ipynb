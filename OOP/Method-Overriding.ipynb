{
 "cells": [
  {
   "cell_type": "markdown",
   "id": "a7bb40f8",
   "metadata": {},
   "source": [
    "**Overriding -- changing the function of a base class in the derived class**"
   ]
  },
  {
   "cell_type": "code",
   "execution_count": 12,
   "id": "4a45447b",
   "metadata": {},
   "outputs": [],
   "source": [
    "class Animal:\n",
    "    def __init__(self, name):\n",
    "        self.name = name\n",
    "        \n",
    "    def sound(self):\n",
    "        print(f\"{self.name} is speaking!\")\n",
    "        \n",
    "class Dog(Animal):\n",
    "    def sound(self, sound):\n",
    "        print(f\"{self.name} is barking!\", sound)\n",
    "        \n",
    "class Cat(Animal):\n",
    "    def sound(self):\n",
    "        print(f\"{self.name} is Meowing!\")"
   ]
  },
  {
   "cell_type": "code",
   "execution_count": 13,
   "id": "6a17cff0",
   "metadata": {},
   "outputs": [],
   "source": [
    "class Mouse(Animal):\n",
    "    def sound(self):\n",
    "        super().sound()\n",
    "        print(f\"{self.name} is Squeaking!\")"
   ]
  },
  {
   "cell_type": "code",
   "execution_count": 14,
   "id": "b3340373",
   "metadata": {},
   "outputs": [
    {
     "name": "stdout",
     "output_type": "stream",
     "text": [
      "Leo is barking! Woof\n",
      "Max is Meowing!\n",
      "Nick is speaking!\n",
      "Nick is Squeaking!\n"
     ]
    }
   ],
   "source": [
    "dog = Dog(\"Leo\")\n",
    "cat = Cat(\"Max\")\n",
    "mouse = Mouse(\"Nick\")\n",
    "\n",
    "dog.sound(\"Woof\")\n",
    "cat.sound()\n",
    "mouse.sound()"
   ]
  },
  {
   "cell_type": "code",
   "execution_count": 15,
   "id": "8b6be6ab",
   "metadata": {},
   "outputs": [],
   "source": [
    "class Parent:\n",
    "    def __init__(self, name):\n",
    "        self.name = name\n",
    "        \n",
    "    def say_hello(self):\n",
    "        print(\"Hello from Parent\")\n",
    "        \n",
    "class Child(Parent):\n",
    "    def say_hello(self):\n",
    "        print(\"Hello from Child\")\n",
    "        super().say_hello()"
   ]
  },
  {
   "cell_type": "code",
   "execution_count": 16,
   "id": "204a0c0a",
   "metadata": {},
   "outputs": [
    {
     "name": "stdout",
     "output_type": "stream",
     "text": [
      "Hello from Child\n",
      "Hello from Parent\n"
     ]
    }
   ],
   "source": [
    "child = Child(\"Sam\")\n",
    "child.say_hello()"
   ]
  },
  {
   "cell_type": "code",
   "execution_count": null,
   "id": "f3945bce",
   "metadata": {},
   "outputs": [],
   "source": [
    "s"
   ]
  }
 ],
 "metadata": {
  "kernelspec": {
   "display_name": "Python 3 (ipykernel)",
   "language": "python",
   "name": "python3"
  },
  "language_info": {
   "codemirror_mode": {
    "name": "ipython",
    "version": 3
   },
   "file_extension": ".py",
   "mimetype": "text/x-python",
   "name": "python",
   "nbconvert_exporter": "python",
   "pygments_lexer": "ipython3",
   "version": "3.9.7"
  }
 },
 "nbformat": 4,
 "nbformat_minor": 5
}
