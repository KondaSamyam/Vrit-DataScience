{
 "cells": [
  {
   "cell_type": "code",
   "execution_count": 1,
   "id": "7cf12b85-5afe-4b28-aecd-fd8612d73066",
   "metadata": {},
   "outputs": [],
   "source": [
    "import pandas as pd\n",
    "import numpy as np\n",
    "\n",
    "from sklearn.preprocessing import StandardScaler, OneHotEncoder\n",
    "from sklearn.model_selection import train_test_split"
   ]
  },
  {
   "cell_type": "code",
   "execution_count": 2,
   "id": "4345d752-139d-4747-87f6-68592dcdab42",
   "metadata": {},
   "outputs": [
    {
     "data": {
      "text/html": [
       "<div>\n",
       "<style scoped>\n",
       "    .dataframe tbody tr th:only-of-type {\n",
       "        vertical-align: middle;\n",
       "    }\n",
       "\n",
       "    .dataframe tbody tr th {\n",
       "        vertical-align: top;\n",
       "    }\n",
       "\n",
       "    .dataframe thead th {\n",
       "        text-align: right;\n",
       "    }\n",
       "</style>\n",
       "<table border=\"1\" class=\"dataframe\">\n",
       "  <thead>\n",
       "    <tr style=\"text-align: right;\">\n",
       "      <th></th>\n",
       "      <th>Id</th>\n",
       "      <th>SepalLengthCm</th>\n",
       "      <th>SepalWidthCm</th>\n",
       "      <th>PetalLengthCm</th>\n",
       "      <th>PetalWidthCm</th>\n",
       "      <th>Species</th>\n",
       "    </tr>\n",
       "  </thead>\n",
       "  <tbody>\n",
       "    <tr>\n",
       "      <th>0</th>\n",
       "      <td>1</td>\n",
       "      <td>5.1</td>\n",
       "      <td>3.5</td>\n",
       "      <td>1.4</td>\n",
       "      <td>0.2</td>\n",
       "      <td>Iris-setosa</td>\n",
       "    </tr>\n",
       "    <tr>\n",
       "      <th>1</th>\n",
       "      <td>2</td>\n",
       "      <td>4.9</td>\n",
       "      <td>3.0</td>\n",
       "      <td>1.4</td>\n",
       "      <td>0.2</td>\n",
       "      <td>Iris-setosa</td>\n",
       "    </tr>\n",
       "    <tr>\n",
       "      <th>2</th>\n",
       "      <td>3</td>\n",
       "      <td>4.7</td>\n",
       "      <td>3.2</td>\n",
       "      <td>1.3</td>\n",
       "      <td>0.2</td>\n",
       "      <td>Iris-setosa</td>\n",
       "    </tr>\n",
       "    <tr>\n",
       "      <th>3</th>\n",
       "      <td>4</td>\n",
       "      <td>4.6</td>\n",
       "      <td>3.1</td>\n",
       "      <td>1.5</td>\n",
       "      <td>0.2</td>\n",
       "      <td>Iris-setosa</td>\n",
       "    </tr>\n",
       "    <tr>\n",
       "      <th>4</th>\n",
       "      <td>5</td>\n",
       "      <td>5.0</td>\n",
       "      <td>3.6</td>\n",
       "      <td>1.4</td>\n",
       "      <td>0.2</td>\n",
       "      <td>Iris-setosa</td>\n",
       "    </tr>\n",
       "  </tbody>\n",
       "</table>\n",
       "</div>"
      ],
      "text/plain": [
       "   Id  SepalLengthCm  SepalWidthCm  PetalLengthCm  PetalWidthCm      Species\n",
       "0   1            5.1           3.5            1.4           0.2  Iris-setosa\n",
       "1   2            4.9           3.0            1.4           0.2  Iris-setosa\n",
       "2   3            4.7           3.2            1.3           0.2  Iris-setosa\n",
       "3   4            4.6           3.1            1.5           0.2  Iris-setosa\n",
       "4   5            5.0           3.6            1.4           0.2  Iris-setosa"
      ]
     },
     "execution_count": 2,
     "metadata": {},
     "output_type": "execute_result"
    }
   ],
   "source": [
    "data =  pd.read_csv('Iris.csv')\n",
    "data.head()"
   ]
  },
  {
   "cell_type": "code",
   "execution_count": 3,
   "id": "a8ae92a2-8935-4250-8792-a407675ecf72",
   "metadata": {},
   "outputs": [],
   "source": [
    "X = data.drop(['Id', 'Species'], axis=1).values\n",
    "y = data['Species'].values"
   ]
  },
  {
   "cell_type": "markdown",
   "id": "766fe890-591c-4263-a83c-e842cc2bd442",
   "metadata": {},
   "source": [
    "## Data Preprocessing"
   ]
  },
  {
   "cell_type": "code",
   "execution_count": 4,
   "id": "c69511aa-8011-41b2-9128-c0c98c52ca5f",
   "metadata": {},
   "outputs": [],
   "source": [
    "onehot_encoder = OneHotEncoder(sparse_output=False)\n",
    "scaler = StandardScaler()\n",
    "\n",
    "encoded_y = onehot_encoder.fit_transform(y.reshape(-1, 1))\n",
    "scaled_X = scaler.fit_transform(X)"
   ]
  },
  {
   "cell_type": "markdown",
   "id": "ad8eb776-8d9c-4a15-afc2-296a633da5ac",
   "metadata": {},
   "source": [
    "## Train Test Split"
   ]
  },
  {
   "cell_type": "code",
   "execution_count": 5,
   "id": "939e56e2-98bb-4d48-8c7c-e122da0172b9",
   "metadata": {},
   "outputs": [],
   "source": [
    "X_train, X_test, y_train, y_test = train_test_split(\n",
    "    scaled_X, encoded_y, test_size=0.2, shuffle=True, stratify=encoded_y, random_state=456\n",
    ")"
   ]
  },
  {
   "cell_type": "markdown",
   "id": "259d72bb-6bb5-4598-839d-547961a32b87",
   "metadata": {},
   "source": [
    "## Model Selection and Compile"
   ]
  },
  {
   "cell_type": "code",
   "execution_count": 6,
   "id": "112ad2f2-2a73-4468-a13e-15610767e5b2",
   "metadata": {},
   "outputs": [],
   "source": [
    "import tensorflow as tf\n",
    "from tensorflow.keras.models import Sequential\n",
    "from tensorflow.keras.layers import Dense, Input"
   ]
  },
  {
   "cell_type": "code",
   "execution_count": 7,
   "id": "b1e99b83-12df-4d66-bc1b-b8b3b096e06c",
   "metadata": {},
   "outputs": [],
   "source": [
    "model = Sequential()\n",
    "\n",
    "#model.add(Input(shape = (4,)))\n",
    "#model.add(Dense(6, activation='relu'))\n",
    "#model.add(Dense(4, activation='relu'))\n",
    "#model.add(Dense(3, activation='softmax'))\n",
    "\n",
    "model.add(Input(shape = (4,)))\n",
    "model.add(Dense(64, activation='relu'))\n",
    "model.add(Dense(64, activation='relu'))\n",
    "model.add(Dense(3, activation='softmax'))"
   ]
  },
  {
   "cell_type": "code",
   "execution_count": 8,
   "id": "7c0beb48-4e5c-4808-8296-cb73f560e13c",
   "metadata": {},
   "outputs": [
    {
     "data": {
      "text/html": [
       "<pre style=\"white-space:pre;overflow-x:auto;line-height:normal;font-family:Menlo,'DejaVu Sans Mono',consolas,'Courier New',monospace\"><span style=\"font-weight: bold\">Model: \"sequential\"</span>\n",
       "</pre>\n"
      ],
      "text/plain": [
       "\u001b[1mModel: \"sequential\"\u001b[0m\n"
      ]
     },
     "metadata": {},
     "output_type": "display_data"
    },
    {
     "data": {
      "text/html": [
       "<pre style=\"white-space:pre;overflow-x:auto;line-height:normal;font-family:Menlo,'DejaVu Sans Mono',consolas,'Courier New',monospace\">┏━━━━━━━━━━━━━━━━━━━━━━━━━━━━━━━━━━━━┳━━━━━━━━━━━━━━━━━━━━━━━━━━━━┳━━━━━━━━━━━━━━━━┓\n",
       "┃<span style=\"font-weight: bold\"> Layer (type)                       </span>┃<span style=\"font-weight: bold\"> Output Shape               </span>┃<span style=\"font-weight: bold\">        Param # </span>┃\n",
       "┡━━━━━━━━━━━━━━━━━━━━━━━━━━━━━━━━━━━━╇━━━━━━━━━━━━━━━━━━━━━━━━━━━━╇━━━━━━━━━━━━━━━━┩\n",
       "│ dense (<span style=\"color: #0087ff; text-decoration-color: #0087ff\">Dense</span>)                      │ (<span style=\"color: #00d7ff; text-decoration-color: #00d7ff\">None</span>, <span style=\"color: #00af00; text-decoration-color: #00af00\">64</span>)                 │            <span style=\"color: #00af00; text-decoration-color: #00af00\">320</span> │\n",
       "├────────────────────────────────────┼────────────────────────────┼────────────────┤\n",
       "│ dense_1 (<span style=\"color: #0087ff; text-decoration-color: #0087ff\">Dense</span>)                    │ (<span style=\"color: #00d7ff; text-decoration-color: #00d7ff\">None</span>, <span style=\"color: #00af00; text-decoration-color: #00af00\">64</span>)                 │          <span style=\"color: #00af00; text-decoration-color: #00af00\">4,160</span> │\n",
       "├────────────────────────────────────┼────────────────────────────┼────────────────┤\n",
       "│ dense_2 (<span style=\"color: #0087ff; text-decoration-color: #0087ff\">Dense</span>)                    │ (<span style=\"color: #00d7ff; text-decoration-color: #00d7ff\">None</span>, <span style=\"color: #00af00; text-decoration-color: #00af00\">3</span>)                  │            <span style=\"color: #00af00; text-decoration-color: #00af00\">195</span> │\n",
       "└────────────────────────────────────┴────────────────────────────┴────────────────┘\n",
       "</pre>\n"
      ],
      "text/plain": [
       "┏━━━━━━━━━━━━━━━━━━━━━━━━━━━━━━━━━━━━┳━━━━━━━━━━━━━━━━━━━━━━━━━━━━┳━━━━━━━━━━━━━━━━┓\n",
       "┃\u001b[1m \u001b[0m\u001b[1mLayer (type)                      \u001b[0m\u001b[1m \u001b[0m┃\u001b[1m \u001b[0m\u001b[1mOutput Shape              \u001b[0m\u001b[1m \u001b[0m┃\u001b[1m \u001b[0m\u001b[1m       Param #\u001b[0m\u001b[1m \u001b[0m┃\n",
       "┡━━━━━━━━━━━━━━━━━━━━━━━━━━━━━━━━━━━━╇━━━━━━━━━━━━━━━━━━━━━━━━━━━━╇━━━━━━━━━━━━━━━━┩\n",
       "│ dense (\u001b[38;5;33mDense\u001b[0m)                      │ (\u001b[38;5;45mNone\u001b[0m, \u001b[38;5;34m64\u001b[0m)                 │            \u001b[38;5;34m320\u001b[0m │\n",
       "├────────────────────────────────────┼────────────────────────────┼────────────────┤\n",
       "│ dense_1 (\u001b[38;5;33mDense\u001b[0m)                    │ (\u001b[38;5;45mNone\u001b[0m, \u001b[38;5;34m64\u001b[0m)                 │          \u001b[38;5;34m4,160\u001b[0m │\n",
       "├────────────────────────────────────┼────────────────────────────┼────────────────┤\n",
       "│ dense_2 (\u001b[38;5;33mDense\u001b[0m)                    │ (\u001b[38;5;45mNone\u001b[0m, \u001b[38;5;34m3\u001b[0m)                  │            \u001b[38;5;34m195\u001b[0m │\n",
       "└────────────────────────────────────┴────────────────────────────┴────────────────┘\n"
      ]
     },
     "metadata": {},
     "output_type": "display_data"
    },
    {
     "data": {
      "text/html": [
       "<pre style=\"white-space:pre;overflow-x:auto;line-height:normal;font-family:Menlo,'DejaVu Sans Mono',consolas,'Courier New',monospace\"><span style=\"font-weight: bold\"> Total params: </span><span style=\"color: #00af00; text-decoration-color: #00af00\">4,675</span> (18.26 KB)\n",
       "</pre>\n"
      ],
      "text/plain": [
       "\u001b[1m Total params: \u001b[0m\u001b[38;5;34m4,675\u001b[0m (18.26 KB)\n"
      ]
     },
     "metadata": {},
     "output_type": "display_data"
    },
    {
     "data": {
      "text/html": [
       "<pre style=\"white-space:pre;overflow-x:auto;line-height:normal;font-family:Menlo,'DejaVu Sans Mono',consolas,'Courier New',monospace\"><span style=\"font-weight: bold\"> Trainable params: </span><span style=\"color: #00af00; text-decoration-color: #00af00\">4,675</span> (18.26 KB)\n",
       "</pre>\n"
      ],
      "text/plain": [
       "\u001b[1m Trainable params: \u001b[0m\u001b[38;5;34m4,675\u001b[0m (18.26 KB)\n"
      ]
     },
     "metadata": {},
     "output_type": "display_data"
    },
    {
     "data": {
      "text/html": [
       "<pre style=\"white-space:pre;overflow-x:auto;line-height:normal;font-family:Menlo,'DejaVu Sans Mono',consolas,'Courier New',monospace\"><span style=\"font-weight: bold\"> Non-trainable params: </span><span style=\"color: #00af00; text-decoration-color: #00af00\">0</span> (0.00 B)\n",
       "</pre>\n"
      ],
      "text/plain": [
       "\u001b[1m Non-trainable params: \u001b[0m\u001b[38;5;34m0\u001b[0m (0.00 B)\n"
      ]
     },
     "metadata": {},
     "output_type": "display_data"
    }
   ],
   "source": [
    "model.summary()"
   ]
  },
  {
   "cell_type": "code",
   "execution_count": 9,
   "id": "39504897-fc4c-449d-bfb8-976568ecf6d7",
   "metadata": {},
   "outputs": [],
   "source": [
    "#model.compile(optimizer='sgd', loss='categorical_crossentropy', metrics=['accuracy'])\n",
    "model.compile(optimizer='adam', loss='categorical_crossentropy', metrics=['accuracy', 'f1_score'])"
   ]
  },
  {
   "cell_type": "code",
   "execution_count": 10,
   "id": "f71747a2-898f-44fa-8b06-f45a4d64a02f",
   "metadata": {},
   "outputs": [
    {
     "name": "stdout",
     "output_type": "stream",
     "text": [
      "Epoch 1/25\n",
      "\u001b[1m4/4\u001b[0m \u001b[32m━━━━━━━━━━━━━━━━━━━━\u001b[0m\u001b[37m\u001b[0m \u001b[1m1s\u001b[0m 8ms/step - accuracy: 0.3408 - f1_score: 0.2533 - loss: 1.0732\n",
      "Epoch 2/25\n",
      "\u001b[1m4/4\u001b[0m \u001b[32m━━━━━━━━━━━━━━━━━━━━\u001b[0m\u001b[37m\u001b[0m \u001b[1m0s\u001b[0m 3ms/step - accuracy: 0.5253 - f1_score: 0.5359 - loss: 0.9417\n",
      "Epoch 3/25\n",
      "\u001b[1m4/4\u001b[0m \u001b[32m━━━━━━━━━━━━━━━━━━━━\u001b[0m\u001b[37m\u001b[0m \u001b[1m0s\u001b[0m 4ms/step - accuracy: 0.7160 - f1_score: 0.5393 - loss: 0.8175\n",
      "Epoch 4/25\n",
      "\u001b[1m4/4\u001b[0m \u001b[32m━━━━━━━━━━━━━━━━━━━━\u001b[0m\u001b[37m\u001b[0m \u001b[1m0s\u001b[0m 3ms/step - accuracy: 0.7148 - f1_score: 0.5418 - loss: 0.7342\n",
      "Epoch 5/25\n",
      "\u001b[1m4/4\u001b[0m \u001b[32m━━━━━━━━━━━━━━━━━━━━\u001b[0m\u001b[37m\u001b[0m \u001b[1m0s\u001b[0m 4ms/step - accuracy: 0.7252 - f1_score: 0.5599 - loss: 0.6672\n",
      "Epoch 6/25\n",
      "\u001b[1m4/4\u001b[0m \u001b[32m━━━━━━━━━━━━━━━━━━━━\u001b[0m\u001b[37m\u001b[0m \u001b[1m0s\u001b[0m 4ms/step - accuracy: 0.7325 - f1_score: 0.5799 - loss: 0.6141\n",
      "Epoch 7/25\n",
      "\u001b[1m4/4\u001b[0m \u001b[32m━━━━━━━━━━━━━━━━━━━━\u001b[0m\u001b[37m\u001b[0m \u001b[1m0s\u001b[0m 4ms/step - accuracy: 0.7482 - f1_score: 0.5123 - loss: 0.5653\n",
      "Epoch 8/25\n",
      "\u001b[1m4/4\u001b[0m \u001b[32m━━━━━━━━━━━━━━━━━━━━\u001b[0m\u001b[37m\u001b[0m \u001b[1m0s\u001b[0m 4ms/step - accuracy: 0.7784 - f1_score: 0.4298 - loss: 0.5072\n",
      "Epoch 9/25\n",
      "\u001b[1m4/4\u001b[0m \u001b[32m━━━━━━━━━━━━━━━━━━━━\u001b[0m\u001b[37m\u001b[0m \u001b[1m0s\u001b[0m 4ms/step - accuracy: 0.8003 - f1_score: 0.6542 - loss: 0.4644\n",
      "Epoch 10/25\n",
      "\u001b[1m4/4\u001b[0m \u001b[32m━━━━━━━━━━━━━━━━━━━━\u001b[0m\u001b[37m\u001b[0m \u001b[1m0s\u001b[0m 4ms/step - accuracy: 0.7937 - f1_score: 0.7804 - loss: 0.4532\n",
      "Epoch 11/25\n",
      "\u001b[1m4/4\u001b[0m \u001b[32m━━━━━━━━━━━━━━━━━━━━\u001b[0m\u001b[37m\u001b[0m \u001b[1m0s\u001b[0m 4ms/step - accuracy: 0.8029 - f1_score: 0.7933 - loss: 0.4354\n",
      "Epoch 12/25\n",
      "\u001b[1m4/4\u001b[0m \u001b[32m━━━━━━━━━━━━━━━━━━━━\u001b[0m\u001b[37m\u001b[0m \u001b[1m0s\u001b[0m 4ms/step - accuracy: 0.8222 - f1_score: 0.6689 - loss: 0.3964\n",
      "Epoch 13/25\n",
      "\u001b[1m4/4\u001b[0m \u001b[32m━━━━━━━━━━━━━━━━━━━━\u001b[0m\u001b[37m\u001b[0m \u001b[1m0s\u001b[0m 4ms/step - accuracy: 0.8212 - f1_score: 0.6699 - loss: 0.3913\n",
      "Epoch 14/25\n",
      "\u001b[1m4/4\u001b[0m \u001b[32m━━━━━━━━━━━━━━━━━━━━\u001b[0m\u001b[37m\u001b[0m \u001b[1m0s\u001b[0m 4ms/step - accuracy: 0.8149 - f1_score: 0.6666 - loss: 0.3769\n",
      "Epoch 15/25\n",
      "\u001b[1m4/4\u001b[0m \u001b[32m━━━━━━━━━━━━━━━━━━━━\u001b[0m\u001b[37m\u001b[0m \u001b[1m0s\u001b[0m 4ms/step - accuracy: 0.8429 - f1_score: 0.7015 - loss: 0.3557\n",
      "Epoch 16/25\n",
      "\u001b[1m4/4\u001b[0m \u001b[32m━━━━━━━━━━━━━━━━━━━━\u001b[0m\u001b[37m\u001b[0m \u001b[1m0s\u001b[0m 4ms/step - accuracy: 0.8229 - f1_score: 0.5466 - loss: 0.3541\n",
      "Epoch 17/25\n",
      "\u001b[1m4/4\u001b[0m \u001b[32m━━━━━━━━━━━━━━━━━━━━\u001b[0m\u001b[37m\u001b[0m \u001b[1m0s\u001b[0m 4ms/step - accuracy: 0.8472 - f1_score: 0.6027 - loss: 0.3255\n",
      "Epoch 18/25\n",
      "\u001b[1m4/4\u001b[0m \u001b[32m━━━━━━━━━━━━━━━━━━━━\u001b[0m\u001b[37m\u001b[0m \u001b[1m0s\u001b[0m 4ms/step - accuracy: 0.8565 - f1_score: 0.8555 - loss: 0.3266\n",
      "Epoch 19/25\n",
      "\u001b[1m4/4\u001b[0m \u001b[32m━━━━━━━━━━━━━━━━━━━━\u001b[0m\u001b[37m\u001b[0m \u001b[1m0s\u001b[0m 4ms/step - accuracy: 0.8821 - f1_score: 0.7289 - loss: 0.2780\n",
      "Epoch 20/25\n",
      "\u001b[1m4/4\u001b[0m \u001b[32m━━━━━━━━━━━━━━━━━━━━\u001b[0m\u001b[37m\u001b[0m \u001b[1m0s\u001b[0m 4ms/step - accuracy: 0.8759 - f1_score: 0.7254 - loss: 0.2873\n",
      "Epoch 21/25\n",
      "\u001b[1m4/4\u001b[0m \u001b[32m━━━━━━━━━━━━━━━━━━━━\u001b[0m\u001b[37m\u001b[0m \u001b[1m0s\u001b[0m 4ms/step - accuracy: 0.8811 - f1_score: 0.5930 - loss: 0.3020\n",
      "Epoch 22/25\n",
      "\u001b[1m4/4\u001b[0m \u001b[32m━━━━━━━━━━━━━━━━━━━━\u001b[0m\u001b[37m\u001b[0m \u001b[1m0s\u001b[0m 4ms/step - accuracy: 0.8771 - f1_score: 0.8749 - loss: 0.2701\n",
      "Epoch 23/25\n",
      "\u001b[1m4/4\u001b[0m \u001b[32m━━━━━━━━━━━━━━━━━━━━\u001b[0m\u001b[37m\u001b[0m \u001b[1m0s\u001b[0m 4ms/step - accuracy: 0.8644 - f1_score: 0.7125 - loss: 0.2824\n",
      "Epoch 24/25\n",
      "\u001b[1m4/4\u001b[0m \u001b[32m━━━━━━━━━━━━━━━━━━━━\u001b[0m\u001b[37m\u001b[0m \u001b[1m0s\u001b[0m 3ms/step - accuracy: 0.8792 - f1_score: 0.7275 - loss: 0.2510\n",
      "Epoch 25/25\n",
      "\u001b[1m4/4\u001b[0m \u001b[32m━━━━━━━━━━━━━━━━━━━━\u001b[0m\u001b[37m\u001b[0m \u001b[1m0s\u001b[0m 3ms/step - accuracy: 0.9088 - f1_score: 0.6548 - loss: 0.2407\n"
     ]
    }
   ],
   "source": [
    "history = model.fit(\n",
    "    X_train, y_train, epochs=25, batch_size=32, verbose=1\n",
    ")"
   ]
  },
  {
   "cell_type": "code",
   "execution_count": 12,
   "id": "30d65409-a272-4f35-ac71-7bd9f11122b5",
   "metadata": {},
   "outputs": [],
   "source": [
    "# 6 4 3 sgd\n",
    "#loss, acc = model.evaluate(X_test, y_test)\n",
    "#print(f\"Test Loss: {loss}\")\n",
    "#print(f\"Test Accuracy: {acc}\")"
   ]
  },
  {
   "cell_type": "code",
   "execution_count": 13,
   "id": "a265cc2e-23cc-4962-af8e-71171f55a2f6",
   "metadata": {},
   "outputs": [
    {
     "name": "stdout",
     "output_type": "stream",
     "text": [
      "\u001b[1m1/1\u001b[0m \u001b[32m━━━━━━━━━━━━━━━━━━━━\u001b[0m\u001b[37m\u001b[0m \u001b[1m0s\u001b[0m 31ms/step - accuracy: 0.9333 - f1_score: 0.9327 - loss: 0.1991\n",
      "Test Loss: 0.1991\n",
      "Test Accuracy: 0.9333\n",
      "Test F1_score: 0.932660\n"
     ]
    }
   ],
   "source": [
    "# 64 64 3 adam\n",
    "loss, acc, f1_score = model.evaluate(X_test, y_test)\n",
    "print(f\"Test Loss: {loss:.4f}\")\n",
    "print(f\"Test Accuracy: {acc:.4f}\")\n",
    "print(f\"Test F1_score: {f1_score.numpy().mean():4f}\")"
   ]
  },
  {
   "cell_type": "code",
   "execution_count": 14,
   "id": "e080152d-e100-44af-b4be-15008db57ec4",
   "metadata": {},
   "outputs": [
    {
     "name": "stdout",
     "output_type": "stream",
     "text": [
      "\u001b[1m1/1\u001b[0m \u001b[32m━━━━━━━━━━━━━━━━━━━━\u001b[0m\u001b[37m\u001b[0m \u001b[1m0s\u001b[0m 51ms/step\n"
     ]
    }
   ],
   "source": [
    "pred = tf.one_hot(np.argmax(model.predict(X_test), axis=1), depth = 3).numpy()"
   ]
  },
  {
   "cell_type": "code",
   "execution_count": 15,
   "id": "2fe348b0-63d5-427b-b267-980b607be4f3",
   "metadata": {},
   "outputs": [
    {
     "data": {
      "text/plain": [
       "array([['Iris-setosa'],\n",
       "       ['Iris-virginica'],\n",
       "       ['Iris-virginica'],\n",
       "       ['Iris-virginica'],\n",
       "       ['Iris-setosa'],\n",
       "       ['Iris-versicolor'],\n",
       "       ['Iris-virginica'],\n",
       "       ['Iris-versicolor'],\n",
       "       ['Iris-virginica'],\n",
       "       ['Iris-virginica'],\n",
       "       ['Iris-virginica'],\n",
       "       ['Iris-setosa'],\n",
       "       ['Iris-virginica'],\n",
       "       ['Iris-virginica'],\n",
       "       ['Iris-setosa'],\n",
       "       ['Iris-versicolor'],\n",
       "       ['Iris-versicolor'],\n",
       "       ['Iris-setosa'],\n",
       "       ['Iris-versicolor'],\n",
       "       ['Iris-setosa'],\n",
       "       ['Iris-setosa'],\n",
       "       ['Iris-setosa'],\n",
       "       ['Iris-setosa'],\n",
       "       ['Iris-versicolor'],\n",
       "       ['Iris-virginica'],\n",
       "       ['Iris-virginica'],\n",
       "       ['Iris-virginica'],\n",
       "       ['Iris-versicolor'],\n",
       "       ['Iris-versicolor'],\n",
       "       ['Iris-setosa']], dtype=object)"
      ]
     },
     "execution_count": 15,
     "metadata": {},
     "output_type": "execute_result"
    }
   ],
   "source": [
    "onehot_encoder.inverse_transform(pred)"
   ]
  },
  {
   "cell_type": "markdown",
   "id": "5bf9c6e9-6432-4ef9-ab65-411420763f15",
   "metadata": {},
   "source": [
    "## Packaging a model and scalers"
   ]
  },
  {
   "cell_type": "code",
   "execution_count": 16,
   "id": "50edb48c-f1c0-4549-9ec2-0a68aeea7bb0",
   "metadata": {},
   "outputs": [],
   "source": [
    "model.save(\"iris_classification_tf.keras\")"
   ]
  },
  {
   "cell_type": "code",
   "execution_count": 17,
   "id": "44acccaa-2eeb-485f-a9e6-2463a6524a56",
   "metadata": {},
   "outputs": [],
   "source": [
    "import pickle"
   ]
  },
  {
   "cell_type": "code",
   "execution_count": 18,
   "id": "bbafdbec-731a-4b33-ac9a-51b015c2ba6f",
   "metadata": {},
   "outputs": [],
   "source": [
    "to_package = {\n",
    "    \"scaler\": scaler,\n",
    "    \"encoder\": onehot_encoder\n",
    "}"
   ]
  },
  {
   "cell_type": "code",
   "execution_count": 19,
   "id": "ac232178-00c9-44aa-aa03-9953584134e1",
   "metadata": {},
   "outputs": [],
   "source": [
    "with open('iris_preprocesser.pkl', 'wb') as file:\n",
    "    pickle.dump(to_package, file)"
   ]
  }
 ],
 "metadata": {
  "kernelspec": {
   "display_name": "Python 3 (ipykernel)",
   "language": "python",
   "name": "python3"
  },
  "language_info": {
   "codemirror_mode": {
    "name": "ipython",
    "version": 3
   },
   "file_extension": ".py",
   "mimetype": "text/x-python",
   "name": "python",
   "nbconvert_exporter": "python",
   "pygments_lexer": "ipython3",
   "version": "3.12.7"
  }
 },
 "nbformat": 4,
 "nbformat_minor": 5
}
