{
 "cells": [
  {
   "cell_type": "code",
   "execution_count": 1,
   "id": "b8140a1e-7742-4a54-9b1c-ba2bf89a065d",
   "metadata": {},
   "outputs": [
    {
     "name": "stdout",
     "output_type": "stream",
     "text": [
      "X is positive\n"
     ]
    }
   ],
   "source": [
    "x = 10\n",
    "if x > 0:\n",
    "    print(\"X is positive\")"
   ]
  },
  {
   "cell_type": "code",
   "execution_count": 3,
   "id": "60755a98-4048-40f8-bd7e-d436913c5115",
   "metadata": {},
   "outputs": [
    {
     "name": "stdout",
     "output_type": "stream",
     "text": [
      "10\n"
     ]
    }
   ],
   "source": [
    "if x != 0:\n",
    "    print(x)"
   ]
  },
  {
   "cell_type": "code",
   "execution_count": 8,
   "id": "e8f67842-8f00-4400-94ab-d3a35b643b89",
   "metadata": {},
   "outputs": [
    {
     "name": "stdout",
     "output_type": "stream",
     "text": [
      "Even Number\n"
     ]
    }
   ],
   "source": [
    "x = 10\n",
    "if x%2 == 0:\n",
    "    print(\"Even Number\")\n",
    "else: \n",
    "    print(\"Odd Number\")"
   ]
  },
  {
   "cell_type": "code",
   "execution_count": 10,
   "id": "3651e2aa-db38-4264-a1b3-eb0d82322e11",
   "metadata": {},
   "outputs": [
    {
     "name": "stdin",
     "output_type": "stream",
     "text": [
      "Enter your grade: 75\n"
     ]
    },
    {
     "name": "stdout",
     "output_type": "stream",
     "text": [
      "Grade B\n"
     ]
    }
   ],
   "source": [
    "num = int(input(\"Enter your grade:\"))\n",
    "\n",
    "if num < 40:\n",
    "    print(\"Grade D\")\n",
    "elif num < 60:\n",
    "    print(\"Grade C\")\n",
    "elif num < 80:\n",
    "    print(\"Grade B\")\n",
    "else:\n",
    "    print(\"Grade A\")"
   ]
  },
  {
   "cell_type": "code",
   "execution_count": 13,
   "id": "a49f0001-ff31-43ca-b5e9-a0f0c102aca6",
   "metadata": {},
   "outputs": [
    {
     "name": "stdout",
     "output_type": "stream",
     "text": [
      "Lower Positive Number\n"
     ]
    }
   ],
   "source": [
    "x = 2\n",
    "if x > 0:\n",
    "    #print(\"Positive Number\")\n",
    "    if x > 100:\n",
    "        print(\"Higher Positive Number\")\n",
    "    else:\n",
    "        print(\"Lower Positive Number\")\n",
    "elif x < 0:\n",
    "    print(\"Negative Number\")\n",
    "else:\n",
    "    print(\"zero\")"
   ]
  },
  {
   "cell_type": "code",
   "execution_count": 18,
   "id": "2de41d02-ca9c-4b55-a6c9-9e185a2a05f4",
   "metadata": {},
   "outputs": [
    {
     "name": "stdout",
     "output_type": "stream",
     "text": [
      "False\n",
      "[1]\n"
     ]
    }
   ],
   "source": [
    "lst = []\n",
    "\n",
    "print(bool(lst))\n",
    "\n",
    "if bool(lst):\n",
    "    print(\"List isnot empty\")\n",
    "else:\n",
    "    lst.append(1)\n",
    "    print(lst)"
   ]
  },
  {
   "cell_type": "code",
   "execution_count": null,
   "id": "1634a230-765a-47f2-a1a0-06988f03afce",
   "metadata": {},
   "outputs": [],
   "source": []
  }
 ],
 "metadata": {
  "kernelspec": {
   "display_name": "Python 3 (ipykernel)",
   "language": "python",
   "name": "python3"
  },
  "language_info": {
   "codemirror_mode": {
    "name": "ipython",
    "version": 3
   },
   "file_extension": ".py",
   "mimetype": "text/x-python",
   "name": "python",
   "nbconvert_exporter": "python",
   "pygments_lexer": "ipython3",
   "version": "3.12.5"
  }
 },
 "nbformat": 4,
 "nbformat_minor": 5
}
