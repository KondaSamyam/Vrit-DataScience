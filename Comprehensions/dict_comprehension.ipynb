{
 "cells": [
  {
   "cell_type": "code",
   "execution_count": 1,
   "id": "23569f97-fbf1-4a7d-9960-3ddefa17e79c",
   "metadata": {},
   "outputs": [
    {
     "data": {
      "text/plain": [
       "{1: 1, 2: 4, 3: 9, 4: 16, 5: 25}"
      ]
     },
     "execution_count": 1,
     "metadata": {},
     "output_type": "execute_result"
    }
   ],
   "source": [
    "lst = [1,2,3,4,5]\n",
    "\n",
    "\n",
    "dict1 = {n:n**2 for n in lst}\n",
    "dict1"
   ]
  },
  {
   "cell_type": "code",
   "execution_count": 4,
   "id": "2f7309e0-34ed-49f8-b3cc-de2b663539b9",
   "metadata": {},
   "outputs": [
    {
     "data": {
      "text/plain": [
       "{'h': 1, 'e': 1, 'l': 2, 'o': 1}"
      ]
     },
     "execution_count": 4,
     "metadata": {},
     "output_type": "execute_result"
    }
   ],
   "source": [
    "word = \"hello\"\n",
    "\n",
    "letter_count = {l:word.count(l) for l in word}\n",
    "letter_count"
   ]
  },
  {
   "cell_type": "code",
   "execution_count": 5,
   "id": "09622854-1a09-4e3e-8595-ffa0bd9b64b0",
   "metadata": {},
   "outputs": [
    {
     "data": {
      "text/plain": [
       "{'c': 1,\n",
       " 'o': 2,\n",
       " 'm': 1,\n",
       " 'p': 1,\n",
       " 'r': 1,\n",
       " 'e': 2,\n",
       " 'h': 1,\n",
       " 'n': 2,\n",
       " 's': 2,\n",
       " 'i': 1}"
      ]
     },
     "execution_count": 5,
     "metadata": {},
     "output_type": "execute_result"
    }
   ],
   "source": [
    "word = \"comprehensions\"\n",
    "\n",
    "letter_count = {l:word.count(l) for l in word}\n",
    "letter_count"
   ]
  },
  {
   "cell_type": "code",
   "execution_count": 7,
   "id": "115bfcbe-5903-4223-b88b-cb8489085695",
   "metadata": {},
   "outputs": [
    {
     "data": {
      "text/plain": [
       "{'data': 4, 'science': 7, 'machine': 7, 'learning': 8}"
      ]
     },
     "execution_count": 7,
     "metadata": {},
     "output_type": "execute_result"
    }
   ],
   "source": [
    "words = [\"data\", \"science\", \"machine\", \"learning\"]\n",
    "\n",
    "counts = {w: len(w) for w in words}\n",
    "counts"
   ]
  },
  {
   "cell_type": "code",
   "execution_count": 9,
   "id": "50a462ff-ede1-478f-86d4-693d18d2323e",
   "metadata": {},
   "outputs": [
    {
     "data": {
      "text/plain": [
       "{'Dictionary': 10,\n",
       " 'comprehensions': 14,\n",
       " 'nested,': 7,\n",
       " 'allowing': 8,\n",
       " 'create': 6,\n",
       " 'complex': 7,\n",
       " 'dictionaries.': 13,\n",
       " 'example': 7,\n",
       " 'creates': 7,\n",
       " 'dictionary': 10,\n",
       " 'letter-counts': 13}"
      ]
     },
     "execution_count": 9,
     "metadata": {},
     "output_type": "execute_result"
    }
   ],
   "source": [
    "lst = ['Dictionary', 'comprehensions', 'can', 'also', 'be', 'nested,', 'allowing', 'you', 'to', 'create', 'more', 'complex', 'dictionaries.', 'Here', 'is', 'an', 'example', 'that', 'creates', 'a', 'dictionary', 'of', 'letter-counts']\n",
    "\n",
    "dict1 = {w: len(w) for w in lst if len(w) > 5}\n",
    "dict1"
   ]
  },
  {
   "cell_type": "code",
   "execution_count": null,
   "id": "ff909ce4-35f7-4079-992b-97149fee4218",
   "metadata": {},
   "outputs": [],
   "source": []
  }
 ],
 "metadata": {
  "kernelspec": {
   "display_name": "Python 3 (ipykernel)",
   "language": "python",
   "name": "python3"
  },
  "language_info": {
   "codemirror_mode": {
    "name": "ipython",
    "version": 3
   },
   "file_extension": ".py",
   "mimetype": "text/x-python",
   "name": "python",
   "nbconvert_exporter": "python",
   "pygments_lexer": "ipython3",
   "version": "3.12.7"
  }
 },
 "nbformat": 4,
 "nbformat_minor": 5
}
