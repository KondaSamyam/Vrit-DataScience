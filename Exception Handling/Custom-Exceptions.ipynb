{
 "cells": [
  {
   "cell_type": "code",
   "execution_count": 2,
   "id": "2e1f524e-e6fc-46df-ab17-6d64c1b3eca1",
   "metadata": {},
   "outputs": [],
   "source": [
    "from math import sqrt\n",
    "\n",
    "class NegativeNumberError(Exception):\n",
    "    pass\n",
    "    "
   ]
  },
  {
   "cell_type": "code",
   "execution_count": 9,
   "id": "c0f75d06-eb73-4b08-b6b1-23425b5408c4",
   "metadata": {},
   "outputs": [],
   "source": [
    "def sqrt_of_number(x):\n",
    "    \"\"\"\n",
    "    Calculate square root of a given number\n",
    "\n",
    "    Parameters\n",
    "    ----------\n",
    "    x : int | float\n",
    "        Input number to calulate sqrt\n",
    "        \n",
    "    Returns\n",
    "    --------\n",
    "    float\n",
    "        Returns square root of x\n",
    "        \n",
    "    Raises\n",
    "    ------\n",
    "        NegativeNumberError\n",
    "            raises error if input is a negative number\n",
    "    \n",
    "    \"\"\"\n",
    "    if x < 0:\n",
    "        raise NegativeNumberError(\"Cannot calculate square root of negative number\")\n",
    "\n",
    "    return sqrt(x)"
   ]
  },
  {
   "cell_type": "code",
   "execution_count": 12,
   "id": "391d8364-e736-4dbb-b2a5-bc7ab935e3d2",
   "metadata": {},
   "outputs": [
    {
     "name": "stdout",
     "output_type": "stream",
     "text": [
      "Error Occured: Cannot calculate square root of negative number\n"
     ]
    }
   ],
   "source": [
    "try:\n",
    "    print(f\"Square Root : {sqrt_of_number(-4)}\")\n",
    "#except NegativeNumberError as ex:\n",
    "    #print(ex)\n",
    "except Exception as ex:\n",
    "    print(f\"Error Occured: {ex}\")"
   ]
  },
  {
   "cell_type": "code",
   "execution_count": 14,
   "id": "8ba202e9-891e-4a90-8acc-e49a3cd48ff5",
   "metadata": {},
   "outputs": [
    {
     "ename": "NegativeNumberError",
     "evalue": "Cannot calculate square root of negative number",
     "output_type": "error",
     "traceback": [
      "\u001b[1;31m---------------------------------------------------------------------------\u001b[0m",
      "\u001b[1;31mNegativeNumberError\u001b[0m                       Traceback (most recent call last)",
      "Cell \u001b[1;32mIn[14], line 1\u001b[0m\n\u001b[1;32m----> 1\u001b[0m \u001b[38;5;28mprint\u001b[39m(\u001b[43msqrt_of_number\u001b[49m\u001b[43m(\u001b[49m\u001b[38;5;241;43m-\u001b[39;49m\u001b[38;5;241;43m4\u001b[39;49m\u001b[43m)\u001b[49m)\n",
      "Cell \u001b[1;32mIn[9], line 22\u001b[0m, in \u001b[0;36msqrt_of_number\u001b[1;34m(x)\u001b[0m\n\u001b[0;32m      2\u001b[0m \u001b[38;5;250m\u001b[39m\u001b[38;5;124;03m\"\"\"\u001b[39;00m\n\u001b[0;32m      3\u001b[0m \u001b[38;5;124;03mCalculate square root of a given number\u001b[39;00m\n\u001b[0;32m      4\u001b[0m \n\u001b[1;32m   (...)\u001b[0m\n\u001b[0;32m     19\u001b[0m \u001b[38;5;124;03m\u001b[39;00m\n\u001b[0;32m     20\u001b[0m \u001b[38;5;124;03m\"\"\"\u001b[39;00m\n\u001b[0;32m     21\u001b[0m \u001b[38;5;28;01mif\u001b[39;00m x \u001b[38;5;241m<\u001b[39m \u001b[38;5;241m0\u001b[39m:\n\u001b[1;32m---> 22\u001b[0m     \u001b[38;5;28;01mraise\u001b[39;00m NegativeNumberError(\u001b[38;5;124m\"\u001b[39m\u001b[38;5;124mCannot calculate square root of negative number\u001b[39m\u001b[38;5;124m\"\u001b[39m)\n\u001b[0;32m     24\u001b[0m \u001b[38;5;28;01mreturn\u001b[39;00m sqrt(x)\n",
      "\u001b[1;31mNegativeNumberError\u001b[0m: Cannot calculate square root of negative number"
     ]
    }
   ],
   "source": [
    "print(sqrt_of_number(-4))"
   ]
  },
  {
   "cell_type": "code",
   "execution_count": null,
   "id": "c3e8ec7e-6f0b-487b-bcc2-c8ae3aff4cb0",
   "metadata": {},
   "outputs": [],
   "source": []
  }
 ],
 "metadata": {
  "kernelspec": {
   "display_name": "Python 3 (ipykernel)",
   "language": "python",
   "name": "python3"
  },
  "language_info": {
   "codemirror_mode": {
    "name": "ipython",
    "version": 3
   },
   "file_extension": ".py",
   "mimetype": "text/x-python",
   "name": "python",
   "nbconvert_exporter": "python",
   "pygments_lexer": "ipython3",
   "version": "3.12.6"
  }
 },
 "nbformat": 4,
 "nbformat_minor": 5
}
