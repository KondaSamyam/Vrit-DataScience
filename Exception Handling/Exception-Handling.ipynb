{
 "cells": [
  {
   "cell_type": "code",
   "execution_count": 2,
   "id": "69f48b79-ed0b-4670-b85d-133d41ce8bb0",
   "metadata": {},
   "outputs": [
    {
     "ename": "ZeroDivisionError",
     "evalue": "division by zero",
     "output_type": "error",
     "traceback": [
      "\u001b[1;31m---------------------------------------------------------------------------\u001b[0m",
      "\u001b[1;31mZeroDivisionError\u001b[0m                         Traceback (most recent call last)",
      "Cell \u001b[1;32mIn[2], line 1\u001b[0m\n\u001b[1;32m----> 1\u001b[0m \u001b[38;5;241;43m45\u001b[39;49m\u001b[43m \u001b[49m\u001b[38;5;241;43m/\u001b[39;49m\u001b[43m \u001b[49m\u001b[38;5;241;43m0\u001b[39;49m\n",
      "\u001b[1;31mZeroDivisionError\u001b[0m: division by zero"
     ]
    }
   ],
   "source": [
    "45 / 0"
   ]
  },
  {
   "cell_type": "code",
   "execution_count": 3,
   "id": "c18a01f7-a518-4502-a3d0-30dfff0c6ecb",
   "metadata": {},
   "outputs": [
    {
     "ename": "TypeError",
     "evalue": "'tuple' object does not support item assignment",
     "output_type": "error",
     "traceback": [
      "\u001b[1;31m---------------------------------------------------------------------------\u001b[0m",
      "\u001b[1;31mTypeError\u001b[0m                                 Traceback (most recent call last)",
      "Cell \u001b[1;32mIn[3], line 2\u001b[0m\n\u001b[0;32m      1\u001b[0m t \u001b[38;5;241m=\u001b[39m (\u001b[38;5;241m1\u001b[39m, \u001b[38;5;241m0\u001b[39m)\n\u001b[1;32m----> 2\u001b[0m \u001b[43mt\u001b[49m\u001b[43m[\u001b[49m\u001b[38;5;241;43m0\u001b[39;49m\u001b[43m]\u001b[49m \u001b[38;5;241m=\u001b[39m \u001b[38;5;241m3\u001b[39m\n",
      "\u001b[1;31mTypeError\u001b[0m: 'tuple' object does not support item assignment"
     ]
    }
   ],
   "source": [
    "t = (1, 0)\n",
    "t[0] = 3"
   ]
  },
  {
   "cell_type": "code",
   "execution_count": 4,
   "id": "e3281fcd-eeee-43a6-9d02-0e5cd7c8cf8f",
   "metadata": {},
   "outputs": [
    {
     "ename": "ValueError",
     "evalue": "invalid literal for int() with base 10: 'a'",
     "output_type": "error",
     "traceback": [
      "\u001b[1;31m---------------------------------------------------------------------------\u001b[0m",
      "\u001b[1;31mValueError\u001b[0m                                Traceback (most recent call last)",
      "Cell \u001b[1;32mIn[4], line 1\u001b[0m\n\u001b[1;32m----> 1\u001b[0m \u001b[38;5;28;43mint\u001b[39;49m\u001b[43m(\u001b[49m\u001b[38;5;124;43m'\u001b[39;49m\u001b[38;5;124;43ma\u001b[39;49m\u001b[38;5;124;43m'\u001b[39;49m\u001b[43m)\u001b[49m\n",
      "\u001b[1;31mValueError\u001b[0m: invalid literal for int() with base 10: 'a'"
     ]
    }
   ],
   "source": [
    "int('a')"
   ]
  },
  {
   "cell_type": "markdown",
   "id": "824a8735-444c-409f-8442-1513f8b93482",
   "metadata": {},
   "source": [
    "**Basic Exception Handling**"
   ]
  },
  {
   "cell_type": "code",
   "execution_count": 5,
   "id": "3fa7a122-6614-4322-9442-48956c002607",
   "metadata": {},
   "outputs": [
    {
     "ename": "IndentationError",
     "evalue": "expected an indented block after 'try' statement on line 1 (1581799091.py, line 3)",
     "output_type": "error",
     "traceback": [
      "\u001b[1;36m  Cell \u001b[1;32mIn[5], line 3\u001b[1;36m\u001b[0m\n\u001b[1;33m    except error_type:\u001b[0m\n\u001b[1;37m    ^\u001b[0m\n\u001b[1;31mIndentationError\u001b[0m\u001b[1;31m:\u001b[0m expected an indented block after 'try' statement on line 1\n"
     ]
    }
   ],
   "source": [
    "try:\n",
    "    #run code\n",
    "except error_type:\n",
    "    #handle error"
   ]
  },
  {
   "cell_type": "markdown",
   "id": "f2c4aca4-8122-440c-be3a-b61c5d0fc485",
   "metadata": {},
   "source": [
    "**User Defined Error**"
   ]
  },
  {
   "cell_type": "code",
   "execution_count": 6,
   "id": "da083856-c075-415c-b5b5-0ecd72d1ab9a",
   "metadata": {},
   "outputs": [
    {
     "name": "stdin",
     "output_type": "stream",
     "text": [
      "Enter a number a\n"
     ]
    },
    {
     "name": "stdout",
     "output_type": "stream",
     "text": [
      "Invalid Input, You should enter a number\n"
     ]
    }
   ],
   "source": [
    "try:\n",
    "    num = int(input('Enter a number'))\n",
    "    print(num)\n",
    "    \n",
    "except ValueError:\n",
    "    print('Invalid Input, You should enter a number')"
   ]
  },
  {
   "cell_type": "code",
   "execution_count": 10,
   "id": "10d161b9-336d-42c6-8e40-656f13e7ab18",
   "metadata": {},
   "outputs": [
    {
     "name": "stdin",
     "output_type": "stream",
     "text": [
      "Enter a number 2\n",
      "Enter a number 0\n"
     ]
    },
    {
     "name": "stdout",
     "output_type": "stream",
     "text": [
      "Cannot divide by zero\n"
     ]
    }
   ],
   "source": [
    "try:\n",
    "    num1 = int(input('Enter a number'))\n",
    "    num2 = int(input('Enter a number'))\n",
    "    print(num1/num2)\n",
    "    \n",
    "except ValueError:\n",
    "    print('Invalid Input, You should enter a number')\n",
    "    \n",
    "except ZeroDivisionError:\n",
    "    print('Cannot divide by zero')"
   ]
  },
  {
   "cell_type": "code",
   "execution_count": 12,
   "id": "ece4651c-49f3-437c-800e-c1199926fa00",
   "metadata": {},
   "outputs": [
    {
     "name": "stdin",
     "output_type": "stream",
     "text": [
      "Enter a number a\n"
     ]
    },
    {
     "name": "stdout",
     "output_type": "stream",
     "text": [
      "Invalid Input, Couldnot convert to integer!\n"
     ]
    }
   ],
   "source": [
    "try:\n",
    "    num = int(input('Enter a number'))\n",
    "    print(num)\n",
    "    \n",
    "except (ValueError, TypeError):\n",
    "    print('Invalid Input, Couldnot convert to integer!')"
   ]
  },
  {
   "cell_type": "code",
   "execution_count": 15,
   "id": "5c5213f0-ed17-4506-88b1-f9a20923ca51",
   "metadata": {},
   "outputs": [
    {
     "name": "stdin",
     "output_type": "stream",
     "text": [
      "Enter a number a\n"
     ]
    },
    {
     "name": "stdout",
     "output_type": "stream",
     "text": [
      "An exception has occcured\n",
      " invalid literal for int() with base 10: 'a'\n"
     ]
    }
   ],
   "source": [
    "try:\n",
    "    num = int(input('Enter a number'))\n",
    "    print(num)\n",
    "    \n",
    "except Exception as ex:\n",
    "    print('An exception has occcured\\n',ex)"
   ]
  },
  {
   "cell_type": "code",
   "execution_count": 23,
   "id": "45f8f591-1e80-470d-8ea5-cd6a652723b6",
   "metadata": {},
   "outputs": [
    {
     "name": "stdout",
     "output_type": "stream",
     "text": [
      "a\n",
      "b\n",
      "c\n",
      "d\n",
      "index: 5 exceeds no of required iterations 4\n"
     ]
    }
   ],
   "source": [
    "lst = ['a', 'b', 'c', 'd']\n",
    "\n",
    "try:\n",
    "    for i in range(5):\n",
    "        print(lst[i])\n",
    "        \n",
    "except:\n",
    "    print(f\"index: {i+1} exceeds no of required iterations {len(lst)}\")"
   ]
  },
  {
   "cell_type": "markdown",
   "id": "fa19f6c4-ac86-43b1-a7e7-93be69349567",
   "metadata": {},
   "source": [
    "**Exercise**"
   ]
  },
  {
   "cell_type": "code",
   "execution_count": 22,
   "id": "6b8aa452-bc01-4bf1-b262-88f15e057f1e",
   "metadata": {},
   "outputs": [
    {
     "name": "stdout",
     "output_type": "stream",
     "text": [
      "a\n",
      "b\n",
      "c\n",
      "d\n",
      "index: 5 exceeds no of required iterations 4\n"
     ]
    }
   ],
   "source": [
    "lst = ['a', 'b', 'c', 'd']\n",
    "\n",
    "try:\n",
    "    for i in range(5):\n",
    "        print(lst[i])\n",
    "        \n",
    "except IndexError:\n",
    "    print(f\"index: {i+1} exceeds no of required iterations {len(lst)}\")"
   ]
  },
  {
   "cell_type": "code",
   "execution_count": 27,
   "id": "d36ddcf5-6bcc-433a-b6f5-77d757574308",
   "metadata": {},
   "outputs": [
    {
     "name": "stdin",
     "output_type": "stream",
     "text": [
      "Enter a number 5\n"
     ]
    },
    {
     "name": "stdout",
     "output_type": "stream",
     "text": [
      "5\n"
     ]
    }
   ],
   "source": [
    "try:\n",
    "    num = int(input('Enter a number'))\n",
    "    \n",
    "except Exception as ex:\n",
    "    print(ex, '\\nAn exception has occcured')\n",
    "\n",
    "else:\n",
    "    print(num)"
   ]
  },
  {
   "cell_type": "code",
   "execution_count": 33,
   "id": "f268d8df-af12-4fe5-b422-940b2a9dd56f",
   "metadata": {},
   "outputs": [
    {
     "name": "stdin",
     "output_type": "stream",
     "text": [
      "Enter a number 5\n",
      "Enter a number 3\n"
     ]
    },
    {
     "name": "stdout",
     "output_type": "stream",
     "text": [
      "Result: 1.6666666666666667\n"
     ]
    }
   ],
   "source": [
    "try:\n",
    "    num1 = int(input('Enter a number'))\n",
    "    num2 = int(input('Enter a number'))\n",
    "    result = num1/num2\n",
    "    \n",
    "except ValueError:\n",
    "    print('Invalid Input, You should enter a number')\n",
    "    \n",
    "except ZeroDivisionError:\n",
    "    print('Cannot divide by zero')\n",
    "\n",
    "else: \n",
    "    print(\"Result:\", result)"
   ]
  },
  {
   "cell_type": "code",
   "execution_count": 35,
   "id": "db438b1f-1d6b-4315-a7b3-335aab0dda56",
   "metadata": {},
   "outputs": [
    {
     "name": "stdin",
     "output_type": "stream",
     "text": [
      "Enter a number 5\n",
      "Enter a number 0\n"
     ]
    },
    {
     "name": "stdout",
     "output_type": "stream",
     "text": [
      "Cannot divide by zero\n"
     ]
    }
   ],
   "source": [
    "try:\n",
    "    num1 = int(input('Enter a number'))\n",
    "    num2 = int(input('Enter a number'))\n",
    "    result = num1/num2\n",
    "    \n",
    "except ValueError:\n",
    "    print('Invalid Input, You should enter a number')\n",
    "    \n",
    "except ZeroDivisionError:\n",
    "    print('Cannot divide by zero')\n",
    "\n",
    "else: \n",
    "    print(\"Result:\", result)"
   ]
  },
  {
   "cell_type": "code",
   "execution_count": 37,
   "id": "b75491c2-5e66-489c-8966-c5c4a2b9f727",
   "metadata": {},
   "outputs": [
    {
     "name": "stdin",
     "output_type": "stream",
     "text": [
      "Enter a number 5\n",
      "Enter a number 0\n"
     ]
    },
    {
     "name": "stdout",
     "output_type": "stream",
     "text": [
      "Cannot divide by zero\n",
      "Code block has been executed\n"
     ]
    }
   ],
   "source": [
    "try:\n",
    "    num1 = int(input('Enter a number'))\n",
    "    num2 = int(input('Enter a number'))\n",
    "    result = num1/num2\n",
    "\n",
    "except ZeroDivisionError:\n",
    "    print('Cannot divide by zero')\n",
    "    \n",
    "except Exception as ex:\n",
    "    print(ex, '\\nError Occured.')\n",
    "\n",
    "else: \n",
    "    print(\"Result:\", result)\n",
    "\n",
    "finally:\n",
    "    print(\"Code block has been executed\")"
   ]
  },
  {
   "cell_type": "markdown",
   "id": "13dcde3e-445d-4317-9b14-8147acdb1645",
   "metadata": {},
   "source": [
    "**Custom Error**"
   ]
  },
  {
   "cell_type": "code",
   "execution_count": 39,
   "id": "fd46f075-a473-4fd3-9a97-2a72f26db634",
   "metadata": {},
   "outputs": [],
   "source": [
    "class UserNotFoundError(Exception):\n",
    "    pass"
   ]
  },
  {
   "cell_type": "code",
   "execution_count": 46,
   "id": "569dd899-9bad-48bd-8ce2-a7d934fab442",
   "metadata": {},
   "outputs": [],
   "source": [
    "def get_user(user_id):\n",
    "    try:\n",
    "        raise UserNotFoundError()\n",
    "    except UserNotFoundError as ex:\n",
    "        print('User Not Found')"
   ]
  },
  {
   "cell_type": "code",
   "execution_count": 47,
   "id": "83bfbbc6-d9b9-4996-92bc-7b6492ca8406",
   "metadata": {},
   "outputs": [
    {
     "name": "stdout",
     "output_type": "stream",
     "text": [
      "User Not Found\n"
     ]
    }
   ],
   "source": [
    "get_user(1)"
   ]
  },
  {
   "cell_type": "markdown",
   "id": "acf83c13-6289-4555-a792-e7b6506dc075",
   "metadata": {},
   "source": [
    "**Nested Error Handling**"
   ]
  },
  {
   "cell_type": "code",
   "execution_count": 45,
   "id": "b7bc48c0-c051-4121-b050-22a44ce3df4d",
   "metadata": {},
   "outputs": [
    {
     "name": "stdin",
     "output_type": "stream",
     "text": [
      "Enter a number 5\n",
      "Enter a number 0\n"
     ]
    },
    {
     "name": "stdout",
     "output_type": "stream",
     "text": [
      "Cannot divide by zero\n",
      "Code block has been executed\n"
     ]
    }
   ],
   "source": [
    "try:\n",
    "    num1 = int(input('Enter a number'))\n",
    "    num2 = int(input('Enter a number'))\n",
    "    \n",
    "except Exception as ex:\n",
    "    print(ex, '\\nError Occured.')\n",
    "\n",
    "else: \n",
    "    try:\n",
    "        result = num1/num2    \n",
    "        print(\"Result:\", result)\n",
    "\n",
    "    except ZeroDivisionError:\n",
    "        print('Cannot divide by zero')\n",
    "    \n",
    "finally:\n",
    "    print(\"Code block has been executed\")"
   ]
  },
  {
   "cell_type": "code",
   "execution_count": 48,
   "id": "c7eecfe8-6c73-4791-8b7f-852b56f47a10",
   "metadata": {},
   "outputs": [
    {
     "ename": "ValueError",
     "evalue": "x shouldnot be greater than 10",
     "output_type": "error",
     "traceback": [
      "\u001b[1;31m---------------------------------------------------------------------------\u001b[0m",
      "\u001b[1;31mValueError\u001b[0m                                Traceback (most recent call last)",
      "Cell \u001b[1;32mIn[48], line 3\u001b[0m\n\u001b[0;32m      1\u001b[0m x \u001b[38;5;241m=\u001b[39m \u001b[38;5;241m10\u001b[39m\n\u001b[0;32m      2\u001b[0m \u001b[38;5;28;01mif\u001b[39;00m x \u001b[38;5;241m>\u001b[39m \u001b[38;5;241m5\u001b[39m:\n\u001b[1;32m----> 3\u001b[0m     \u001b[38;5;28;01mraise\u001b[39;00m \u001b[38;5;167;01mValueError\u001b[39;00m(\u001b[38;5;124m'\u001b[39m\u001b[38;5;124mx shouldnot be greater than 10\u001b[39m\u001b[38;5;124m'\u001b[39m)\n",
      "\u001b[1;31mValueError\u001b[0m: x shouldnot be greater than 10"
     ]
    }
   ],
   "source": [
    "x = 10\n",
    "if x > 5:\n",
    "    raise ValueError('x shouldnot be greater than 10')"
   ]
  },
  {
   "cell_type": "code",
   "execution_count": null,
   "id": "155845b6-bd10-4fea-9a7e-d90af8283254",
   "metadata": {},
   "outputs": [],
   "source": []
  }
 ],
 "metadata": {
  "kernelspec": {
   "display_name": "Python 3 (ipykernel)",
   "language": "python",
   "name": "python3"
  },
  "language_info": {
   "codemirror_mode": {
    "name": "ipython",
    "version": 3
   },
   "file_extension": ".py",
   "mimetype": "text/x-python",
   "name": "python",
   "nbconvert_exporter": "python",
   "pygments_lexer": "ipython3",
   "version": "3.12.6"
  }
 },
 "nbformat": 4,
 "nbformat_minor": 5
}
