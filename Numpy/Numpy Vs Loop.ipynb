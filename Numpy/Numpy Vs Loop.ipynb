{
 "cells": [
  {
   "cell_type": "code",
   "execution_count": 2,
   "id": "d67faf75",
   "metadata": {},
   "outputs": [],
   "source": [
    "import numpy as np\n",
    "import time"
   ]
  },
  {
   "cell_type": "code",
   "execution_count": 3,
   "id": "e402329e",
   "metadata": {},
   "outputs": [],
   "source": [
    "a = np.random.rand(1000000)\n",
    "b = np.random.rand(1000000)"
   ]
  },
  {
   "cell_type": "code",
   "execution_count": 6,
   "id": "1b1c68ec",
   "metadata": {},
   "outputs": [
    {
     "name": "stdout",
     "output_type": "stream",
     "text": [
      "Time taken for Loop: 0.47648096084594727\n"
     ]
    }
   ],
   "source": [
    "l1 = list(a)\n",
    "l2 = list(b)\n",
    "c = []\n",
    "start = time.time()\n",
    "for i in range(len(l1)):\n",
    "    c.append(l1[i] * l2[i])\n",
    "end = time.time()\n",
    "\n",
    "print(f\"Time taken for Loop: {end - start}\")"
   ]
  },
  {
   "cell_type": "code",
   "execution_count": 9,
   "id": "09d580e6",
   "metadata": {},
   "outputs": [
    {
     "name": "stdout",
     "output_type": "stream",
     "text": [
      "Time Taken for List Comprehension: 0.3918468952178955\n"
     ]
    }
   ],
   "source": [
    "start1 = time.time()\n",
    "c1 = [l1[i] * l2[i] for i in range(len(l1))]\n",
    "end1 = time.time()\n",
    "\n",
    "print(f\"Time Taken for List Comprehension: {end1 - start1}\")"
   ]
  },
  {
   "cell_type": "code",
   "execution_count": 14,
   "id": "c0279431",
   "metadata": {},
   "outputs": [
    {
     "name": "stdout",
     "output_type": "stream",
     "text": [
      "Time Taken for Map Function: 0.5510084629058838\n"
     ]
    }
   ],
   "source": [
    "#Map doesnot calculate the result but creates the generator\n",
    "\n",
    "start2 = time.time()\n",
    "c2 = list(map(lambda x, y : x * y, l1, l2))\n",
    "res = list(c2)\n",
    "end2 = time.time()\n",
    "\n",
    "print(f\"Time Taken for Map Function: {end2 - start2}\")"
   ]
  },
  {
   "cell_type": "code",
   "execution_count": 16,
   "id": "5b599409",
   "metadata": {},
   "outputs": [
    {
     "name": "stdout",
     "output_type": "stream",
     "text": [
      "Time Taken for Elementwise Operation: 0.06680846214294434\n"
     ]
    }
   ],
   "source": [
    "start3 = time.time()\n",
    "c = a * b\n",
    "end3 = time.time()\n",
    "\n",
    "print(f\"Time Taken for Elementwise Operation: {end3 - start3}\")"
   ]
  },
  {
   "cell_type": "code",
   "execution_count": null,
   "id": "12803b87",
   "metadata": {},
   "outputs": [],
   "source": []
  }
 ],
 "metadata": {
  "kernelspec": {
   "display_name": "Python 3 (ipykernel)",
   "language": "python",
   "name": "python3"
  },
  "language_info": {
   "codemirror_mode": {
    "name": "ipython",
    "version": 3
   },
   "file_extension": ".py",
   "mimetype": "text/x-python",
   "name": "python",
   "nbconvert_exporter": "python",
   "pygments_lexer": "ipython3",
   "version": "3.9.7"
  }
 },
 "nbformat": 4,
 "nbformat_minor": 5
}
