{
 "cells": [
  {
   "cell_type": "code",
   "execution_count": 2,
   "id": "f1f2f04c-02db-4ea3-aac9-c47053369bcb",
   "metadata": {},
   "outputs": [],
   "source": [
    "import numpy as np"
   ]
  },
  {
   "cell_type": "code",
   "execution_count": 4,
   "id": "189844f8-9b70-4323-8a47-2bd1e2a393c9",
   "metadata": {},
   "outputs": [
    {
     "name": "stdout",
     "output_type": "stream",
     "text": [
      "1\n"
     ]
    }
   ],
   "source": [
    "arr = np.array([1,2,3,4])\n",
    "print(arr[0])"
   ]
  },
  {
   "cell_type": "code",
   "execution_count": 6,
   "id": "2129a486-f625-4a96-bb74-73070a99ac9e",
   "metadata": {},
   "outputs": [
    {
     "name": "stdout",
     "output_type": "stream",
     "text": [
      "[2 4]\n",
      "[4 3 2 1]\n"
     ]
    }
   ],
   "source": [
    "print(arr[1::2])\n",
    "print(arr[::-1])"
   ]
  },
  {
   "cell_type": "code",
   "execution_count": 22,
   "id": "a705d6f7-ee99-4296-8af0-4187b8996df1",
   "metadata": {},
   "outputs": [
    {
     "data": {
      "text/plain": [
       "array([[18, 38, 28, 44],\n",
       "       [43,  4, 23, 48],\n",
       "       [12,  8, 15,  8],\n",
       "       [11, 25, 38, 16]], dtype=int32)"
      ]
     },
     "execution_count": 22,
     "metadata": {},
     "output_type": "execute_result"
    }
   ],
   "source": [
    "arr2 = np.random.randint(low = 1, high = 50, size = (4,4))\n",
    "arr2"
   ]
  },
  {
   "cell_type": "code",
   "execution_count": 24,
   "id": "9f623107-4bdb-4e04-b3d1-5d19dd5b7e2e",
   "metadata": {},
   "outputs": [
    {
     "name": "stdout",
     "output_type": "stream",
     "text": [
      "28\n",
      "4\n",
      "8\n"
     ]
    }
   ],
   "source": [
    "print(arr2[0][2])\n",
    "print(arr2[1][1])\n",
    "print(arr2[2][3])"
   ]
  },
  {
   "cell_type": "code",
   "execution_count": 29,
   "id": "c96884bb-0776-4a92-ab41-b841a49e4fd7",
   "metadata": {},
   "outputs": [
    {
     "name": "stdout",
     "output_type": "stream",
     "text": [
      "[[43  4 23 48]\n",
      " [12  8 15  8]]\n"
     ]
    }
   ],
   "source": [
    "#print(row slicing, column slicing)\n",
    "print(arr2[1:3:1, :])"
   ]
  },
  {
   "cell_type": "code",
   "execution_count": 30,
   "id": "4ab64f11-ee43-4eda-a89c-f775c9434180",
   "metadata": {},
   "outputs": [
    {
     "name": "stdout",
     "output_type": "stream",
     "text": [
      "[[ 4 23]\n",
      " [ 8 15]]\n"
     ]
    }
   ],
   "source": [
    "print(arr2[1:3:1, 1:3:1])"
   ]
  },
  {
   "cell_type": "code",
   "execution_count": 52,
   "id": "de8f2206-f37e-4baf-8b3b-1fa4ff6b5c2a",
   "metadata": {},
   "outputs": [
    {
     "data": {
      "text/plain": [
       "array([[[24,  2, 25, 11],\n",
       "        [32, 44, 36,  7],\n",
       "        [11, 13, 23, 48],\n",
       "        [49, 43, 49, 33]],\n",
       "\n",
       "       [[ 9, 22,  9, 41],\n",
       "        [35, 28, 47, 23],\n",
       "        [38, 29, 39, 30],\n",
       "        [ 2, 24, 32, 41]]], dtype=int32)"
      ]
     },
     "execution_count": 52,
     "metadata": {},
     "output_type": "execute_result"
    }
   ],
   "source": [
    "arr3 = np.random.randint(low = 1, high = 50, size = (2,4,4))\n",
    "arr3"
   ]
  },
  {
   "cell_type": "code",
   "execution_count": 53,
   "id": "99014ec2-f783-45ca-83a2-3bc41c3439f7",
   "metadata": {},
   "outputs": [
    {
     "name": "stdout",
     "output_type": "stream",
     "text": [
      "[11 13 23 48]\n",
      "[35 28 47 23]\n"
     ]
    }
   ],
   "source": [
    "print(arr3[0][2])\n",
    "print(arr3[1][1])"
   ]
  },
  {
   "cell_type": "code",
   "execution_count": 54,
   "id": "d562c530-6e1a-4395-af8a-032dc374f83e",
   "metadata": {},
   "outputs": [
    {
     "name": "stdout",
     "output_type": "stream",
     "text": [
      "23\n",
      "7\n",
      "39\n",
      "35\n"
     ]
    }
   ],
   "source": [
    "print(arr3[0,2,2])\n",
    "print(arr3[0,1,3])\n",
    "print(arr3[1,2,2])\n",
    "print(arr3[1,1,0])"
   ]
  },
  {
   "cell_type": "code",
   "execution_count": 55,
   "id": "bb5dc2b2-0322-42b6-97d7-6c5434b9bf99",
   "metadata": {},
   "outputs": [
    {
     "name": "stdout",
     "output_type": "stream",
     "text": [
      "[[24  2]\n",
      " [32 44]]\n"
     ]
    }
   ],
   "source": [
    "print(arr3[0,:2,:2])"
   ]
  },
  {
   "cell_type": "code",
   "execution_count": 56,
   "id": "2171a34c-cff3-4b21-9140-3fbb4a870c27",
   "metadata": {},
   "outputs": [
    {
     "name": "stdout",
     "output_type": "stream",
     "text": [
      "[[[24  2 25 11]\n",
      "  [32 44 36  7]\n",
      "  [11 13 23 48]\n",
      "  [49 43 49 33]]]\n"
     ]
    }
   ],
   "source": [
    "print(arr3[::2,:4,:4])"
   ]
  },
  {
   "cell_type": "code",
   "execution_count": 59,
   "id": "c41e1a1b-314f-484b-9ae6-b94908ac1ec3",
   "metadata": {},
   "outputs": [
    {
     "name": "stdout",
     "output_type": "stream",
     "text": [
      "[[ 9 22  9]\n",
      " [35 28 47]]\n"
     ]
    }
   ],
   "source": [
    "print(arr3[-1, 0:-2,:3])"
   ]
  },
  {
   "cell_type": "code",
   "execution_count": 49,
   "id": "72de12a8-ce7f-4d48-84a1-13b6db465742",
   "metadata": {},
   "outputs": [
    {
     "name": "stdout",
     "output_type": "stream",
     "text": [
      "[[[30 14  5  1]\n",
      "  [27 39 48 38]\n",
      "  [ 7 35  1  1]\n",
      "  [10 15 13  8]]\n",
      "\n",
      " [[27 23 15 11]\n",
      "  [20 42 42 36]\n",
      "  [32 22 38 40]\n",
      "  [31 32  2  8]]]\n",
      "[[[10 15 13  8]\n",
      "  [ 7 35  1  1]\n",
      "  [27 39 48 38]\n",
      "  [30 14  5  1]]\n",
      "\n",
      " [[31 32  2  8]\n",
      "  [32 22 38 40]\n",
      "  [20 42 42 36]\n",
      "  [27 23 15 11]]]\n"
     ]
    }
   ],
   "source": [
    "print(arr3[::-1,:])\n",
    "print(arr3[::-1,::-1])"
   ]
  },
  {
   "cell_type": "code",
   "execution_count": 61,
   "id": "56f779bf-38be-4837-a5ac-81411f74149e",
   "metadata": {},
   "outputs": [
    {
     "name": "stdout",
     "output_type": "stream",
     "text": [
      "[[1 2]\n",
      " [3 4]\n",
      " [5 6]]\n"
     ]
    }
   ],
   "source": [
    "a = np.array([[1,2],[3,4],[5,6]])\n",
    "print(a)"
   ]
  },
  {
   "cell_type": "code",
   "execution_count": 65,
   "id": "03518dd5-1900-4dec-b803-eb84fa8e270a",
   "metadata": {},
   "outputs": [
    {
     "name": "stdout",
     "output_type": "stream",
     "text": [
      "[[ True  True]\n",
      " [ True False]\n",
      " [False False]]\n",
      "[1 2 3]\n"
     ]
    }
   ],
   "source": [
    "mask = a < 4\n",
    "print(mask)\n",
    "print(a[mask])"
   ]
  },
  {
   "cell_type": "code",
   "execution_count": 66,
   "id": "e56fbba8-3459-4b7f-a7cf-aa82c8293870",
   "metadata": {},
   "outputs": [
    {
     "name": "stdout",
     "output_type": "stream",
     "text": [
      "[[1 2]\n",
      " [5 6]]\n"
     ]
    }
   ],
   "source": [
    "mask1 = np.array([True, False, True])\n",
    "print(a[mask1])"
   ]
  },
  {
   "cell_type": "code",
   "execution_count": null,
   "id": "c401b785-49ae-4a7f-8281-0cdf99e69c98",
   "metadata": {},
   "outputs": [],
   "source": []
  }
 ],
 "metadata": {
  "kernelspec": {
   "display_name": "Python 3 (ipykernel)",
   "language": "python",
   "name": "python3"
  },
  "language_info": {
   "codemirror_mode": {
    "name": "ipython",
    "version": 3
   },
   "file_extension": ".py",
   "mimetype": "text/x-python",
   "name": "python",
   "nbconvert_exporter": "python",
   "pygments_lexer": "ipython3",
   "version": "3.12.6"
  }
 },
 "nbformat": 4,
 "nbformat_minor": 5
}
