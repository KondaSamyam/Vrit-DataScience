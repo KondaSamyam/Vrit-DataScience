{
 "cells": [
  {
   "cell_type": "code",
   "execution_count": 1,
   "id": "35a1e072",
   "metadata": {},
   "outputs": [
    {
     "name": "stdout",
     "output_type": "stream",
     "text": [
      "Enter a Number: 6\n",
      "6 is Even\n"
     ]
    }
   ],
   "source": [
    "num = int(input(\"Enter a Number: \"))\n",
    "\n",
    "if num % 2 == 0:\n",
    "    print(f\"{num} is Even\")\n",
    "else:\n",
    "    print(f\"{num} is Odd\")"
   ]
  },
  {
   "cell_type": "code",
   "execution_count": 4,
   "id": "2e72a45a",
   "metadata": {},
   "outputs": [
    {
     "name": "stdout",
     "output_type": "stream",
     "text": [
      "Enter a Number: 1234567890\n",
      "Highest: 9, Lowest: 0\n"
     ]
    }
   ],
   "source": [
    "num = input(\"Enter a Number: \")\n",
    "\n",
    "print(f\"Highest: {max(num)}, Lowest: {min(num)}\")"
   ]
  },
  {
   "cell_type": "code",
   "execution_count": 11,
   "id": "e07f3256",
   "metadata": {},
   "outputs": [
    {
     "name": "stdout",
     "output_type": "stream",
     "text": [
      "Enter a Sentence: python is fun\n",
      "3\n"
     ]
    }
   ],
   "source": [
    "string = input(\"Enter a Sentence: \")\n",
    "\n",
    "s = string.split(sep=\" \")\n",
    "print(len(s))"
   ]
  },
  {
   "cell_type": "code",
   "execution_count": 13,
   "id": "cbb3f4d4",
   "metadata": {},
   "outputs": [
    {
     "name": "stdout",
     "output_type": "stream",
     "text": [
      "Enter a Number: 1234\n",
      "Sum: 10\n"
     ]
    }
   ],
   "source": [
    "num = int(input(\"Enter a Number: \"))\n",
    "\n",
    "res = sum(int(i) for i in str(num))\n",
    "print(f\"Sum: {res}\")"
   ]
  },
  {
   "cell_type": "code",
   "execution_count": 20,
   "id": "70022ac9",
   "metadata": {},
   "outputs": [
    {
     "name": "stdout",
     "output_type": "stream",
     "text": [
      "Enter a Year: 2004\n",
      "2004 is a leap year.\n"
     ]
    }
   ],
   "source": [
    "year = int(input(\"Enter a Year: \"))\n",
    "\n",
    "if year % 400 == 0 or year % 4 == 0 and year % 100 != 0:\n",
    "    print(f\"{year} is a leap year.\")\n",
    "else:\n",
    "    print(f\"{year} isnot a leap year.\")\n"
   ]
  },
  {
   "cell_type": "code",
   "execution_count": 22,
   "id": "c24cb4ed",
   "metadata": {},
   "outputs": [
    {
     "name": "stdout",
     "output_type": "stream",
     "text": [
      "Enter a Sentence: car\n",
      "car isnot a palindrome\n"
     ]
    }
   ],
   "source": [
    "string = input(\"Enter a Sentence: \")\n",
    "\n",
    "if string == string[::-1]:\n",
    "    print(f\"{string} is a palindrome\")\n",
    "else:\n",
    "    print(f\"{string} isnot a palindrome\")"
   ]
  },
  {
   "cell_type": "code",
   "execution_count": 25,
   "id": "0dce55e8",
   "metadata": {},
   "outputs": [
    {
     "name": "stdout",
     "output_type": "stream",
     "text": [
      "Enter a Number: 5\n",
      "120\n"
     ]
    }
   ],
   "source": [
    "num = int(input(\"Enter a Number: \"))\n",
    "n=1\n",
    "\n",
    "for i in range(1, num+1):\n",
    "    n *= i\n",
    "    \n",
    "print(n)"
   ]
  },
  {
   "cell_type": "code",
   "execution_count": 27,
   "id": "c47b5a8a",
   "metadata": {},
   "outputs": [
    {
     "name": "stdout",
     "output_type": "stream",
     "text": [
      "Enter a string: python is fun\n",
      "Number of Vowels: 3\n"
     ]
    }
   ],
   "source": [
    "string = input(\"Enter a string: \")\n",
    "a = ['a', 'e', 'i', 'o', 'u']\n",
    "count = 0\n",
    "\n",
    "for i in string:\n",
    "    if i in a:\n",
    "        count += 1\n",
    "        \n",
    "print(f\"Number of Vowels: {count}\")"
   ]
  },
  {
   "cell_type": "code",
   "execution_count": 30,
   "id": "e813a087",
   "metadata": {},
   "outputs": [
    {
     "name": "stdout",
     "output_type": "stream",
     "text": [
      "Enter a string: python is fun\n",
      "3\n"
     ]
    }
   ],
   "source": [
    "string = input(\"Enter a string: \")\n",
    "a = ['a', 'e', 'i', 'o', 'u']\n",
    "\n",
    "s = len([i for i in string if i in a])\n",
    "print(s)"
   ]
  },
  {
   "cell_type": "code",
   "execution_count": 34,
   "id": "f582e099",
   "metadata": {},
   "outputs": [
    {
     "name": "stdout",
     "output_type": "stream",
     "text": [
      "Enter a Number: 4\n",
      "1 ^ 2: 1\n",
      "2 ^ 2: 4\n",
      "3 ^ 2: 9\n",
      "4 ^ 2: 16\n"
     ]
    }
   ],
   "source": [
    "num = int(input(\"Enter a Number: \"))\n",
    "\n",
    "for i in range(1, num+1):\n",
    "    print(f\"{i} ^ 2: {i*i}\")"
   ]
  },
  {
   "cell_type": "code",
   "execution_count": 44,
   "id": "9a748ce1",
   "metadata": {},
   "outputs": [
    {
     "name": "stdout",
     "output_type": "stream",
     "text": [
      "Enter a Number: 20\n",
      "Fizz 3\n",
      "Buzz 5\n",
      "Fizz 6\n",
      "Fizz 9\n",
      "Buzz 10\n",
      "Fizz 12\n",
      "FizzBuzz 15\n",
      "Fizz 18\n"
     ]
    }
   ],
   "source": [
    "num = int(input(\"Enter a Number: \"))\n",
    "\n",
    "for i in range(1, num):\n",
    "    if i % 3 == 0 and i % 5 == 0:\n",
    "        print(\"FizzBuzz\", i)\n",
    "    elif i % 3 == 0 :\n",
    "        print(\"Fizz\", i)\n",
    "    elif i % 5 == 0:\n",
    "        print(\"Buzz\", i)"
   ]
  },
  {
   "cell_type": "code",
   "execution_count": 48,
   "id": "bc8aacf3",
   "metadata": {},
   "outputs": [
    {
     "name": "stdout",
     "output_type": "stream",
     "text": [
      "Enter a Number: 5\n",
      "1\n",
      "12\n",
      "123\n",
      "1234\n",
      "12345\n"
     ]
    }
   ],
   "source": [
    "num = int(input(\"Enter a Number: \"))\n",
    "res = \"\"\n",
    "for i in range(1, num+1):\n",
    "    res += str(i)\n",
    "    print(res)"
   ]
  },
  {
   "cell_type": "code",
   "execution_count": 56,
   "id": "ee8ad69d",
   "metadata": {},
   "outputs": [
    {
     "name": "stdout",
     "output_type": "stream",
     "text": [
      "Enter a string: python is fun\n",
      "{'python': 6, 'is': 2, 'fun': 3}\n"
     ]
    }
   ],
   "source": [
    "string = input(\"Enter a string: \")\n",
    "s = string.split()\n",
    "\n",
    "m = {i:len(i) for i in s}\n",
    "\n",
    "print(m)"
   ]
  },
  {
   "cell_type": "code",
   "execution_count": 58,
   "id": "ffada7dc",
   "metadata": {},
   "outputs": [
    {
     "name": "stdout",
     "output_type": "stream",
     "text": [
      "{'alice': 40, 'bob': 60, 'charlie': 80}\n"
     ]
    }
   ],
   "source": [
    "l1 = [\"alice\", \"bob\", \"charlie\"]\n",
    "l2 = [40, 60 ,80]\n",
    "\n",
    "l = {i: j for i, j in zip(l1,l2)}\n",
    "print(l)"
   ]
  },
  {
   "cell_type": "code",
   "execution_count": null,
   "id": "cb32419e",
   "metadata": {},
   "outputs": [],
   "source": []
  }
 ],
 "metadata": {
  "kernelspec": {
   "display_name": "Python 3 (ipykernel)",
   "language": "python",
   "name": "python3"
  },
  "language_info": {
   "codemirror_mode": {
    "name": "ipython",
    "version": 3
   },
   "file_extension": ".py",
   "mimetype": "text/x-python",
   "name": "python",
   "nbconvert_exporter": "python",
   "pygments_lexer": "ipython3",
   "version": "3.9.7"
  }
 },
 "nbformat": 4,
 "nbformat_minor": 5
}
