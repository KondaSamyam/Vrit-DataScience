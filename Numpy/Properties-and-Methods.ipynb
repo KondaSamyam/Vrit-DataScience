{
 "cells": [
  {
   "cell_type": "code",
   "execution_count": 1,
   "id": "68bee60b-9279-4955-95b2-e33d251494d9",
   "metadata": {},
   "outputs": [],
   "source": [
    "import numpy as np"
   ]
  },
  {
   "cell_type": "code",
   "execution_count": 6,
   "id": "8bd8812c-655d-4742-9125-98e97db9c0fa",
   "metadata": {},
   "outputs": [
    {
     "data": {
      "text/plain": [
       "array([[[ 1, 38, 30,  2],\n",
       "        [14, 31, 24,  7],\n",
       "        [48, 35,  9, 41],\n",
       "        [34, 39, 38, 34]],\n",
       "\n",
       "       [[ 1, 16, 42, 49],\n",
       "        [31, 49, 10, 35],\n",
       "        [23, 33, 35,  4],\n",
       "        [25, 43,  5, 23]]], dtype=int32)"
      ]
     },
     "execution_count": 6,
     "metadata": {},
     "output_type": "execute_result"
    }
   ],
   "source": [
    "arr = np.random.randint(low = 1, high = 50, size = (2,4,4))\n",
    "arr"
   ]
  },
  {
   "cell_type": "code",
   "execution_count": 7,
   "id": "fcda8717-44f7-4648-9674-44e24375c27c",
   "metadata": {},
   "outputs": [
    {
     "data": {
      "text/plain": [
       "(2, 4, 4)"
      ]
     },
     "execution_count": 7,
     "metadata": {},
     "output_type": "execute_result"
    }
   ],
   "source": [
    "arr.shape"
   ]
  },
  {
   "cell_type": "code",
   "execution_count": 9,
   "id": "c5364446-2544-4dd5-8215-74023730b46b",
   "metadata": {},
   "outputs": [
    {
     "data": {
      "text/plain": [
       "dtype('int32')"
      ]
     },
     "execution_count": 9,
     "metadata": {},
     "output_type": "execute_result"
    }
   ],
   "source": [
    "arr.dtype"
   ]
  },
  {
   "cell_type": "code",
   "execution_count": 10,
   "id": "7e340e53-935c-445f-9f8d-3ac627b0d857",
   "metadata": {},
   "outputs": [
    {
     "data": {
      "text/plain": [
       "3"
      ]
     },
     "execution_count": 10,
     "metadata": {},
     "output_type": "execute_result"
    }
   ],
   "source": [
    "arr.ndim"
   ]
  },
  {
   "cell_type": "code",
   "execution_count": 11,
   "id": "ca7cbc9d-4708-47c3-aea2-40695f630cd7",
   "metadata": {},
   "outputs": [
    {
     "data": {
      "text/plain": [
       "array([[[ 1,  1],\n",
       "        [14, 31],\n",
       "        [48, 23],\n",
       "        [34, 25]],\n",
       "\n",
       "       [[38, 16],\n",
       "        [31, 49],\n",
       "        [35, 33],\n",
       "        [39, 43]],\n",
       "\n",
       "       [[30, 42],\n",
       "        [24, 10],\n",
       "        [ 9, 35],\n",
       "        [38,  5]],\n",
       "\n",
       "       [[ 2, 49],\n",
       "        [ 7, 35],\n",
       "        [41,  4],\n",
       "        [34, 23]]], dtype=int32)"
      ]
     },
     "execution_count": 11,
     "metadata": {},
     "output_type": "execute_result"
    }
   ],
   "source": [
    "arr.T"
   ]
  },
  {
   "cell_type": "code",
   "execution_count": 12,
   "id": "283523c4-bfea-4492-ba22-eda661ea8bc6",
   "metadata": {},
   "outputs": [
    {
     "data": {
      "text/plain": [
       "array([[[ 1, 38, 30,  2],\n",
       "        [14, 31, 24,  7]],\n",
       "\n",
       "       [[48, 35,  9, 41],\n",
       "        [34, 39, 38, 34]],\n",
       "\n",
       "       [[ 1, 16, 42, 49],\n",
       "        [31, 49, 10, 35]],\n",
       "\n",
       "       [[23, 33, 35,  4],\n",
       "        [25, 43,  5, 23]]], dtype=int32)"
      ]
     },
     "execution_count": 12,
     "metadata": {},
     "output_type": "execute_result"
    }
   ],
   "source": [
    "arr.reshape(4,2,4)"
   ]
  },
  {
   "cell_type": "code",
   "execution_count": 13,
   "id": "7c4fe255-20db-4f1f-8408-05000118b875",
   "metadata": {},
   "outputs": [
    {
     "data": {
      "text/plain": [
       "array([ 1, 38, 30,  2, 14, 31, 24,  7, 48, 35,  9, 41, 34, 39, 38, 34,  1,\n",
       "       16, 42, 49, 31, 49, 10, 35, 23, 33, 35,  4, 25, 43,  5, 23],\n",
       "      dtype=int32)"
      ]
     },
     "execution_count": 13,
     "metadata": {},
     "output_type": "execute_result"
    }
   ],
   "source": [
    "arr.flatten()"
   ]
  },
  {
   "cell_type": "code",
   "execution_count": 14,
   "id": "e881dad9-873a-42cd-be26-4d7c538aab1b",
   "metadata": {},
   "outputs": [
    {
     "data": {
      "text/plain": [
       "array([ 1, 38, 30,  2, 14, 31, 24,  7, 48, 35,  9, 41, 34, 39, 38, 34,  1,\n",
       "       16, 42, 49, 31, 49, 10, 35, 23, 33, 35,  4, 25, 43,  5, 23],\n",
       "      dtype=int32)"
      ]
     },
     "execution_count": 14,
     "metadata": {},
     "output_type": "execute_result"
    }
   ],
   "source": [
    "arr.ravel()"
   ]
  },
  {
   "cell_type": "code",
   "execution_count": 15,
   "id": "336b1d65-c93e-467f-b945-a88260188969",
   "metadata": {},
   "outputs": [
    {
     "data": {
      "text/plain": [
       "np.int64(849)"
      ]
     },
     "execution_count": 15,
     "metadata": {},
     "output_type": "execute_result"
    }
   ],
   "source": [
    "arr.sum()"
   ]
  },
  {
   "cell_type": "code",
   "execution_count": 19,
   "id": "73c31dfe-4d8f-4274-b8e3-3340c4211975",
   "metadata": {},
   "outputs": [
    {
     "data": {
      "text/plain": [
       "array([[ 97, 143, 101,  84],\n",
       "       [ 80, 141,  92, 111]])"
      ]
     },
     "execution_count": 19,
     "metadata": {},
     "output_type": "execute_result"
    }
   ],
   "source": [
    "arr2 = arr.sum(axis=1)\n",
    "arr2"
   ]
  },
  {
   "cell_type": "code",
   "execution_count": 20,
   "id": "6a1982aa-5295-4f1e-b813-fd82753ffd73",
   "metadata": {},
   "outputs": [
    {
     "data": {
      "text/plain": [
       "np.int64(849)"
      ]
     },
     "execution_count": 20,
     "metadata": {},
     "output_type": "execute_result"
    }
   ],
   "source": [
    "arr2.sum()"
   ]
  },
  {
   "cell_type": "code",
   "execution_count": 21,
   "id": "8b9560ca-e76b-4217-b643-9e835ff6486d",
   "metadata": {},
   "outputs": [
    {
     "data": {
      "text/plain": [
       "np.int32(49)"
      ]
     },
     "execution_count": 21,
     "metadata": {},
     "output_type": "execute_result"
    }
   ],
   "source": [
    "arr.max()"
   ]
  },
  {
   "cell_type": "markdown",
   "id": "7492ecc0-07cb-43b4-9fe7-522f43f5ee0d",
   "metadata": {},
   "source": [
    "axis = 0 ---> column wise addition| axis = 1 ------> row wise addition"
   ]
  },
  {
   "cell_type": "code",
   "execution_count": 23,
   "id": "f98d6c1f-63db-410b-9983-24504b9a780f",
   "metadata": {},
   "outputs": [
    {
     "data": {
      "text/plain": [
       "array([[  22848, 1607970,  246240,   19516],\n",
       "       [  17825, 1112496,   73500,  157780]])"
      ]
     },
     "execution_count": 23,
     "metadata": {},
     "output_type": "execute_result"
    }
   ],
   "source": [
    "arr.prod(axis=1)"
   ]
  },
  {
   "cell_type": "code",
   "execution_count": 25,
   "id": "ea750eae-9615-41d1-8918-1e914ad56769",
   "metadata": {},
   "outputs": [
    {
     "data": {
      "text/plain": [
       "array([[2, 3, 3, 2],\n",
       "       [1, 1, 0, 0]])"
      ]
     },
     "execution_count": 25,
     "metadata": {},
     "output_type": "execute_result"
    }
   ],
   "source": [
    "arr.argmax(axis=1)"
   ]
  },
  {
   "cell_type": "code",
   "execution_count": null,
   "id": "b58a384b-7b44-4e27-9341-a2783bb476b4",
   "metadata": {},
   "outputs": [],
   "source": []
  }
 ],
 "metadata": {
  "kernelspec": {
   "display_name": "Python 3 (ipykernel)",
   "language": "python",
   "name": "python3"
  },
  "language_info": {
   "codemirror_mode": {
    "name": "ipython",
    "version": 3
   },
   "file_extension": ".py",
   "mimetype": "text/x-python",
   "name": "python",
   "nbconvert_exporter": "python",
   "pygments_lexer": "ipython3",
   "version": "3.12.6"
  }
 },
 "nbformat": 4,
 "nbformat_minor": 5
}
