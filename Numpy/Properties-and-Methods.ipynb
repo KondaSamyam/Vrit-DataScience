{
 "cells": [
  {
   "cell_type": "code",
   "execution_count": 1,
   "id": "68bee60b-9279-4955-95b2-e33d251494d9",
   "metadata": {},
   "outputs": [],
   "source": [
    "import numpy as np"
   ]
  },
  {
   "cell_type": "code",
   "execution_count": 2,
   "id": "8bd8812c-655d-4742-9125-98e97db9c0fa",
   "metadata": {},
   "outputs": [
    {
     "data": {
      "text/plain": [
       "array([[[40,  3, 39, 33],\n",
       "        [10, 20, 48, 38],\n",
       "        [ 7, 12, 18, 19],\n",
       "        [ 2, 41, 39,  5]],\n",
       "\n",
       "       [[ 7,  4, 16, 29],\n",
       "        [39, 45, 23,  1],\n",
       "        [27, 18, 21, 15],\n",
       "        [32, 27, 24,  5]]])"
      ]
     },
     "execution_count": 2,
     "metadata": {},
     "output_type": "execute_result"
    }
   ],
   "source": [
    "arr = np.random.randint(low = 1, high = 50, size = (2,4,4))\n",
    "arr"
   ]
  },
  {
   "cell_type": "code",
   "execution_count": 3,
   "id": "fcda8717-44f7-4648-9674-44e24375c27c",
   "metadata": {},
   "outputs": [
    {
     "data": {
      "text/plain": [
       "(2, 4, 4)"
      ]
     },
     "execution_count": 3,
     "metadata": {},
     "output_type": "execute_result"
    }
   ],
   "source": [
    "arr.shape"
   ]
  },
  {
   "cell_type": "code",
   "execution_count": 4,
   "id": "c5364446-2544-4dd5-8215-74023730b46b",
   "metadata": {},
   "outputs": [
    {
     "data": {
      "text/plain": [
       "dtype('int32')"
      ]
     },
     "execution_count": 4,
     "metadata": {},
     "output_type": "execute_result"
    }
   ],
   "source": [
    "arr.dtype"
   ]
  },
  {
   "cell_type": "code",
   "execution_count": 5,
   "id": "7e340e53-935c-445f-9f8d-3ac627b0d857",
   "metadata": {},
   "outputs": [
    {
     "data": {
      "text/plain": [
       "3"
      ]
     },
     "execution_count": 5,
     "metadata": {},
     "output_type": "execute_result"
    }
   ],
   "source": [
    "arr.ndim"
   ]
  },
  {
   "cell_type": "code",
   "execution_count": 6,
   "id": "ca7cbc9d-4708-47c3-aea2-40695f630cd7",
   "metadata": {},
   "outputs": [
    {
     "data": {
      "text/plain": [
       "array([[[40,  7],\n",
       "        [10, 39],\n",
       "        [ 7, 27],\n",
       "        [ 2, 32]],\n",
       "\n",
       "       [[ 3,  4],\n",
       "        [20, 45],\n",
       "        [12, 18],\n",
       "        [41, 27]],\n",
       "\n",
       "       [[39, 16],\n",
       "        [48, 23],\n",
       "        [18, 21],\n",
       "        [39, 24]],\n",
       "\n",
       "       [[33, 29],\n",
       "        [38,  1],\n",
       "        [19, 15],\n",
       "        [ 5,  5]]])"
      ]
     },
     "execution_count": 6,
     "metadata": {},
     "output_type": "execute_result"
    }
   ],
   "source": [
    "arr.T"
   ]
  },
  {
   "cell_type": "code",
   "execution_count": 7,
   "id": "283523c4-bfea-4492-ba22-eda661ea8bc6",
   "metadata": {},
   "outputs": [
    {
     "data": {
      "text/plain": [
       "array([[[40,  3, 39, 33],\n",
       "        [10, 20, 48, 38]],\n",
       "\n",
       "       [[ 7, 12, 18, 19],\n",
       "        [ 2, 41, 39,  5]],\n",
       "\n",
       "       [[ 7,  4, 16, 29],\n",
       "        [39, 45, 23,  1]],\n",
       "\n",
       "       [[27, 18, 21, 15],\n",
       "        [32, 27, 24,  5]]])"
      ]
     },
     "execution_count": 7,
     "metadata": {},
     "output_type": "execute_result"
    }
   ],
   "source": [
    "arr.reshape(4,2,4)"
   ]
  },
  {
   "cell_type": "code",
   "execution_count": 8,
   "id": "7c4fe255-20db-4f1f-8408-05000118b875",
   "metadata": {},
   "outputs": [
    {
     "data": {
      "text/plain": [
       "array([40,  3, 39, 33, 10, 20, 48, 38,  7, 12, 18, 19,  2, 41, 39,  5,  7,\n",
       "        4, 16, 29, 39, 45, 23,  1, 27, 18, 21, 15, 32, 27, 24,  5])"
      ]
     },
     "execution_count": 8,
     "metadata": {},
     "output_type": "execute_result"
    }
   ],
   "source": [
    "arr.flatten()"
   ]
  },
  {
   "cell_type": "code",
   "execution_count": 9,
   "id": "e881dad9-873a-42cd-be26-4d7c538aab1b",
   "metadata": {},
   "outputs": [
    {
     "data": {
      "text/plain": [
       "array([40,  3, 39, 33, 10, 20, 48, 38,  7, 12, 18, 19,  2, 41, 39,  5,  7,\n",
       "        4, 16, 29, 39, 45, 23,  1, 27, 18, 21, 15, 32, 27, 24,  5])"
      ]
     },
     "execution_count": 9,
     "metadata": {},
     "output_type": "execute_result"
    }
   ],
   "source": [
    "arr.ravel()"
   ]
  },
  {
   "cell_type": "code",
   "execution_count": 10,
   "id": "336b1d65-c93e-467f-b945-a88260188969",
   "metadata": {},
   "outputs": [
    {
     "data": {
      "text/plain": [
       "707"
      ]
     },
     "execution_count": 10,
     "metadata": {},
     "output_type": "execute_result"
    }
   ],
   "source": [
    "arr.sum()"
   ]
  },
  {
   "cell_type": "code",
   "execution_count": 11,
   "id": "73c31dfe-4d8f-4274-b8e3-3340c4211975",
   "metadata": {},
   "outputs": [
    {
     "data": {
      "text/plain": [
       "array([[ 59,  76, 144,  95],\n",
       "       [105,  94,  84,  50]])"
      ]
     },
     "execution_count": 11,
     "metadata": {},
     "output_type": "execute_result"
    }
   ],
   "source": [
    "arr2 = arr.sum(axis=1)\n",
    "arr2"
   ]
  },
  {
   "cell_type": "code",
   "execution_count": 12,
   "id": "6a1982aa-5295-4f1e-b813-fd82753ffd73",
   "metadata": {},
   "outputs": [
    {
     "data": {
      "text/plain": [
       "707"
      ]
     },
     "execution_count": 12,
     "metadata": {},
     "output_type": "execute_result"
    }
   ],
   "source": [
    "arr2.sum()"
   ]
  },
  {
   "cell_type": "code",
   "execution_count": 13,
   "id": "8b9560ca-e76b-4217-b643-9e835ff6486d",
   "metadata": {},
   "outputs": [
    {
     "data": {
      "text/plain": [
       "48"
      ]
     },
     "execution_count": 13,
     "metadata": {},
     "output_type": "execute_result"
    }
   ],
   "source": [
    "arr.max()"
   ]
  },
  {
   "cell_type": "markdown",
   "id": "7492ecc0-07cb-43b4-9fe7-522f43f5ee0d",
   "metadata": {},
   "source": [
    "axis = 0 ---> column wise addition| axis = 1 ------> row wise addition"
   ]
  },
  {
   "cell_type": "code",
   "execution_count": 14,
   "id": "f98d6c1f-63db-410b-9983-24504b9a780f",
   "metadata": {},
   "outputs": [
    {
     "data": {
      "text/plain": [
       "array([[   5600,   29520, 1314144,  119130],\n",
       "       [ 235872,   87480,  185472,    2175]])"
      ]
     },
     "execution_count": 14,
     "metadata": {},
     "output_type": "execute_result"
    }
   ],
   "source": [
    "arr.prod(axis=1)"
   ]
  },
  {
   "cell_type": "code",
   "execution_count": 15,
   "id": "ea750eae-9615-41d1-8918-1e914ad56769",
   "metadata": {
    "scrolled": true
   },
   "outputs": [
    {
     "data": {
      "text/plain": [
       "array([[0, 3, 1, 1],\n",
       "       [1, 1, 3, 0]], dtype=int64)"
      ]
     },
     "execution_count": 15,
     "metadata": {},
     "output_type": "execute_result"
    }
   ],
   "source": [
    "arr.argmax(axis=1)"
   ]
  },
  {
   "cell_type": "code",
   "execution_count": 17,
   "id": "bb37c832",
   "metadata": {},
   "outputs": [
    {
     "data": {
      "text/plain": [
       "array([[[40,  3, 39, 33],\n",
       "        [10, 20, 48, 38],\n",
       "        [ 7, 12, 18, 19],\n",
       "        [ 2, 41, 39,  5]],\n",
       "\n",
       "       [[ 7,  4, 16, 29],\n",
       "        [39, 45, 23,  1],\n",
       "        [27, 18, 21, 15],\n",
       "        [32, 27, 24,  5]]])"
      ]
     },
     "execution_count": 17,
     "metadata": {},
     "output_type": "execute_result"
    }
   ],
   "source": [
    "arr"
   ]
  },
  {
   "cell_type": "code",
   "execution_count": 16,
   "id": "b58a384b-7b44-4e27-9341-a2783bb476b4",
   "metadata": {},
   "outputs": [
    {
     "data": {
      "text/plain": [
       "array([ 40,  43,  82, 115, 125, 145, 193, 231, 238, 250, 268, 287, 289,\n",
       "       330, 369, 374, 381, 385, 401, 430, 469, 514, 537, 538, 565, 583,\n",
       "       604, 619, 651, 678, 702, 707])"
      ]
     },
     "execution_count": 16,
     "metadata": {},
     "output_type": "execute_result"
    }
   ],
   "source": [
    "arr.cumsum() #row wise"
   ]
  },
  {
   "cell_type": "code",
   "execution_count": 18,
   "id": "da7ef99a",
   "metadata": {},
   "outputs": [
    {
     "data": {
      "text/plain": [
       "array([[[ 40,   3,  39,  33],\n",
       "        [ 50,  23,  87,  71],\n",
       "        [ 57,  35, 105,  90],\n",
       "        [ 59,  76, 144,  95]],\n",
       "\n",
       "       [[  7,   4,  16,  29],\n",
       "        [ 46,  49,  39,  30],\n",
       "        [ 73,  67,  60,  45],\n",
       "        [105,  94,  84,  50]]])"
      ]
     },
     "execution_count": 18,
     "metadata": {},
     "output_type": "execute_result"
    }
   ],
   "source": [
    "arr.cumsum(axis = 1)  #column wise"
   ]
  },
  {
   "cell_type": "code",
   "execution_count": 19,
   "id": "a1d225d9",
   "metadata": {},
   "outputs": [],
   "source": [
    "a1 = np.random.randint(low = 1, high = 50, size = (2,3))\n",
    "a2 = np.random.randint(low = 1, high = 50, size = (2,3))"
   ]
  },
  {
   "cell_type": "code",
   "execution_count": 22,
   "id": "980364ef",
   "metadata": {},
   "outputs": [
    {
     "data": {
      "text/plain": [
       "(array([[42,  6, 19],\n",
       "        [ 5, 33, 12]]),\n",
       " array([[45,  3, 12],\n",
       "        [18, 33, 14]]))"
      ]
     },
     "execution_count": 22,
     "metadata": {},
     "output_type": "execute_result"
    }
   ],
   "source": [
    "a1, a2"
   ]
  },
  {
   "cell_type": "code",
   "execution_count": 24,
   "id": "f9a2f32a",
   "metadata": {},
   "outputs": [
    {
     "data": {
      "text/plain": [
       "array([[42,  6, 19],\n",
       "       [ 5, 33, 12],\n",
       "       [45,  3, 12],\n",
       "       [18, 33, 14]])"
      ]
     },
     "execution_count": 24,
     "metadata": {},
     "output_type": "execute_result"
    }
   ],
   "source": [
    "#Vertical stack requires same no of columns of the matrix\n",
    "np.vstack((a1, a2))"
   ]
  },
  {
   "cell_type": "code",
   "execution_count": 25,
   "id": "c2320c8e",
   "metadata": {},
   "outputs": [
    {
     "data": {
      "text/plain": [
       "array([[42,  6, 19, 45,  3, 12],\n",
       "       [ 5, 33, 12, 18, 33, 14]])"
      ]
     },
     "execution_count": 25,
     "metadata": {},
     "output_type": "execute_result"
    }
   ],
   "source": [
    "#Horizontal stack requires the same no of rows\n",
    "np.hstack((a1, a2))"
   ]
  },
  {
   "cell_type": "code",
   "execution_count": null,
   "id": "89c35b73",
   "metadata": {},
   "outputs": [],
   "source": []
  }
 ],
 "metadata": {
  "kernelspec": {
   "display_name": "Python 3 (ipykernel)",
   "language": "python",
   "name": "python3"
  },
  "language_info": {
   "codemirror_mode": {
    "name": "ipython",
    "version": 3
   },
   "file_extension": ".py",
   "mimetype": "text/x-python",
   "name": "python",
   "nbconvert_exporter": "python",
   "pygments_lexer": "ipython3",
   "version": "3.9.7"
  }
 },
 "nbformat": 4,
 "nbformat_minor": 5
}
