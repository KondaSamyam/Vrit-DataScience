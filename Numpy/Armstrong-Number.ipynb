{
 "cells": [
  {
   "cell_type": "code",
   "execution_count": 15,
   "id": "1176791e",
   "metadata": {},
   "outputs": [
    {
     "name": "stdout",
     "output_type": "stream",
     "text": [
      "Enter a Number: 371\n",
      "371 is a Armstrong Number.\n"
     ]
    }
   ],
   "source": [
    "def check_armstrong(num):\n",
    "    n = len(str(num))\n",
    "    res = sum(int(i) ** n for i in str(num))\n",
    "    if res == num: \n",
    "        return f\"{num} is a Armstrong Number.\"\n",
    "    else:\n",
    "        return f\"{num} isnot a Armstrong Number.\"\n",
    "    \n",
    "num = int(input(\"Enter a Number: \"))\n",
    "n = check_armstrong(num)\n",
    "print(n)"
   ]
  },
  {
   "cell_type": "code",
   "execution_count": 22,
   "id": "f7747a74",
   "metadata": {},
   "outputs": [
    {
     "name": "stdout",
     "output_type": "stream",
     "text": [
      "Enter a Number: 371\n",
      "371 is a Armstrong Number.\n",
      "Time Taken: 0.0\n"
     ]
    }
   ],
   "source": [
    "import time\n",
    "\n",
    "def check_armstrong(num):\n",
    "    n = len(str(num))\n",
    "    i = 0\n",
    "    res = 0\n",
    "    while i < n:\n",
    "        a = int(str(num)[i])\n",
    "        res += a ** n\n",
    "        i += 1\n",
    "        \n",
    "    if res == num: \n",
    "        return f\"{num} is a Armstrong Number.\"\n",
    "    else:\n",
    "        return f\"{num} isnot a Armstrong Number.\"\n",
    "    \n",
    "num = int(input(\"Enter a Number: \"))\n",
    "start = time.time()\n",
    "n = check_armstrong(num)\n",
    "end = time.time()\n",
    "print(n)\n",
    "print(f\"Time Taken: {end - start}\")\n"
   ]
  },
  {
   "cell_type": "code",
   "execution_count": null,
   "id": "8702dd7b",
   "metadata": {},
   "outputs": [],
   "source": []
  }
 ],
 "metadata": {
  "kernelspec": {
   "display_name": "Python 3 (ipykernel)",
   "language": "python",
   "name": "python3"
  },
  "language_info": {
   "codemirror_mode": {
    "name": "ipython",
    "version": 3
   },
   "file_extension": ".py",
   "mimetype": "text/x-python",
   "name": "python",
   "nbconvert_exporter": "python",
   "pygments_lexer": "ipython3",
   "version": "3.9.7"
  }
 },
 "nbformat": 4,
 "nbformat_minor": 5
}
