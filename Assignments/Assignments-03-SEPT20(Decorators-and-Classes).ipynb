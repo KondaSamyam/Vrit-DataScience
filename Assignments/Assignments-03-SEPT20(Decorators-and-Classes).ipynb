{
 "cells": [
  {
   "cell_type": "markdown",
   "id": "7e76d9b4",
   "metadata": {},
   "source": [
    "# Problem Statement\n",
    "\n",
    "We want to build an online shopping cart system that allows users to add products to their cart, calculate the total cost, apply discounts, and generate an invoice. The system should include the following functionalities:\n",
    "\n",
    "- Adding products to the cart\n",
    "- Removing products from the cart\n",
    "- Calculating the total cost\n",
    "- Applying discounts based on user type\n",
    "- Generating an invoice\n",
    "\n",
    "### 1. Create the Product class\n",
    "\n",
    "We create a basic `Product` class with attributes for the product name and price."
   ]
  },
  {
   "cell_type": "code",
   "execution_count": 59,
   "id": "a286f01a",
   "metadata": {},
   "outputs": [],
   "source": [
    "class Product:\n",
    "    def __init__(self, name, price):\n",
    "        self.__name = name\n",
    "        self.__price = price\n",
    "\n",
    "    def get_product(self):\n",
    "        return self.__name, self.__price"
   ]
  },
  {
   "cell_type": "markdown",
   "id": "0c9aa397",
   "metadata": {},
   "source": [
    "### 2.  Implement the User class\n",
    "\n",
    "In this step, we create a `User` class with attributes for the user's name and whether they are a premium member. We then modify the `calculate_total_cost` method in the `ShoppingCart` class to apply a `10%` discount for premium users."
   ]
  },
  {
   "cell_type": "code",
   "execution_count": 672,
   "id": "e007527e-343c-45a0-9882-aa73b755c095",
   "metadata": {},
   "outputs": [],
   "source": [
    "class User:\n",
    "    def __init__(self, name, premium_member = \"False\"):\n",
    "        self.__name = name\n",
    "        self.__member = premium_member\n",
    "\n",
    "    def get_details(self):\n",
    "        return self.__name, self.__member\n",
    "\n",
    "    @property\n",
    "    def member(self):\n",
    "        return self.__member\n",
    "        \n",
    "    @member.setter   \n",
    "    def member(self, value):\n",
    "        print(\"Changing Membership....\")\n",
    "        self.__member = value"
   ]
  },
  {
   "cell_type": "code",
   "execution_count": null,
   "id": "3393e953",
   "metadata": {},
   "outputs": [],
   "source": []
  },
  {
   "cell_type": "markdown",
   "id": "3b7e070b",
   "metadata": {},
   "source": [
    "### 3. Create the ShoppingCart class\n",
    "\n",
    "In this step, we create a `ShoppingCart` class with methods for adding and removing products from the cart, as well as calculating the total cost of the items in the cart."
   ]
  },
  {
   "cell_type": "code",
   "execution_count": 673,
   "id": "c0b5196d",
   "metadata": {},
   "outputs": [],
   "source": [
    "class ShoppingCart:\n",
    "    def __init__(self, user):\n",
    "        self.__user = user\n",
    "        self.__cart = []\n",
    "        self.__name, self.is_member = self.__user.get_details()\n",
    "\n",
    "    def add_product(self, product):\n",
    "        name, price = Product.get_product(product)\n",
    "        if name:\n",
    "            self.__cart.append((name, price))\n",
    "            print(f\"{name} has been added to the cart!\")\n",
    "        else:\n",
    "            print(\"Product not Available!\")\n",
    "\n",
    "    def remove_product(self, product):\n",
    "        name, price = Product.get_product(product)\n",
    "        if (name, price) in self.__cart:\n",
    "            self.__cart.remove((name, price))\n",
    "            print(f\"{name} has been removed from the cart!\")\n",
    "        else:\n",
    "            print(\"Product not added in cart!\")\n",
    "\n",
    "    def get_details(self):\n",
    "        return self.__name, self.is_member, self.__cart\n",
    "\n",
    "    @discount_10_percent\n",
    "    def calculate_total_cost(self):\n",
    "        return sum(price for name, price in self.__cart)\n"
   ]
  },
  {
   "cell_type": "markdown",
   "id": "da1f3494",
   "metadata": {},
   "source": [
    "Here, we defined a decorator `discount_10_percent` that applies a `10%` discount to the total cost. We then apply this decorator to the `calculate_total_cost` method in the `ShoppingCart` class."
   ]
  },
  {
   "cell_type": "code",
   "execution_count": 674,
   "id": "70bbec8d",
   "metadata": {},
   "outputs": [],
   "source": [
    "def discount_10_percent(func):\n",
    "    def wrapper(self,*args, **kwargs):\n",
    "        if self.is_member:\n",
    "            result = func(self, *args, **kwargs)\n",
    "            res = result * 0.9\n",
    "            return res\n",
    "        else:\n",
    "            result = func(self, *args, **kwargs)\n",
    "            return result\n",
    "    return wrapper"
   ]
  },
  {
   "cell_type": "markdown",
   "id": "afc26053",
   "metadata": {},
   "source": [
    "### 4. Testing the functionality\n",
    "\n",
    "Now that we have implemented the necessary classes and methods, let's test our online shopping cart system:"
   ]
  },
  {
   "cell_type": "code",
   "execution_count": 675,
   "id": "6186bdcb",
   "metadata": {},
   "outputs": [],
   "source": [
    "a = Product(\"Apple\", 10)\n",
    "b = Product(\"Banana\", 20)\n",
    "c = Product(\"Cherry\", 15)"
   ]
  },
  {
   "cell_type": "code",
   "execution_count": 676,
   "id": "f8d69fc4-f355-4266-b556-d3ff84479a91",
   "metadata": {},
   "outputs": [],
   "source": [
    "user = User(\"Sam\", premium_member=True)\n",
    "user1 = User(\"Bob\", premium_member=False)"
   ]
  },
  {
   "cell_type": "code",
   "execution_count": 677,
   "id": "4fa36953-59a7-4828-bc39-f9f4877fcd87",
   "metadata": {},
   "outputs": [],
   "source": [
    "cart = ShoppingCart(user)\n",
    "cart1 = ShoppingCart(user1)"
   ]
  },
  {
   "cell_type": "code",
   "execution_count": 678,
   "id": "6752826b-cd12-48d7-b7bd-5aaf67d15950",
   "metadata": {},
   "outputs": [
    {
     "name": "stdout",
     "output_type": "stream",
     "text": [
      "Apple has been added to the cart!\n",
      "Banana has been added to the cart!\n",
      "Cherry has been added to the cart!\n",
      "('Sam', True, [('Apple', 10), ('Banana', 20), ('Cherry', 15)])\n"
     ]
    }
   ],
   "source": [
    "cart.add_product(a)\n",
    "cart.add_product(b)\n",
    "cart.add_product(c)\n",
    "print(cart.get_details())"
   ]
  },
  {
   "cell_type": "code",
   "execution_count": 679,
   "id": "4b0030a9-3d5f-4830-a122-5e443f62223f",
   "metadata": {},
   "outputs": [
    {
     "name": "stdout",
     "output_type": "stream",
     "text": [
      "Apple has been removed from the cart!\n",
      "('Sam', True, [('Banana', 20), ('Cherry', 15)])\n"
     ]
    }
   ],
   "source": [
    "cart.remove_product(a)\n",
    "print(cart.get_details())"
   ]
  },
  {
   "cell_type": "code",
   "execution_count": 680,
   "id": "1fe7472c-c40a-4e7f-90fb-4bf78f0014dc",
   "metadata": {},
   "outputs": [
    {
     "data": {
      "text/plain": [
       "31.5"
      ]
     },
     "execution_count": 680,
     "metadata": {},
     "output_type": "execute_result"
    }
   ],
   "source": [
    "cart.calculate_total_cost()"
   ]
  },
  {
   "cell_type": "code",
   "execution_count": 681,
   "id": "f8942ade-972f-4d13-96a8-7c5beb030ffc",
   "metadata": {},
   "outputs": [
    {
     "name": "stdout",
     "output_type": "stream",
     "text": [
      "Apple has been added to the cart!\n",
      "Banana has been added to the cart!\n",
      "Cherry has been added to the cart!\n",
      "('Bob', False, [('Apple', 10), ('Banana', 20), ('Cherry', 15)])\n"
     ]
    }
   ],
   "source": [
    "cart1.add_product(a)\n",
    "cart1.add_product(b)\n",
    "cart1.add_product(c)\n",
    "print(cart1.get_details())"
   ]
  },
  {
   "cell_type": "code",
   "execution_count": 682,
   "id": "fce91fa6-c723-4719-8f60-94451944087c",
   "metadata": {},
   "outputs": [
    {
     "name": "stdout",
     "output_type": "stream",
     "text": [
      "Cherry has been removed from the cart!\n",
      "('Bob', False, [('Apple', 10), ('Banana', 20)])\n"
     ]
    }
   ],
   "source": [
    "cart1.remove_product(c)\n",
    "print(cart1.get_details())"
   ]
  },
  {
   "cell_type": "code",
   "execution_count": 683,
   "id": "e13c31a0-02de-48b3-9052-c5a39b20fd18",
   "metadata": {},
   "outputs": [
    {
     "data": {
      "text/plain": [
       "30"
      ]
     },
     "execution_count": 683,
     "metadata": {},
     "output_type": "execute_result"
    }
   ],
   "source": [
    "cart1.calculate_total_cost()"
   ]
  },
  {
   "cell_type": "markdown",
   "id": "7ea7c96e",
   "metadata": {},
   "source": [
    "### 5. Generating Invoice for a given cart"
   ]
  },
  {
   "cell_type": "code",
   "execution_count": 684,
   "id": "3c12ae69",
   "metadata": {
    "scrolled": true
   },
   "outputs": [],
   "source": [
    "def generate_invoice(cart):\n",
    "    name, member, cart_items = cart.get_details()\n",
    "    print(\"Invoice\")\n",
    "    print(f\"User: {name}\")\n",
    "    print(f\"Membership: {\"Premium\" if member == True else \"None\"}\")\n",
    "    print(\"Items\")\n",
    "    print(\"-----------------\")\n",
    "    for name, price in cart_items:\n",
    "        print(f\"{name}: Rs {price}\")\n",
    "    print(\"-----------------\")\n",
    "    print(f\"Discount: {\"10%\" if member == True else \"0%\"}\")\n",
    "    print(f\"Total: {cart.calculate_total_cost()}\")"
   ]
  },
  {
   "cell_type": "code",
   "execution_count": 685,
   "id": "24af94e3-4e76-494d-92dc-e8130207fa28",
   "metadata": {},
   "outputs": [
    {
     "name": "stdout",
     "output_type": "stream",
     "text": [
      "Invoice\n",
      "User: Sam\n",
      "Membership: Premium\n",
      "Items\n",
      "-----------------\n",
      "Banana: Rs 20\n",
      "Cherry: Rs 15\n",
      "-----------------\n",
      "Discount: 10%\n",
      "Total: 31.5\n"
     ]
    }
   ],
   "source": [
    "generate_invoice(cart)"
   ]
  },
  {
   "cell_type": "code",
   "execution_count": 686,
   "id": "f5d0c276-85e0-4a39-9aee-2fa4a70f2707",
   "metadata": {},
   "outputs": [
    {
     "name": "stdout",
     "output_type": "stream",
     "text": [
      "Invoice\n",
      "User: Bob\n",
      "Membership: None\n",
      "Items\n",
      "-----------------\n",
      "Apple: Rs 10\n",
      "Banana: Rs 20\n",
      "-----------------\n",
      "Discount: 0%\n",
      "Total: 30\n"
     ]
    }
   ],
   "source": [
    "generate_invoice(cart1)"
   ]
  },
  {
   "cell_type": "markdown",
   "id": "b602d561-09a8-4086-9295-dce1e8dacb71",
   "metadata": {},
   "source": [
    "### 6. Bonus Challenge"
   ]
  },
  {
   "cell_type": "markdown",
   "id": "cd2cf83b",
   "metadata": {},
   "source": [
    "In this case each user share the same cart, which is useless. Also each user can register himself/herself as a premium user, which is not practical again. So, you have to add following two additional features to the above program, to make it more real:\n",
    "\n",
    "1. Cart for a user should be independent from other users\n",
    "2. Add a new admin feature `is_admin` that takes in boolean values `[True, False]`, and only admin should be allowed to create other admins and set `is_premium=True` for other users"
   ]
  },
  {
   "cell_type": "code",
   "execution_count": 698,
   "id": "59e0bc19-36f6-4f4f-9d96-994e0dc19b59",
   "metadata": {},
   "outputs": [],
   "source": [
    "user2 = User(\"Harry\")\n",
    "user3 = User(\"Mark\")"
   ]
  },
  {
   "cell_type": "code",
   "execution_count": 699,
   "id": "4ae3d654-87d8-4402-a951-2cefa122a809",
   "metadata": {},
   "outputs": [
    {
     "name": "stdout",
     "output_type": "stream",
     "text": [
      "False\n"
     ]
    }
   ],
   "source": [
    "print(user2.member)"
   ]
  },
  {
   "cell_type": "code",
   "execution_count": 700,
   "id": "17b4acab-9880-4884-bb82-132dcd5bc859",
   "metadata": {},
   "outputs": [],
   "source": [
    "class Admin(User):\n",
    "    def __init__(self, name, is_admin = True):\n",
    "        self.__name = name\n",
    "        self.__is_admin = is_admin\n",
    "\n",
    "    def create_admin(self, user):\n",
    "        if self.__is_admin:\n",
    "            #user.__is_admin = True\n",
    "            print(\"New Admin Created\")\n",
    "            return Admin(user)\n",
    "        else:\n",
    "            print(\"User isnot Authorized\")\n",
    "\n",
    "    def set_premium(self, user):\n",
    "        user.member = True\n",
    "        #name, member=  user.get_details()\n",
    "        #member = True\n",
    "\n",
    "    def get_details(self):\n",
    "        return f\"{self.__name} is {\"Admin\" if self.__is_admin else \"Not Admin\"}\""
   ]
  },
  {
   "cell_type": "code",
   "execution_count": 701,
   "id": "328526fa-a59c-4531-b4ff-560d7036506e",
   "metadata": {},
   "outputs": [],
   "source": [
    "admin = Admin(\"Alice\")"
   ]
  },
  {
   "cell_type": "code",
   "execution_count": 702,
   "id": "4951f2cf-82f4-4c5f-bbba-8cbf83d8a66d",
   "metadata": {},
   "outputs": [
    {
     "data": {
      "text/plain": [
       "'Alice is Admin'"
      ]
     },
     "execution_count": 702,
     "metadata": {},
     "output_type": "execute_result"
    }
   ],
   "source": [
    "admin.get_details()"
   ]
  },
  {
   "cell_type": "code",
   "execution_count": 703,
   "id": "008e242f-f7e0-4d8d-8fdc-87d161e53f76",
   "metadata": {},
   "outputs": [
    {
     "name": "stdout",
     "output_type": "stream",
     "text": [
      "New Admin Created\n"
     ]
    }
   ],
   "source": [
    "admin2 = admin.create_admin(\"Scott\")"
   ]
  },
  {
   "cell_type": "code",
   "execution_count": 693,
   "id": "4ea74fb3-6b52-4f63-a227-dafc9073a808",
   "metadata": {},
   "outputs": [
    {
     "data": {
      "text/plain": [
       "'Scott is Admin'"
      ]
     },
     "execution_count": 693,
     "metadata": {},
     "output_type": "execute_result"
    }
   ],
   "source": [
    "admin2.get_details()"
   ]
  },
  {
   "cell_type": "code",
   "execution_count": 705,
   "id": "04bf72ff-d311-4946-9e4a-d338be196cb5",
   "metadata": {},
   "outputs": [
    {
     "name": "stdout",
     "output_type": "stream",
     "text": [
      "Changing Membership....\n"
     ]
    }
   ],
   "source": [
    "admin.set_premium(user3)"
   ]
  },
  {
   "cell_type": "code",
   "execution_count": 706,
   "id": "564ed4bb-db98-42cb-9385-ac24b09aec78",
   "metadata": {},
   "outputs": [
    {
     "name": "stdout",
     "output_type": "stream",
     "text": [
      "True\n"
     ]
    }
   ],
   "source": [
    "print(user3.member)"
   ]
  },
  {
   "cell_type": "code",
   "execution_count": 707,
   "id": "5135026a-51a3-4d3d-bbe4-71636d7a2767",
   "metadata": {},
   "outputs": [
    {
     "name": "stdout",
     "output_type": "stream",
     "text": [
      "Changing Membership....\n"
     ]
    }
   ],
   "source": [
    "user3.member = False"
   ]
  },
  {
   "cell_type": "code",
   "execution_count": 708,
   "id": "7910b295-e788-43a1-ac0f-bf85bc94929e",
   "metadata": {},
   "outputs": [
    {
     "name": "stdout",
     "output_type": "stream",
     "text": [
      "False\n"
     ]
    }
   ],
   "source": [
    "print(user3.member)"
   ]
  },
  {
   "cell_type": "code",
   "execution_count": 709,
   "id": "573c8151-74c9-4428-9899-f09cd2f3edf2",
   "metadata": {},
   "outputs": [
    {
     "name": "stdout",
     "output_type": "stream",
     "text": [
      "Changing Membership....\n"
     ]
    }
   ],
   "source": [
    "admin2.set_premium(user3)"
   ]
  },
  {
   "cell_type": "code",
   "execution_count": 710,
   "id": "784dc651-90e0-4d40-9a5f-bab7f0df377c",
   "metadata": {},
   "outputs": [
    {
     "name": "stdout",
     "output_type": "stream",
     "text": [
      "True\n"
     ]
    }
   ],
   "source": [
    "print(user3.member)"
   ]
  },
  {
   "cell_type": "code",
   "execution_count": null,
   "id": "0a91aabc-4f6a-4864-8ecb-8eb1fe2f0c9c",
   "metadata": {},
   "outputs": [],
   "source": []
  }
 ],
 "metadata": {
  "kernelspec": {
   "display_name": "Python 3 (ipykernel)",
   "language": "python",
   "name": "python3"
  },
  "language_info": {
   "codemirror_mode": {
    "name": "ipython",
    "version": 3
   },
   "file_extension": ".py",
   "mimetype": "text/x-python",
   "name": "python",
   "nbconvert_exporter": "python",
   "pygments_lexer": "ipython3",
   "version": "3.12.6"
  }
 },
 "nbformat": 4,
 "nbformat_minor": 5
}
