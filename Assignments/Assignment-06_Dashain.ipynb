{
 "cells": [
  {
   "cell_type": "markdown",
   "metadata": {},
   "source": [
    "## Python Programming Language Assignment"
   ]
  },
  {
   "cell_type": "markdown",
   "metadata": {},
   "source": [
    "#### **Instructions**:\n",
    "- Solve each problem using Python. Ensure that your code is efficient and handles exceptions where applicable.\n",
    "- Solutions should be submitted in a well-structured `.py` file or Jupyter Notebook with clear comments.\n",
    "- You are encouraged to research, but the code must be your own.\n"
   ]
  },
  {
   "cell_type": "markdown",
   "metadata": {},
   "source": [
    "### **Problem 1: Numerical Operations and String Manipulation**  \n",
    "Write a Python program that:\n",
    "1. Accepts two numbers (int or float) as input and performs the following:\n",
    "   - **Exponentiation** using both `**` and `pow()`.\n",
    "   - Calculates the **modulus** of both numbers.\n",
    "   - Computes the **floor** and **ceiling** of the division of the two numbers using the `math` module.\n",
    "2. Asks the user to input a string. The program should:\n",
    "   - Count the frequency of each character using a dictionary.\n",
    "   - Identify the character that occurs the most and print it.\n",
    "   - Convert the string into an acronym by taking the first letter of each word (handle multi-word strings)."
   ]
  },
  {
   "cell_type": "code",
   "execution_count": 63,
   "metadata": {},
   "outputs": [],
   "source": [
    "import math"
   ]
  },
  {
   "cell_type": "code",
   "execution_count": 2,
   "metadata": {},
   "outputs": [],
   "source": [
    "def numerical(num1, num2):\n",
    "    \"\"\"\n",
    "    Parameters:\n",
    "    num1: First Number by user\n",
    "    num2: Second Number by user\n",
    "    ----------------------------\n",
    "    Returns:\n",
    "    exp1: Exponentiation using **\n",
    "    exp2: Exponentiation using pow()\n",
    "    mod1: Modulus of both numbers\n",
    "    floor1: floor of the division of the two numbers\n",
    "    ceiling1: ceiling of the division of the two numbers\n",
    "    \"\"\"\n",
    "\n",
    "    exp1 = num1 ** num2\n",
    "    exp2 = pow(num1, num2)\n",
    "    mod1 = num1 % num2\n",
    "    floor1 = math.floor(num1/num2)\n",
    "    ceiling1 = math.ceil(num1/num2) \n",
    "    print(f\"Exponentiation using **: {num1} ** {num2} = {exp1}\")\n",
    "    print(f\"Exponentiation using pow(): pow(num1, num2) = {exp2}\")\n",
    "    print(f\"Modulus of both numbers: num1 % num2 = {mod1}\")\n",
    "    print(f\"Floor of the division of the two numbers: math.floor(num1/num2) = {floor1}\")\n",
    "    print(f\"Ceiling of the division of the two numbers: math.ceil(num1/num2) = {ceiling1}\")\n",
    "\n",
    "    return"
   ]
  },
  {
   "cell_type": "code",
   "execution_count": 4,
   "metadata": {},
   "outputs": [
    {
     "name": "stdin",
     "output_type": "stream",
     "text": [
      "Enter a Integer:  8\n",
      "Enter a Integer:  2\n"
     ]
    },
    {
     "name": "stdout",
     "output_type": "stream",
     "text": [
      "Exponentiation using **: 8 ** 2 = 64\n",
      "Exponentiation using pow(): pow(num1, num2) = 64\n",
      "Modulus of both numbers: num1 % num2 = 0\n",
      "Floor of the division of the two numbers: math.floor(num1/num2) = 4\n",
      "Ceiling of the division of the two numbers: math.ceil(num1/num2) = 4\n"
     ]
    }
   ],
   "source": [
    "try:\n",
    "    num1 = int(input(\"Enter a Integer: \"))\n",
    "    num2 = int(input(\"Enter a Integer: \"))\n",
    "    numerical(num1, num2)\n",
    "except Exception as ex:\n",
    "    print(\"Error Occured!! \\nERROR:\", ex)"
   ]
  },
  {
   "cell_type": "code",
   "execution_count": 5,
   "metadata": {},
   "outputs": [],
   "source": [
    "def string_manipulation(string):\n",
    "    \"\"\"\n",
    "    Parameters:\n",
    "    string: String input by user\n",
    "    ----------------------------\n",
    "    Returns:\n",
    "    char_dict: Dictionary of Frequency of characters\n",
    "    most_char: Most frequent Character\n",
    "    acronym: Acrronym of the user input\n",
    "    \"\"\"\n",
    "    \n",
    "    acronym = \"\"\n",
    "    string = string.strip()\n",
    "    words = string.split()\n",
    "    char_dict = {i:string.count(i) for chars in words for i in chars }\n",
    "    print(f\"Frequency of Characters: {char_dict}\")\n",
    "    \n",
    "    most_char = max(char_dict, key=char_dict.get)\n",
    "    print(f\"Most Frequent Character: {most_char}, {char_dict[most_char]} Times.\")\n",
    "\n",
    "    acronym = \"\".join(a[0].upper() for a in words)\n",
    "    print(f\"Acronym of '{string}': {acronym}\")"
   ]
  },
  {
   "cell_type": "code",
   "execution_count": 6,
   "metadata": {},
   "outputs": [
    {
     "name": "stdin",
     "output_type": "stream",
     "text": [
      "Enter a String:  Python is fun\n"
     ]
    },
    {
     "name": "stdout",
     "output_type": "stream",
     "text": [
      "Frequency of Characters: {'P': 1, 'y': 1, 't': 1, 'h': 1, 'o': 1, 'n': 2, 'i': 1, 's': 1, 'f': 1, 'u': 1}\n",
      "Most Frequent Character: n, 2 Times.\n",
      "Acronym of 'Python is fun': PIF\n"
     ]
    }
   ],
   "source": [
    "try:\n",
    "    str_input = input(\"Enter a String: \")\n",
    "    string_manipulation(str_input)\n",
    "except Exception as ex:\n",
    "    print(\"Error Occured!!\", ex)"
   ]
  },
  {
   "cell_type": "markdown",
   "metadata": {},
   "source": [
    "### **Problem 2: Nested Data Structures with Lists and Tuples**  \n",
    "You are given a nested list of tuples representing product sales data. Each tuple contains the product name, sales quantity, and price per unit:\n",
    "```python\n",
    "sales_data = [('Laptop', 30, 1500), ('Tablet', 50, 600), ('Smartphone', 120, 800)]\n",
    "```\n",
    "Write a program that:\n",
    "1. Calculates the **total revenue** for each product and stores it in a new list.\n",
    "2. Sorts the list of tuples by total revenue in **descending order**.\n",
    "3. Converts this list into a **tuple of tuples** and performs the following:\n",
    "   - Find the product with the **maximum total revenue**.\n",
    "   - Extract a **sub-tuple** containing the top 2 products by revenue."
   ]
  },
  {
   "cell_type": "code",
   "execution_count": 83,
   "metadata": {},
   "outputs": [],
   "source": [
    "def sales(data):\n",
    "    \"\"\"\n",
    "    Parameters:\n",
    "    data: List of tuples where each tuple contains the product name, sales quantity, and price per unit\n",
    "    ----------------------------\n",
    "    Returns:\n",
    "    total_revenue: List of tuples where each tuple contains the product name and total revenue\n",
    "    sorted_total_revenue: total_revenue sorted in descending order\n",
    "    tup_total_revenue: sorted_total_revenue converted to a tuple of tuples\n",
    "    maximum_total_revenue: stores the tuple of the product which has the maximum revenue\n",
    "    top_2_product: stores the top 2 product with the highest total revenue\n",
    "    \"\"\"\n",
    "    total_revenue = [(item[0], item[1] * item[2]) for item in data]\n",
    "    sorted_total_revenue = sorted(total_revenue, key= lambda x:x[1], reverse=True)\n",
    "\n",
    "    print(\"Total Revenue of each product:\")\n",
    "    for t in sorted_total_revenue:\n",
    "        print(f\"{t[0]}: {t[1]}\")\n",
    "    print(\"--------------------------------\")\n",
    "    \n",
    "    tup_total_revenue = tuple(sorted_total_revenue)\n",
    "    #print(tup_total_revenue)\n",
    "    maximum_total_revenue = max(tup_total_revenue, key=lambda x:x[1])\n",
    "    print(f\"Product with maximum total revenue: {maximum_total_revenue[0]} = {maximum_total_revenue[1]}\")\n",
    "    print(\"--------------------------------\")\n",
    "\n",
    "    top_2_product = tup_total_revenue[:2]\n",
    "    print(\"Top 2 product by Revenue:\")\n",
    "    for top2 in top_2_product:\n",
    "        print(f\"{top2[0]}: {top2[1]}\")"
   ]
  },
  {
   "cell_type": "code",
   "execution_count": 84,
   "metadata": {},
   "outputs": [
    {
     "name": "stdout",
     "output_type": "stream",
     "text": [
      "Total Revenue of each product:\n",
      "Smartphone: 96000\n",
      "Laptop: 45000\n",
      "Tablet: 30000\n",
      "--------------------------------\n",
      "Product with maximum total revenue: Smartphone = 96000\n",
      "--------------------------------\n",
      "Top 2 product by Revenue:\n",
      "Smartphone: 96000\n",
      "Laptop: 45000\n"
     ]
    }
   ],
   "source": [
    "sales_data = [('Laptop', 30, 1500), ('Tablet', 50, 600), ('Smartphone', 120, 800)]\n",
    "sales(sales_data)"
   ]
  },
  {
   "cell_type": "markdown",
   "metadata": {},
   "source": [
    "### **Problem 3: Set Operations with Unique Data and Optimization**  \n",
    "You have two sets representing the IDs of users who logged into a system over two different weeks:\n",
    "```python\n",
    "week1 = {1001, 1002, 1003, 1004, 1005}\n",
    "week2 = {1003, 1004, 1005, 1006, 1007}\n",
    "```\n",
    "Write a Python program that:\n",
    "1. Identifies users who logged in during **both weeks** and stores them in a new set.\n",
    "2. Computes the **symmetric difference** (users who logged in only in one of the weeks).\n",
    "3. Optimizes set operations by handling cases where sets could be very large. Use `timeit` to compare the performance of your set operations.\n",
    "4. Write an explanation of the performance differences you observe."
   ]
  },
  {
   "cell_type": "code",
   "execution_count": 122,
   "metadata": {},
   "outputs": [],
   "source": [
    "import timeit"
   ]
  },
  {
   "cell_type": "code",
   "execution_count": 143,
   "metadata": {},
   "outputs": [],
   "source": [
    "def set_operations(set1, set2):\n",
    "    both_weeks = set1.intersection(set2)\n",
    "    print(f\"Users who logged in both weeks: {both_weeks}\")\n",
    "    print(\"--------------------------------\")\n",
    "\n",
    "    one_week = set1.symmetric_difference(set2)\n",
    "    print(f\"Users who logged in one of the weeks: {one_week}\")\n",
    "    print(\"--------------------------------\")"
   ]
  },
  {
   "cell_type": "code",
   "execution_count": 144,
   "metadata": {},
   "outputs": [
    {
     "name": "stdout",
     "output_type": "stream",
     "text": [
      "Users who logged in both weeks: {1003, 1004, 1005}\n",
      "--------------------------------\n",
      "Users who logged in one of the weeks: {1001, 1002, 1006, 1007}\n",
      "--------------------------------\n"
     ]
    }
   ],
   "source": [
    "week1 = {1001, 1002, 1003, 1004, 1005}\n",
    "week2 = {1003, 1004, 1005, 1006, 1007}\n",
    "set_operations(week1, week2)"
   ]
  },
  {
   "cell_type": "code",
   "execution_count": 148,
   "metadata": {},
   "outputs": [],
   "source": [
    "def set_union(s1, s2):\n",
    "    return s1.union(s2)\n",
    "    \n",
    "def set_intersection(s1, s2):\n",
    "    return s1.intersection(s2)\n",
    "\n",
    "def set_difference(s1, s2):\n",
    "    return s1.difference(s2)\n",
    "    \n",
    "def set_symmetric_difference(s1, s2):\n",
    "    return s1.symmetric_difference(s2)"
   ]
  },
  {
   "cell_type": "code",
   "execution_count": 149,
   "metadata": {},
   "outputs": [
    {
     "name": "stdout",
     "output_type": "stream",
     "text": [
      "60 μs ± 1.88 μs per loop (mean ± std. dev. of 7 runs, 10,000 loops each)\n",
      "--------------------------------\n",
      "25 μs ± 400 ns per loop (mean ± std. dev. of 7 runs, 10,000 loops each)\n",
      "--------------------------------\n",
      "64.1 μs ± 643 ns per loop (mean ± std. dev. of 7 runs, 10,000 loops each)\n",
      "--------------------------------\n",
      "187 μs ± 2.74 μs per loop (mean ± std. dev. of 7 runs, 10,000 loops each)\n",
      "--------------------------------\n"
     ]
    }
   ],
   "source": [
    "s1 = set(range(10000))\n",
    "s2 = set(range(1, 5000, 5))\n",
    "%timeit set_union(s1, s2)\n",
    "print(\"--------------------------------\")\n",
    "%timeit set_intersection(s1, s2)\n",
    "print(\"--------------------------------\")\n",
    "%timeit set_difference(s1, s2)\n",
    "print(\"--------------------------------\")\n",
    "%timeit set_symmetric_difference(s1, s2)\n",
    "print(\"--------------------------------\")"
   ]
  },
  {
   "cell_type": "markdown",
   "metadata": {},
   "source": [
    "### Observation\n",
    "\n",
    "* Based on the time taken by each operation we can observe that intersection between sets is the fastest "
   ]
  },
  {
   "cell_type": "code",
   "execution_count": 127,
   "metadata": {},
   "outputs": [
    {
     "data": {
      "text/plain": [
       "'Convenience function to create Timer object and call timeit method.'"
      ]
     },
     "execution_count": 127,
     "metadata": {},
     "output_type": "execute_result"
    }
   ],
   "source": [
    "dir(timeit)\n",
    "timeit.timeit.__doc__"
   ]
  },
  {
   "cell_type": "markdown",
   "metadata": {},
   "source": [
    "### **Problem 4: Dictionary with Nested Structures and Data Aggregation**  \n",
    "You have a dictionary representing the monthly sales data for a year, where each value is a dictionary with details about the sales for different categories:\n",
    "```python\n",
    "sales = {\n",
    "    'January': {'Electronics': 5000, 'Clothing': 3000, 'Grocery': 2000},\n",
    "    'February': {'Electronics': 6000, 'Clothing': 3500, 'Grocery': 2500},\n",
    "    'March': {'Electronics': 5500, 'Clothing': 3200, 'Grocery': 2400}\n",
    "}\n",
    "```\n",
    "Write a program that:\n",
    "1. **Adds** a new category \"Home Appliances\" with random sales values for each month.\n",
    "2. Calculates the **total sales** for each month and stores the result in a new dictionary.\n",
    "3. Identifies the **best performing month** by total sales.\n",
    "4. Extracts and prints the top **two categories** that contributed the most to the sales in the best performing month."
   ]
  },
  {
   "cell_type": "code",
   "execution_count": 64,
   "metadata": {},
   "outputs": [],
   "source": [
    "import random\n",
    "random.seed(5)\n",
    "from functools import reduce"
   ]
  },
  {
   "cell_type": "code",
   "execution_count": 4,
   "metadata": {},
   "outputs": [],
   "source": [
    "def dict_sales(sales):\n",
    "    \"\"\"\n",
    "    Parameters:\n",
    "    sales: Nested dictionary representing the monthly sales data for a year\n",
    "    ----------------------------\n",
    "    Returns:\n",
    "    total_sales: Dictionary containing month and total sales\n",
    "    best_month: month with the highest sales\n",
    "    best_month_cat: Product categories of the best month\n",
    "    maximum_total_revenue: stores the tuple of the product which has the maximum revenue\n",
    "    top2_categories: Stores the top 2 category of the best month with the highest sales\n",
    "    \"\"\"\n",
    "    for s in sales:\n",
    "        sales[s][\"Home Appliances\"] = random.randrange(1000, 10000, 100)\n",
    "    print('Monthly Sales:')\n",
    "    for month in sales:\n",
    "        print(f\"{month}:\")\n",
    "        for cat, amt in sales[month].items():\n",
    "            print(f\"{cat}: {amt}\")\n",
    "        print('***********')\n",
    "    print('----------------------------')\n",
    "    \n",
    "    total_sales = {month: sales[month]['Electronics'] + sales[month]['Clothing'] + sales[month]['Grocery'] + sales[month]['Home Appliances'] \n",
    "                   for month in sales}\n",
    "    print('Monthly Total Sales:')\n",
    "    for month, amt in total_sales.items():\n",
    "        print(f\"{month}: {amt}\")\n",
    "        print('***********')\n",
    "    print('----------------------------')\n",
    "\n",
    "    best_month = list(filter(lambda x: total_sales[x] == max(total_sales.values()), total_sales))\n",
    "    print(f\"Best performing month: \\n{best_month[0]} = {total_sales[best_month[0]]}\")\n",
    "    print('----------------------------')\n",
    "\n",
    "    best_month_cat = sales[best_month[0]]\n",
    "    top2_categories = sorted(best_month_cat.items(), key = lambda x:x[1], reverse=True)[:2]\n",
    "    print('Top 2 Category of best performing month:')\n",
    "    for cat, amt in top2_categories:\n",
    "        print(f\"{cat}: {amt}\")"
   ]
  },
  {
   "cell_type": "code",
   "execution_count": 288,
   "metadata": {},
   "outputs": [
    {
     "name": "stdout",
     "output_type": "stream",
     "text": [
      "Monthly Sales:\n",
      "January:\n",
      "Electronics: 5000\n",
      "Clothing: 3000\n",
      "Grocery: 2000\n",
      "Home Appliances: 7000\n",
      "***********\n",
      "February:\n",
      "Electronics: 6000\n",
      "Clothing: 3500\n",
      "Grocery: 2500\n",
      "Home Appliances: 5900\n",
      "***********\n",
      "March:\n",
      "Electronics: 5500\n",
      "Clothing: 3200\n",
      "Grocery: 2400\n",
      "Home Appliances: 1500\n",
      "***********\n",
      "----------------------------\n",
      "Monthly Total Sales:\n",
      "January: 17000\n",
      "***********\n",
      "February: 17900\n",
      "***********\n",
      "March: 12600\n",
      "***********\n",
      "----------------------------\n",
      "Best performing month: \n",
      "February = 17900\n",
      "----------------------------\n",
      "Top 2 Category of best performing month:\n",
      "Electronics: 6000\n",
      "Home Appliances: 5900\n"
     ]
    }
   ],
   "source": [
    "sales = {\n",
    "    'January': {'Electronics': 5000, 'Clothing': 3000, 'Grocery': 2000},\n",
    "    'February': {'Electronics': 6000, 'Clothing': 3500, 'Grocery': 2500},\n",
    "    'March': {'Electronics': 5500, 'Clothing': 3200, 'Grocery': 2400}\n",
    "}\n",
    "dict_sales(sales)"
   ]
  },
  {
   "cell_type": "markdown",
   "metadata": {},
   "source": [
    "### **Problem 5: Control Flow with Nested Loops and Complex Logic**  \n",
    "Write a Python program that simulates a **number guessing game**:\n",
    "1. The program should generate a random number between 1 and 100 and give the user 7 attempts to guess it.\n",
    "2. After each wrong guess, the program should provide a hint whether the guess was too high or too low.\n",
    "3. If the user fails to guess the number within the attempts, the program should reveal the number and ask if they would like to play again.\n",
    "4. Implement **exception handling** to handle non-integer inputs and prompt the user to try again without counting the attempt."
   ]
  },
  {
   "cell_type": "code",
   "execution_count": 12,
   "metadata": {},
   "outputs": [],
   "source": [
    "def number_guessing_game():\n",
    "    ans = random.randint(1, 100)\n",
    "    guesses = 7\n",
    "    flag = True\n",
    "    \n",
    "    while flag:\n",
    "        try:\n",
    "            if guesses == 0:\n",
    "                print(f\"You ran out of guesses, Correct answer is {ans}\")\n",
    "                choice = input(\"Would You like to play again?(y/n)\")\n",
    "                if choice != \"y\":\n",
    "                    flag = False\n",
    "            else:\n",
    "                print(f\"Guesses: {guesses}\")\n",
    "                guess = int(input('Guess the Number: '))\n",
    "                print('---------------------')\n",
    "                \n",
    "                if guess < ans:\n",
    "                    print('Your guess was too low.')\n",
    "                    guesses = guesses - 1\n",
    "                elif guess > ans:\n",
    "                    print('Your guess was too high.')\n",
    "                    guesses = guesses - 1\n",
    "                else:\n",
    "                    print(f'You have guessed {ans} correctly in {8 - guesses} guesses')\n",
    "                    choice = input(\"Would You like to play again?(y/n)\")\n",
    "                    if choice != \"y\":\n",
    "                        flag = False\n",
    "                \n",
    "        except ValueError:\n",
    "            print('Invalid Input, You should enter a number. Try Again!!!')\n",
    "            \n",
    "    print('---------------------')\n",
    "    print(\"Thank you for playing!!\")"
   ]
  },
  {
   "cell_type": "code",
   "execution_count": 13,
   "metadata": {},
   "outputs": [
    {
     "name": "stdout",
     "output_type": "stream",
     "text": [
      "Guesses: 7\n"
     ]
    },
    {
     "name": "stdin",
     "output_type": "stream",
     "text": [
      "Guess the Number:  s\n"
     ]
    },
    {
     "name": "stdout",
     "output_type": "stream",
     "text": [
      "Invalid Input, You should enter a number. Try Again!!!\n",
      "Guesses: 7\n"
     ]
    },
    {
     "name": "stdin",
     "output_type": "stream",
     "text": [
      "Guess the Number:  2\n"
     ]
    },
    {
     "name": "stdout",
     "output_type": "stream",
     "text": [
      "---------------------\n",
      "Your guess was too low.\n",
      "Guesses: 6\n"
     ]
    },
    {
     "name": "stdin",
     "output_type": "stream",
     "text": [
      "Guess the Number:  4\n"
     ]
    },
    {
     "name": "stdout",
     "output_type": "stream",
     "text": [
      "---------------------\n",
      "Your guess was too low.\n",
      "Guesses: 5\n"
     ]
    },
    {
     "name": "stdin",
     "output_type": "stream",
     "text": [
      "Guess the Number:  66\n"
     ]
    },
    {
     "name": "stdout",
     "output_type": "stream",
     "text": [
      "---------------------\n",
      "Your guess was too high.\n",
      "Guesses: 4\n"
     ]
    },
    {
     "name": "stdin",
     "output_type": "stream",
     "text": [
      "Guess the Number:  3\n"
     ]
    },
    {
     "name": "stdout",
     "output_type": "stream",
     "text": [
      "---------------------\n",
      "Your guess was too low.\n",
      "Guesses: 3\n"
     ]
    },
    {
     "name": "stdin",
     "output_type": "stream",
     "text": [
      "Guess the Number:  2\n"
     ]
    },
    {
     "name": "stdout",
     "output_type": "stream",
     "text": [
      "---------------------\n",
      "Your guess was too low.\n",
      "Guesses: 2\n"
     ]
    },
    {
     "name": "stdin",
     "output_type": "stream",
     "text": [
      "Guess the Number:  1\n"
     ]
    },
    {
     "name": "stdout",
     "output_type": "stream",
     "text": [
      "---------------------\n",
      "Your guess was too low.\n",
      "Guesses: 1\n"
     ]
    },
    {
     "name": "stdin",
     "output_type": "stream",
     "text": [
      "Guess the Number:  3\n"
     ]
    },
    {
     "name": "stdout",
     "output_type": "stream",
     "text": [
      "---------------------\n",
      "Your guess was too low.\n",
      "You ran out of guesses, Correct answer is 64\n"
     ]
    },
    {
     "name": "stdin",
     "output_type": "stream",
     "text": [
      "Would You like to play again?(y/n) 2\n"
     ]
    },
    {
     "name": "stdout",
     "output_type": "stream",
     "text": [
      "---------------------\n",
      "Thank you for playing!!\n"
     ]
    }
   ],
   "source": [
    "number_guessing_game()"
   ]
  },
  {
   "cell_type": "markdown",
   "metadata": {},
   "source": [
    "### **Problem 6: Functions with Memoization and Advanced Usage**  \n",
    "Write a Python program that:\n",
    "1. Implements a recursive function to calculate the **Nth Fibonacci number** but uses **memoization** to optimize repeated calculations. Use a dictionary to store already computed Fibonacci numbers.\n",
    "2. Implements a lambda function that checks if a number is **prime**, and uses it to filter prime numbers from a list of random integers.\n",
    "3. Uses the `reduce` function to find the **greatest common divisor (GCD)** of a list of integers."
   ]
  },
  {
   "cell_type": "code",
   "execution_count": 14,
   "metadata": {},
   "outputs": [],
   "source": [
    "def cache_results(func):\n",
    "    cache = {}\n",
    "\n",
    "    def wrapper(n):\n",
    "        if n in cache:\n",
    "            return cache[n]\n",
    "        result = func(n)\n",
    "        cache[n] = result\n",
    "        return result\n",
    "\n",
    "    return wrapper"
   ]
  },
  {
   "cell_type": "code",
   "execution_count": 17,
   "metadata": {},
   "outputs": [],
   "source": [
    "@cache_results\n",
    "def fibonacci(n):\n",
    "    if n <= 1:\n",
    "        return n\n",
    "    else:\n",
    "        return fibonacci(n-1) + fibonacci(n-2)\n",
    "\n",
    "def fibonacci1(n):\n",
    "    if n <= 1:\n",
    "        return n\n",
    "    else:\n",
    "        return fibonacci(n-1) + fibonacci(n-2)"
   ]
  },
  {
   "cell_type": "code",
   "execution_count": 18,
   "metadata": {},
   "outputs": [
    {
     "name": "stdout",
     "output_type": "stream",
     "text": [
      "289 ns ± 1.92 ns per loop (mean ± std. dev. of 7 runs, 1,000,000 loops each)\n",
      "105 ns ± 1.16 ns per loop (mean ± std. dev. of 7 runs, 10,000,000 loops each)\n"
     ]
    }
   ],
   "source": [
    "%timeit fibonacci1(20)\n",
    "%timeit fibonacci(20)"
   ]
  },
  {
   "cell_type": "code",
   "execution_count": 49,
   "metadata": {},
   "outputs": [],
   "source": [
    "def random_prime_list():\n",
    "    list1 = list(range(1,1000))\n",
    "    random_list = random.sample(list1,25)\n",
    "    print(f\"Random Integer List: {random_list}\")\n",
    "    prime_number = lambda x: x > 1 and all(x % i != 0 for i in range(2, int(x*0.5) + 1))\n",
    "    prime_list = list(filter(prime_number, random_list))\n",
    "    print(f\"Prime Numbers from Random Integer List:{prime_list}\")\n",
    "    return"
   ]
  },
  {
   "cell_type": "code",
   "execution_count": 50,
   "metadata": {},
   "outputs": [
    {
     "name": "stdout",
     "output_type": "stream",
     "text": [
      "Random Integer List: [641, 320, 177, 403, 635, 134, 547, 75, 806, 853, 167, 811, 694, 435, 904, 653, 43, 105, 955, 736, 351, 129, 400, 165, 104]\n",
      "Prime Numbers from Random Integer List:[641, 547, 853, 167, 811, 653, 43]\n"
     ]
    }
   ],
   "source": [
    "random_prime_list()"
   ]
  },
  {
   "cell_type": "code",
   "execution_count": 53,
   "metadata": {},
   "outputs": [],
   "source": [
    "from functools import reduce"
   ]
  },
  {
   "cell_type": "code",
   "execution_count": 72,
   "metadata": {},
   "outputs": [],
   "source": [
    "def greatest_common_divisor(lst):\n",
    "    print(f\"Integer List: {lst}\")\n",
    "    gcd = reduce(lambda x,y: math.gcd(x,y), lst)\n",
    "    print(f\"Greatest Common Divisor: {gcd}\")\n",
    "    print('----------------------------------')\n",
    "    return"
   ]
  },
  {
   "cell_type": "code",
   "execution_count": 73,
   "metadata": {},
   "outputs": [
    {
     "name": "stdout",
     "output_type": "stream",
     "text": [
      "Integer List: [427, 656, 887, 339, 172, 937, 475, 544, 879, 16, 377, 222, 884, 894, 168, 68, 171, 375, 213, 95, 655, 520, 393, 194, 331]\n",
      "Greatest Common Divisor: 1\n",
      "----------------------------------\n",
      "Integer List: [4, 10, 24, 32, 46, 58]\n",
      "Greatest Common Divisor: 2\n",
      "----------------------------------\n"
     ]
    }
   ],
   "source": [
    "list1 = list(range(1,1000))\n",
    "random_list = random.sample(list1,25)\n",
    "greatest_common_divisor(random_list)\n",
    "greatest_common_divisor([4, 10, 24, 32 ,46 ,58])"
   ]
  },
  {
   "cell_type": "markdown",
   "metadata": {},
   "source": [
    "### **Problem 7: OOP Concepts**  \n",
    "Create a class `BankAccount` that:\n",
    "1. Allows a user to create an account by providing a **name** and an initial **balance**.\n",
    "2. Includes methods to **deposit**, **withdraw**, and **check balance**. The withdrawal should not allow an account to go negative.\n",
    "3. Overloads the `+` operator to allow merging of two accounts (sum of their balances) and returns a new account.\n",
    "4. Uses **Inheritance** to create a subclass `SavingsAccount` that adds an interest rate. Implement a method to calculate interest on the balance and update it accordingly."
   ]
  },
  {
   "cell_type": "code",
   "execution_count": 103,
   "metadata": {},
   "outputs": [],
   "source": [
    "class BankAccount:\n",
    "    def __init__(self, name, balance):\n",
    "        self.name = name\n",
    "        self.__balance = balance\n",
    "\n",
    "    def deposit(self, deposit_amt):\n",
    "        if deposit_amt > 0:\n",
    "            self.__balance += deposit_amt\n",
    "            return f\"{deposit_amt} has been deposited!! Process Sucessfull!!\"\n",
    "        else:\n",
    "            return f\"{deposit_amt} cannot be deposited!! Process Denied!!\"\n",
    "\n",
    "    def withdraw(self, withdraw_amt):\n",
    "        if withdraw_amt < 0:\n",
    "            return f\"{withdraw_amt} cannot be withdrawn!! Process Denied!!\"\n",
    "        elif self.__balance - withdraw_amt < 0:\n",
    "            return f\"{withdraw_amt} is greater than current balance!! Process Denied!!\"\n",
    "        else:\n",
    "            self.__balance -= withdraw_amt\n",
    "            return f\"{withdraw_amt} has been withdrawn!! Process Sucessfull!!\"\n",
    "\n",
    "    def check_balance(self):\n",
    "        return f\"Name: {self.name} | Balance: {self.__balance}\"\n",
    "\n",
    "    def __add__(self, account: BankAccount):\n",
    "       name = self.name + \" & \" + account.name\n",
    "       balance = self.__balance + account.__balance\n",
    "       return BankAccount(name, balance)\n",
    "\n",
    "    def get_details(self):\n",
    "        return self.name, self.__balance"
   ]
  },
  {
   "cell_type": "code",
   "execution_count": 104,
   "metadata": {},
   "outputs": [
    {
     "name": "stdout",
     "output_type": "stream",
     "text": [
      "------------------------\n",
      "Name: Samyam | Balance: 1000\n",
      "------------------------\n",
      "1000 has been deposited!! Process Sucessfull!!\n",
      "------------------------\n",
      "Name: Samyam | Balance: 2000\n",
      "------------------------\n",
      "300 has been withdrawn!! Process Sucessfull!!\n",
      "------------------------\n",
      "Name: Samyam | Balance: 1700\n",
      "------------------------\n"
     ]
    }
   ],
   "source": [
    "p1 = BankAccount(\"Samyam\", 1000)\n",
    "print('------------------------')\n",
    "print(p1.check_balance())\n",
    "print('------------------------')\n",
    "print(p1.deposit(1000))\n",
    "print('------------------------')\n",
    "print(p1.check_balance())\n",
    "print('------------------------')\n",
    "print(p1.withdraw(300))\n",
    "print('------------------------')\n",
    "print(p1.check_balance())\n",
    "print('------------------------')"
   ]
  },
  {
   "cell_type": "code",
   "execution_count": 105,
   "metadata": {},
   "outputs": [
    {
     "data": {
      "text/plain": [
       "'Name: Samyam & Max | Balance: 2200'"
      ]
     },
     "execution_count": 105,
     "metadata": {},
     "output_type": "execute_result"
    }
   ],
   "source": [
    "p2 = BankAccount(\"Max\", 500)\n",
    "p3 = p1 + p2\n",
    "p3.check_balance()"
   ]
  },
  {
   "cell_type": "code",
   "execution_count": 118,
   "metadata": {},
   "outputs": [],
   "source": [
    "class SavingsAccount(BankAccount):\n",
    "    def __init__(self, name, balance, interest_rate = 3):\n",
    "        super().__init__(name, balance)\n",
    "        self.__interest_rate = interest_rate\n",
    "\n",
    "    def calculate_interest(self):\n",
    "        _, balance = self.get_details()\n",
    "        interest = balance * (self.__interest_rate/100)\n",
    "        self.deposit(interest)\n",
    "        return f\"{interest} has been added to your balance!!\"\n",
    "        "
   ]
  },
  {
   "cell_type": "code",
   "execution_count": 121,
   "metadata": {},
   "outputs": [
    {
     "name": "stdout",
     "output_type": "stream",
     "text": [
      "------------------------\n",
      "Name: Julie | Balance: 1200\n",
      "------------------------\n",
      "120.0 has been added to your balance!!\n",
      "------------------------\n",
      "Name: Julie | Balance: 1320.0\n",
      "------------------------\n",
      "132.0 has been added to your balance!!\n",
      "------------------------\n",
      "Name: Julie | Balance: 1452.0\n"
     ]
    }
   ],
   "source": [
    "s1 = SavingsAccount(\"Julie\", 1200, 10)\n",
    "print('------------------------')\n",
    "print(s1.check_balance())\n",
    "print('------------------------')\n",
    "print(s1.calculate_interest())\n",
    "print('------------------------')\n",
    "print(s1.check_balance())\n",
    "print('------------------------')\n",
    "print(s1.calculate_interest())\n",
    "print('------------------------')\n",
    "print(s1.check_balance())"
   ]
  },
  {
   "cell_type": "markdown",
   "metadata": {},
   "source": [
    "### **Problem 8: File Handling with Data Processing**  \n",
    "Write a Python program that:\n",
    "1. Reads data from a text file containing multiple lines, where each line contains a name and a score (e.g., `John, 89`).\n",
    "2. Stores the data in a dictionary and sorts the dictionary by score.\n",
    "3. Writes the sorted data back into a new file, where the highest scores appear first.\n",
    "4. The program should handle potential file I/O errors using appropriate exception handling techniques.\n"
   ]
  },
  {
   "cell_type": "code",
   "execution_count": 39,
   "metadata": {},
   "outputs": [],
   "source": [
    "def file_handling(filename):\n",
    "    try:\n",
    "        file = open(filename, 'r')\n",
    "        score_dict = {}\n",
    "        for line in file:\n",
    "            name, score = line.strip().split(',')\n",
    "            score_dict[name] = score\n",
    "            sorted_score_dict = sorted(score_dict.items(), key = lambda x:x[1], reverse=True)\n",
    "        print(sorted_score_dict)\n",
    "    \n",
    "        new_file = open('sorted_score.txt', 'w')\n",
    "        for name, score in sorted_score_dict:\n",
    "            new_file.write(f\"{name}: {score}\\n\")\n",
    "    except FileNotFoundError:\n",
    "        print(f\"Error: The file '{filename}' was not found.\")\n",
    "    except ValueError:\n",
    "        print(\"Error: There was a problem with the data format in the file.\")\n",
    "    except IOError:\n",
    "        print(\"Error: An I/O error occurred while accessing the file.\")\n",
    "    except Exception as e:\n",
    "        print(f\"An unexpected error occurred: {e}\")\n",
    "        \n",
    "    return"
   ]
  },
  {
   "cell_type": "code",
   "execution_count": 40,
   "metadata": {},
   "outputs": [
    {
     "name": "stdout",
     "output_type": "stream",
     "text": [
      "[('David', ' 95'), ('Alice', ' 92'), ('Olivia', ' 91'), ('Sophia', ' 90'), ('John', ' 89'), ('Emma', ' 88'), ('Ava', ' 85'), ('Liam', ' 84'), ('Noah', ' 78'), ('Bob', ' 75')]\n"
     ]
    }
   ],
   "source": [
    "file_handling('sample.txt')"
   ]
  },
  {
   "cell_type": "markdown",
   "metadata": {},
   "source": [
    "### **Problem 9: Exception Handling and Debugging**  \n",
    "Write a Python program that:\n",
    "1. Takes a string input from the user and tries to convert it into an integer.\n",
    "2. Raises a **custom exception** called `InvalidInputError` if the string contains non-numeric characters.\n",
    "3. Ensures that the program continues to prompt for input until a valid integer is entered, and logs the errors into a text file for future reference."
   ]
  },
  {
   "cell_type": "code",
   "execution_count": 41,
   "metadata": {},
   "outputs": [],
   "source": [
    "class InvalidInputError(Exception):\n",
    "    pass"
   ]
  },
  {
   "cell_type": "code",
   "execution_count": 48,
   "metadata": {},
   "outputs": [],
   "source": [
    "def string_to_integer():\n",
    "    while True:\n",
    "        string = input(\"Enter a Number: \")\n",
    "        if string.isdigit():\n",
    "            integer = int(string)\n",
    "            print(f\"{string} sucessfully converted to integer!\")\n",
    "        else:\n",
    "            raise InvalidInputError(f\"Invalid input: '{string}' is not a valid integer.\")\n",
    "            error_file = open(\"error_log.txt\", 'a')\n",
    "            error_file.write(f\"Invalid input: '{string}' is not a valid integer.\\n\")\n",
    "\n",
    "    return"
   ]
  },
  {
   "cell_type": "code",
   "execution_count": 49,
   "metadata": {},
   "outputs": [
    {
     "name": "stdin",
     "output_type": "stream",
     "text": [
      "Enter a Number:  a\n"
     ]
    },
    {
     "ename": "InvalidInputError",
     "evalue": "Invalid input: 'a' is not a valid integer.",
     "output_type": "error",
     "traceback": [
      "\u001b[1;31m-----------------------------------------------------------------------\u001b[0m",
      "\u001b[1;31mInvalidInputError\u001b[0m                     Traceback (most recent call last)",
      "Cell \u001b[1;32mIn[49], line 1\u001b[0m\n\u001b[1;32m----> 1\u001b[0m \u001b[43mstring_to_integer\u001b[49m\u001b[43m(\u001b[49m\u001b[43m)\u001b[49m\n",
      "Cell \u001b[1;32mIn[48], line 8\u001b[0m, in \u001b[0;36mstring_to_integer\u001b[1;34m()\u001b[0m\n\u001b[0;32m      6\u001b[0m     \u001b[38;5;28mprint\u001b[39m(\u001b[38;5;124mf\u001b[39m\u001b[38;5;124m\"\u001b[39m\u001b[38;5;132;01m{\u001b[39;00mstring\u001b[38;5;132;01m}\u001b[39;00m\u001b[38;5;124m sucessfully converted to integer!\u001b[39m\u001b[38;5;124m\"\u001b[39m)\n\u001b[0;32m      7\u001b[0m \u001b[38;5;28;01melse\u001b[39;00m:\n\u001b[1;32m----> 8\u001b[0m     \u001b[38;5;28;01mraise\u001b[39;00m InvalidInputError(\u001b[38;5;124mf\u001b[39m\u001b[38;5;124m\"\u001b[39m\u001b[38;5;124mInvalid input: \u001b[39m\u001b[38;5;124m'\u001b[39m\u001b[38;5;132;01m{\u001b[39;00mstring\u001b[38;5;132;01m}\u001b[39;00m\u001b[38;5;124m'\u001b[39m\u001b[38;5;124m is not a valid integer.\u001b[39m\u001b[38;5;124m\"\u001b[39m)\n\u001b[0;32m      9\u001b[0m     error_file \u001b[38;5;241m=\u001b[39m \u001b[38;5;28mopen\u001b[39m(\u001b[38;5;124m\"\u001b[39m\u001b[38;5;124merror_log.txt\u001b[39m\u001b[38;5;124m\"\u001b[39m, \u001b[38;5;124m'\u001b[39m\u001b[38;5;124ma\u001b[39m\u001b[38;5;124m'\u001b[39m)\n\u001b[0;32m     10\u001b[0m     error_file\u001b[38;5;241m.\u001b[39mwrite(\u001b[38;5;124mf\u001b[39m\u001b[38;5;124m\"\u001b[39m\u001b[38;5;124mInvalid input: \u001b[39m\u001b[38;5;124m'\u001b[39m\u001b[38;5;132;01m{\u001b[39;00mstring\u001b[38;5;132;01m}\u001b[39;00m\u001b[38;5;124m'\u001b[39m\u001b[38;5;124m is not a valid integer.\u001b[39m\u001b[38;5;130;01m\\n\u001b[39;00m\u001b[38;5;124m\"\u001b[39m)\n",
      "\u001b[1;31mInvalidInputError\u001b[0m: Invalid input: 'a' is not a valid integer."
     ]
    }
   ],
   "source": [
    "string_to_integer()"
   ]
  },
  {
   "cell_type": "markdown",
   "metadata": {},
   "source": [
    "### **Problem 10: Numpy, Pandas, and Data Processing**  \n",
    "1. Create a **3D numpy array** of random numbers. Compute the **mean** across each axis and the standard deviation of the entire array.\n",
    "2. Using a Pandas DataFrame, simulate daily stock prices for 5 companies over a month (generate random data). Perform the following:\n",
    "   - Calculate the **daily percentage change** in stock prices.\n",
    "   - Identify the days with the highest and lowest percentage change for each stock.\n",
    "   - Plot the **trend of stock prices** for any two selected companies on the same graph using Matplotlib."
   ]
  },
  {
   "cell_type": "code",
   "execution_count": 100,
   "metadata": {},
   "outputs": [],
   "source": [
    "import numpy as np\n",
    "import pandas as pd\n",
    "import matplotlib.pyplot as plt"
   ]
  },
  {
   "cell_type": "code",
   "execution_count": 101,
   "metadata": {},
   "outputs": [
    {
     "name": "stdout",
     "output_type": "stream",
     "text": [
      "Random array: [[[36 37 92]\n",
      "  [ 7 51 82]\n",
      "  [60 27 87]]\n",
      "\n",
      " [[50 15 99]\n",
      "  [51 45 47]\n",
      "  [22 38 73]]\n",
      "\n",
      " [[78 60 35]\n",
      "  [81  8 94]\n",
      "  [11 81 68]]]\n",
      "-----------------------------------------------\n",
      "Mean across axis 0: [[54.66666667 37.33333333 75.33333333]\n",
      " [46.33333333 34.66666667 74.33333333]\n",
      " [31.         48.66666667 76.        ]]\n",
      "-----------------------------------------------\n",
      "Mean across axis 1: [[34.33333333 38.33333333 87.        ]\n",
      " [41.         32.66666667 73.        ]\n",
      " [56.66666667 49.66666667 65.66666667]]\n",
      "-----------------------------------------------\n",
      "Mean across axis 2: [[55.         46.66666667 58.        ]\n",
      " [54.66666667 47.66666667 44.33333333]\n",
      " [57.66666667 61.         53.33333333]]\n"
     ]
    }
   ],
   "source": [
    "array = np.random.randint(low = 1, high = 100, size = (3,3,3))\n",
    "print(f\"Random array: {array}\")\n",
    "print('-----------------------------------------------')\n",
    "print(f\"Mean across axis 0: {array.mean(axis=0)}\")\n",
    "print('-----------------------------------------------')\n",
    "print(f\"Mean across axis 1: {array.mean(axis=1)}\")\n",
    "print('-----------------------------------------------')\n",
    "print(f\"Mean across axis 2: {array.mean(axis=2)}\")"
   ]
  },
  {
   "cell_type": "code",
   "execution_count": 102,
   "metadata": {},
   "outputs": [
    {
     "data": {
      "text/html": [
       "<div>\n",
       "<style scoped>\n",
       "    .dataframe tbody tr th:only-of-type {\n",
       "        vertical-align: middle;\n",
       "    }\n",
       "\n",
       "    .dataframe tbody tr th {\n",
       "        vertical-align: top;\n",
       "    }\n",
       "\n",
       "    .dataframe thead th {\n",
       "        text-align: right;\n",
       "    }\n",
       "</style>\n",
       "<table border=\"1\" class=\"dataframe\">\n",
       "  <thead>\n",
       "    <tr style=\"text-align: right;\">\n",
       "      <th></th>\n",
       "      <th>BYD</th>\n",
       "      <th>Tesla</th>\n",
       "      <th>KIA</th>\n",
       "      <th>Hyundai</th>\n",
       "      <th>Toyota</th>\n",
       "    </tr>\n",
       "  </thead>\n",
       "  <tbody>\n",
       "    <tr>\n",
       "      <th>2023-01-01</th>\n",
       "      <td>45.0</td>\n",
       "      <td>92.0</td>\n",
       "      <td>49.0</td>\n",
       "      <td>6.0</td>\n",
       "      <td>91.0</td>\n",
       "    </tr>\n",
       "    <tr>\n",
       "      <th>2023-01-02</th>\n",
       "      <td>71.0</td>\n",
       "      <td>7.0</td>\n",
       "      <td>77.0</td>\n",
       "      <td>34.0</td>\n",
       "      <td>38.0</td>\n",
       "    </tr>\n",
       "    <tr>\n",
       "      <th>2023-01-03</th>\n",
       "      <td>92.0</td>\n",
       "      <td>42.0</td>\n",
       "      <td>90.0</td>\n",
       "      <td>64.0</td>\n",
       "      <td>43.0</td>\n",
       "    </tr>\n",
       "    <tr>\n",
       "      <th>2023-01-04</th>\n",
       "      <td>71.0</td>\n",
       "      <td>59.0</td>\n",
       "      <td>24.0</td>\n",
       "      <td>71.0</td>\n",
       "      <td>8.0</td>\n",
       "    </tr>\n",
       "    <tr>\n",
       "      <th>2023-01-05</th>\n",
       "      <td>59.0</td>\n",
       "      <td>34.0</td>\n",
       "      <td>81.0</td>\n",
       "      <td>43.0</td>\n",
       "      <td>55.0</td>\n",
       "    </tr>\n",
       "    <tr>\n",
       "      <th>2023-01-06</th>\n",
       "      <td>52.0</td>\n",
       "      <td>30.0</td>\n",
       "      <td>90.0</td>\n",
       "      <td>77.0</td>\n",
       "      <td>23.0</td>\n",
       "    </tr>\n",
       "    <tr>\n",
       "      <th>2023-01-07</th>\n",
       "      <td>46.0</td>\n",
       "      <td>30.0</td>\n",
       "      <td>14.0</td>\n",
       "      <td>50.0</td>\n",
       "      <td>91.0</td>\n",
       "    </tr>\n",
       "    <tr>\n",
       "      <th>2023-01-08</th>\n",
       "      <td>25.0</td>\n",
       "      <td>57.0</td>\n",
       "      <td>21.0</td>\n",
       "      <td>69.0</td>\n",
       "      <td>50.0</td>\n",
       "    </tr>\n",
       "    <tr>\n",
       "      <th>2023-01-09</th>\n",
       "      <td>87.0</td>\n",
       "      <td>10.0</td>\n",
       "      <td>64.0</td>\n",
       "      <td>26.0</td>\n",
       "      <td>78.0</td>\n",
       "    </tr>\n",
       "    <tr>\n",
       "      <th>2023-01-10</th>\n",
       "      <td>9.0</td>\n",
       "      <td>25.0</td>\n",
       "      <td>56.0</td>\n",
       "      <td>99.0</td>\n",
       "      <td>87.0</td>\n",
       "    </tr>\n",
       "    <tr>\n",
       "      <th>2023-01-11</th>\n",
       "      <td>93.0</td>\n",
       "      <td>56.0</td>\n",
       "      <td>61.0</td>\n",
       "      <td>17.0</td>\n",
       "      <td>67.0</td>\n",
       "    </tr>\n",
       "    <tr>\n",
       "      <th>2023-01-12</th>\n",
       "      <td>12.0</td>\n",
       "      <td>93.0</td>\n",
       "      <td>35.0</td>\n",
       "      <td>57.0</td>\n",
       "      <td>80.0</td>\n",
       "    </tr>\n",
       "    <tr>\n",
       "      <th>2023-01-13</th>\n",
       "      <td>46.0</td>\n",
       "      <td>29.0</td>\n",
       "      <td>83.0</td>\n",
       "      <td>25.0</td>\n",
       "      <td>6.0</td>\n",
       "    </tr>\n",
       "    <tr>\n",
       "      <th>2023-01-14</th>\n",
       "      <td>52.0</td>\n",
       "      <td>38.0</td>\n",
       "      <td>20.0</td>\n",
       "      <td>57.0</td>\n",
       "      <td>52.0</td>\n",
       "    </tr>\n",
       "    <tr>\n",
       "      <th>2023-01-15</th>\n",
       "      <td>68.0</td>\n",
       "      <td>21.0</td>\n",
       "      <td>76.0</td>\n",
       "      <td>36.0</td>\n",
       "      <td>47.0</td>\n",
       "    </tr>\n",
       "    <tr>\n",
       "      <th>2023-01-16</th>\n",
       "      <td>27.0</td>\n",
       "      <td>52.0</td>\n",
       "      <td>66.0</td>\n",
       "      <td>64.0</td>\n",
       "      <td>40.0</td>\n",
       "    </tr>\n",
       "    <tr>\n",
       "      <th>2023-01-17</th>\n",
       "      <td>43.0</td>\n",
       "      <td>62.0</td>\n",
       "      <td>11.0</td>\n",
       "      <td>31.0</td>\n",
       "      <td>56.0</td>\n",
       "    </tr>\n",
       "    <tr>\n",
       "      <th>2023-01-18</th>\n",
       "      <td>11.0</td>\n",
       "      <td>11.0</td>\n",
       "      <td>28.0</td>\n",
       "      <td>44.0</td>\n",
       "      <td>32.0</td>\n",
       "    </tr>\n",
       "    <tr>\n",
       "      <th>2023-01-19</th>\n",
       "      <td>88.0</td>\n",
       "      <td>54.0</td>\n",
       "      <td>49.0</td>\n",
       "      <td>13.0</td>\n",
       "      <td>93.0</td>\n",
       "    </tr>\n",
       "    <tr>\n",
       "      <th>2023-01-20</th>\n",
       "      <td>82.0</td>\n",
       "      <td>84.0</td>\n",
       "      <td>54.0</td>\n",
       "      <td>39.0</td>\n",
       "      <td>36.0</td>\n",
       "    </tr>\n",
       "    <tr>\n",
       "      <th>2023-01-21</th>\n",
       "      <td>90.0</td>\n",
       "      <td>85.0</td>\n",
       "      <td>57.0</td>\n",
       "      <td>85.0</td>\n",
       "      <td>9.0</td>\n",
       "    </tr>\n",
       "    <tr>\n",
       "      <th>2023-01-22</th>\n",
       "      <td>71.0</td>\n",
       "      <td>46.0</td>\n",
       "      <td>26.0</td>\n",
       "      <td>76.0</td>\n",
       "      <td>47.0</td>\n",
       "    </tr>\n",
       "    <tr>\n",
       "      <th>2023-01-23</th>\n",
       "      <td>33.0</td>\n",
       "      <td>23.0</td>\n",
       "      <td>44.0</td>\n",
       "      <td>89.0</td>\n",
       "      <td>15.0</td>\n",
       "    </tr>\n",
       "    <tr>\n",
       "      <th>2023-01-24</th>\n",
       "      <td>11.0</td>\n",
       "      <td>64.0</td>\n",
       "      <td>62.0</td>\n",
       "      <td>98.0</td>\n",
       "      <td>65.0</td>\n",
       "    </tr>\n",
       "    <tr>\n",
       "      <th>2023-01-25</th>\n",
       "      <td>32.0</td>\n",
       "      <td>69.0</td>\n",
       "      <td>6.0</td>\n",
       "      <td>35.0</td>\n",
       "      <td>35.0</td>\n",
       "    </tr>\n",
       "    <tr>\n",
       "      <th>2023-01-26</th>\n",
       "      <td>57.0</td>\n",
       "      <td>19.0</td>\n",
       "      <td>10.0</td>\n",
       "      <td>17.0</td>\n",
       "      <td>18.0</td>\n",
       "    </tr>\n",
       "    <tr>\n",
       "      <th>2023-01-27</th>\n",
       "      <td>53.0</td>\n",
       "      <td>52.0</td>\n",
       "      <td>47.0</td>\n",
       "      <td>45.0</td>\n",
       "      <td>59.0</td>\n",
       "    </tr>\n",
       "    <tr>\n",
       "      <th>2023-01-28</th>\n",
       "      <td>59.0</td>\n",
       "      <td>60.0</td>\n",
       "      <td>49.0</td>\n",
       "      <td>70.0</td>\n",
       "      <td>26.0</td>\n",
       "    </tr>\n",
       "    <tr>\n",
       "      <th>2023-01-29</th>\n",
       "      <td>45.0</td>\n",
       "      <td>99.0</td>\n",
       "      <td>36.0</td>\n",
       "      <td>52.0</td>\n",
       "      <td>41.0</td>\n",
       "    </tr>\n",
       "    <tr>\n",
       "      <th>2023-01-30</th>\n",
       "      <td>65.0</td>\n",
       "      <td>56.0</td>\n",
       "      <td>65.0</td>\n",
       "      <td>88.0</td>\n",
       "      <td>60.0</td>\n",
       "    </tr>\n",
       "  </tbody>\n",
       "</table>\n",
       "</div>"
      ],
      "text/plain": [
       "             BYD  Tesla   KIA  Hyundai  Toyota\n",
       "2023-01-01  45.0   92.0  49.0      6.0    91.0\n",
       "2023-01-02  71.0    7.0  77.0     34.0    38.0\n",
       "2023-01-03  92.0   42.0  90.0     64.0    43.0\n",
       "2023-01-04  71.0   59.0  24.0     71.0     8.0\n",
       "2023-01-05  59.0   34.0  81.0     43.0    55.0\n",
       "2023-01-06  52.0   30.0  90.0     77.0    23.0\n",
       "2023-01-07  46.0   30.0  14.0     50.0    91.0\n",
       "2023-01-08  25.0   57.0  21.0     69.0    50.0\n",
       "2023-01-09  87.0   10.0  64.0     26.0    78.0\n",
       "2023-01-10   9.0   25.0  56.0     99.0    87.0\n",
       "2023-01-11  93.0   56.0  61.0     17.0    67.0\n",
       "2023-01-12  12.0   93.0  35.0     57.0    80.0\n",
       "2023-01-13  46.0   29.0  83.0     25.0     6.0\n",
       "2023-01-14  52.0   38.0  20.0     57.0    52.0\n",
       "2023-01-15  68.0   21.0  76.0     36.0    47.0\n",
       "2023-01-16  27.0   52.0  66.0     64.0    40.0\n",
       "2023-01-17  43.0   62.0  11.0     31.0    56.0\n",
       "2023-01-18  11.0   11.0  28.0     44.0    32.0\n",
       "2023-01-19  88.0   54.0  49.0     13.0    93.0\n",
       "2023-01-20  82.0   84.0  54.0     39.0    36.0\n",
       "2023-01-21  90.0   85.0  57.0     85.0     9.0\n",
       "2023-01-22  71.0   46.0  26.0     76.0    47.0\n",
       "2023-01-23  33.0   23.0  44.0     89.0    15.0\n",
       "2023-01-24  11.0   64.0  62.0     98.0    65.0\n",
       "2023-01-25  32.0   69.0   6.0     35.0    35.0\n",
       "2023-01-26  57.0   19.0  10.0     17.0    18.0\n",
       "2023-01-27  53.0   52.0  47.0     45.0    59.0\n",
       "2023-01-28  59.0   60.0  49.0     70.0    26.0\n",
       "2023-01-29  45.0   99.0  36.0     52.0    41.0\n",
       "2023-01-30  65.0   56.0  65.0     88.0    60.0"
      ]
     },
     "execution_count": 102,
     "metadata": {},
     "output_type": "execute_result"
    }
   ],
   "source": [
    "dates = pd.date_range(start='2023-01-01', periods=30)\n",
    "companies = ['BYD', 'Tesla', 'KIA', 'Hyundai', 'Toyota']\n",
    "#stock_prices = pd.DataFrame((np.random.rand(30, 5) * 100).round(), index=dates, columns=companies)\n",
    "stock_prices = pd.DataFrame((np.random.uniform(5, 100, (30, 5))).round(), index=dates, columns=companies)\n",
    "stock_prices"
   ]
  },
  {
   "cell_type": "code",
   "execution_count": 103,
   "metadata": {},
   "outputs": [
    {
     "data": {
      "text/html": [
       "<div>\n",
       "<style scoped>\n",
       "    .dataframe tbody tr th:only-of-type {\n",
       "        vertical-align: middle;\n",
       "    }\n",
       "\n",
       "    .dataframe tbody tr th {\n",
       "        vertical-align: top;\n",
       "    }\n",
       "\n",
       "    .dataframe thead th {\n",
       "        text-align: right;\n",
       "    }\n",
       "</style>\n",
       "<table border=\"1\" class=\"dataframe\">\n",
       "  <thead>\n",
       "    <tr style=\"text-align: right;\">\n",
       "      <th></th>\n",
       "      <th>BYD</th>\n",
       "      <th>Tesla</th>\n",
       "      <th>KIA</th>\n",
       "      <th>Hyundai</th>\n",
       "      <th>Toyota</th>\n",
       "    </tr>\n",
       "  </thead>\n",
       "  <tbody>\n",
       "    <tr>\n",
       "      <th>2023-01-01</th>\n",
       "      <td>NaN</td>\n",
       "      <td>NaN</td>\n",
       "      <td>NaN</td>\n",
       "      <td>NaN</td>\n",
       "      <td>NaN</td>\n",
       "    </tr>\n",
       "    <tr>\n",
       "      <th>2023-01-02</th>\n",
       "      <td>58.0</td>\n",
       "      <td>-92.0</td>\n",
       "      <td>57.0</td>\n",
       "      <td>467.0</td>\n",
       "      <td>-58.0</td>\n",
       "    </tr>\n",
       "    <tr>\n",
       "      <th>2023-01-03</th>\n",
       "      <td>30.0</td>\n",
       "      <td>500.0</td>\n",
       "      <td>17.0</td>\n",
       "      <td>88.0</td>\n",
       "      <td>13.0</td>\n",
       "    </tr>\n",
       "    <tr>\n",
       "      <th>2023-01-04</th>\n",
       "      <td>-23.0</td>\n",
       "      <td>40.0</td>\n",
       "      <td>-73.0</td>\n",
       "      <td>11.0</td>\n",
       "      <td>-81.0</td>\n",
       "    </tr>\n",
       "    <tr>\n",
       "      <th>2023-01-05</th>\n",
       "      <td>-17.0</td>\n",
       "      <td>-42.0</td>\n",
       "      <td>238.0</td>\n",
       "      <td>-39.0</td>\n",
       "      <td>588.0</td>\n",
       "    </tr>\n",
       "    <tr>\n",
       "      <th>2023-01-06</th>\n",
       "      <td>-12.0</td>\n",
       "      <td>-12.0</td>\n",
       "      <td>11.0</td>\n",
       "      <td>79.0</td>\n",
       "      <td>-58.0</td>\n",
       "    </tr>\n",
       "    <tr>\n",
       "      <th>2023-01-07</th>\n",
       "      <td>-12.0</td>\n",
       "      <td>0.0</td>\n",
       "      <td>-84.0</td>\n",
       "      <td>-35.0</td>\n",
       "      <td>296.0</td>\n",
       "    </tr>\n",
       "    <tr>\n",
       "      <th>2023-01-08</th>\n",
       "      <td>-46.0</td>\n",
       "      <td>90.0</td>\n",
       "      <td>50.0</td>\n",
       "      <td>38.0</td>\n",
       "      <td>-45.0</td>\n",
       "    </tr>\n",
       "    <tr>\n",
       "      <th>2023-01-09</th>\n",
       "      <td>248.0</td>\n",
       "      <td>-82.0</td>\n",
       "      <td>205.0</td>\n",
       "      <td>-62.0</td>\n",
       "      <td>56.0</td>\n",
       "    </tr>\n",
       "    <tr>\n",
       "      <th>2023-01-10</th>\n",
       "      <td>-90.0</td>\n",
       "      <td>150.0</td>\n",
       "      <td>-12.0</td>\n",
       "      <td>281.0</td>\n",
       "      <td>12.0</td>\n",
       "    </tr>\n",
       "    <tr>\n",
       "      <th>2023-01-11</th>\n",
       "      <td>933.0</td>\n",
       "      <td>124.0</td>\n",
       "      <td>9.0</td>\n",
       "      <td>-83.0</td>\n",
       "      <td>-23.0</td>\n",
       "    </tr>\n",
       "    <tr>\n",
       "      <th>2023-01-12</th>\n",
       "      <td>-87.0</td>\n",
       "      <td>66.0</td>\n",
       "      <td>-43.0</td>\n",
       "      <td>235.0</td>\n",
       "      <td>19.0</td>\n",
       "    </tr>\n",
       "    <tr>\n",
       "      <th>2023-01-13</th>\n",
       "      <td>283.0</td>\n",
       "      <td>-69.0</td>\n",
       "      <td>137.0</td>\n",
       "      <td>-56.0</td>\n",
       "      <td>-92.0</td>\n",
       "    </tr>\n",
       "    <tr>\n",
       "      <th>2023-01-14</th>\n",
       "      <td>13.0</td>\n",
       "      <td>31.0</td>\n",
       "      <td>-76.0</td>\n",
       "      <td>128.0</td>\n",
       "      <td>767.0</td>\n",
       "    </tr>\n",
       "    <tr>\n",
       "      <th>2023-01-15</th>\n",
       "      <td>31.0</td>\n",
       "      <td>-45.0</td>\n",
       "      <td>280.0</td>\n",
       "      <td>-37.0</td>\n",
       "      <td>-10.0</td>\n",
       "    </tr>\n",
       "    <tr>\n",
       "      <th>2023-01-16</th>\n",
       "      <td>-60.0</td>\n",
       "      <td>148.0</td>\n",
       "      <td>-13.0</td>\n",
       "      <td>78.0</td>\n",
       "      <td>-15.0</td>\n",
       "    </tr>\n",
       "    <tr>\n",
       "      <th>2023-01-17</th>\n",
       "      <td>59.0</td>\n",
       "      <td>19.0</td>\n",
       "      <td>-83.0</td>\n",
       "      <td>-52.0</td>\n",
       "      <td>40.0</td>\n",
       "    </tr>\n",
       "    <tr>\n",
       "      <th>2023-01-18</th>\n",
       "      <td>-74.0</td>\n",
       "      <td>-82.0</td>\n",
       "      <td>155.0</td>\n",
       "      <td>42.0</td>\n",
       "      <td>-43.0</td>\n",
       "    </tr>\n",
       "    <tr>\n",
       "      <th>2023-01-19</th>\n",
       "      <td>700.0</td>\n",
       "      <td>391.0</td>\n",
       "      <td>75.0</td>\n",
       "      <td>-70.0</td>\n",
       "      <td>191.0</td>\n",
       "    </tr>\n",
       "    <tr>\n",
       "      <th>2023-01-20</th>\n",
       "      <td>-7.0</td>\n",
       "      <td>56.0</td>\n",
       "      <td>10.0</td>\n",
       "      <td>200.0</td>\n",
       "      <td>-61.0</td>\n",
       "    </tr>\n",
       "    <tr>\n",
       "      <th>2023-01-21</th>\n",
       "      <td>10.0</td>\n",
       "      <td>1.0</td>\n",
       "      <td>6.0</td>\n",
       "      <td>118.0</td>\n",
       "      <td>-75.0</td>\n",
       "    </tr>\n",
       "    <tr>\n",
       "      <th>2023-01-22</th>\n",
       "      <td>-21.0</td>\n",
       "      <td>-46.0</td>\n",
       "      <td>-54.0</td>\n",
       "      <td>-11.0</td>\n",
       "      <td>422.0</td>\n",
       "    </tr>\n",
       "    <tr>\n",
       "      <th>2023-01-23</th>\n",
       "      <td>-54.0</td>\n",
       "      <td>-50.0</td>\n",
       "      <td>69.0</td>\n",
       "      <td>17.0</td>\n",
       "      <td>-68.0</td>\n",
       "    </tr>\n",
       "    <tr>\n",
       "      <th>2023-01-24</th>\n",
       "      <td>-67.0</td>\n",
       "      <td>178.0</td>\n",
       "      <td>41.0</td>\n",
       "      <td>10.0</td>\n",
       "      <td>333.0</td>\n",
       "    </tr>\n",
       "    <tr>\n",
       "      <th>2023-01-25</th>\n",
       "      <td>191.0</td>\n",
       "      <td>8.0</td>\n",
       "      <td>-90.0</td>\n",
       "      <td>-64.0</td>\n",
       "      <td>-46.0</td>\n",
       "    </tr>\n",
       "    <tr>\n",
       "      <th>2023-01-26</th>\n",
       "      <td>78.0</td>\n",
       "      <td>-72.0</td>\n",
       "      <td>67.0</td>\n",
       "      <td>-51.0</td>\n",
       "      <td>-49.0</td>\n",
       "    </tr>\n",
       "    <tr>\n",
       "      <th>2023-01-27</th>\n",
       "      <td>-7.0</td>\n",
       "      <td>174.0</td>\n",
       "      <td>370.0</td>\n",
       "      <td>165.0</td>\n",
       "      <td>228.0</td>\n",
       "    </tr>\n",
       "    <tr>\n",
       "      <th>2023-01-28</th>\n",
       "      <td>11.0</td>\n",
       "      <td>15.0</td>\n",
       "      <td>4.0</td>\n",
       "      <td>56.0</td>\n",
       "      <td>-56.0</td>\n",
       "    </tr>\n",
       "    <tr>\n",
       "      <th>2023-01-29</th>\n",
       "      <td>-24.0</td>\n",
       "      <td>65.0</td>\n",
       "      <td>-27.0</td>\n",
       "      <td>-26.0</td>\n",
       "      <td>58.0</td>\n",
       "    </tr>\n",
       "    <tr>\n",
       "      <th>2023-01-30</th>\n",
       "      <td>44.0</td>\n",
       "      <td>-43.0</td>\n",
       "      <td>81.0</td>\n",
       "      <td>69.0</td>\n",
       "      <td>46.0</td>\n",
       "    </tr>\n",
       "  </tbody>\n",
       "</table>\n",
       "</div>"
      ],
      "text/plain": [
       "              BYD  Tesla    KIA  Hyundai  Toyota\n",
       "2023-01-01    NaN    NaN    NaN      NaN     NaN\n",
       "2023-01-02   58.0  -92.0   57.0    467.0   -58.0\n",
       "2023-01-03   30.0  500.0   17.0     88.0    13.0\n",
       "2023-01-04  -23.0   40.0  -73.0     11.0   -81.0\n",
       "2023-01-05  -17.0  -42.0  238.0    -39.0   588.0\n",
       "2023-01-06  -12.0  -12.0   11.0     79.0   -58.0\n",
       "2023-01-07  -12.0    0.0  -84.0    -35.0   296.0\n",
       "2023-01-08  -46.0   90.0   50.0     38.0   -45.0\n",
       "2023-01-09  248.0  -82.0  205.0    -62.0    56.0\n",
       "2023-01-10  -90.0  150.0  -12.0    281.0    12.0\n",
       "2023-01-11  933.0  124.0    9.0    -83.0   -23.0\n",
       "2023-01-12  -87.0   66.0  -43.0    235.0    19.0\n",
       "2023-01-13  283.0  -69.0  137.0    -56.0   -92.0\n",
       "2023-01-14   13.0   31.0  -76.0    128.0   767.0\n",
       "2023-01-15   31.0  -45.0  280.0    -37.0   -10.0\n",
       "2023-01-16  -60.0  148.0  -13.0     78.0   -15.0\n",
       "2023-01-17   59.0   19.0  -83.0    -52.0    40.0\n",
       "2023-01-18  -74.0  -82.0  155.0     42.0   -43.0\n",
       "2023-01-19  700.0  391.0   75.0    -70.0   191.0\n",
       "2023-01-20   -7.0   56.0   10.0    200.0   -61.0\n",
       "2023-01-21   10.0    1.0    6.0    118.0   -75.0\n",
       "2023-01-22  -21.0  -46.0  -54.0    -11.0   422.0\n",
       "2023-01-23  -54.0  -50.0   69.0     17.0   -68.0\n",
       "2023-01-24  -67.0  178.0   41.0     10.0   333.0\n",
       "2023-01-25  191.0    8.0  -90.0    -64.0   -46.0\n",
       "2023-01-26   78.0  -72.0   67.0    -51.0   -49.0\n",
       "2023-01-27   -7.0  174.0  370.0    165.0   228.0\n",
       "2023-01-28   11.0   15.0    4.0     56.0   -56.0\n",
       "2023-01-29  -24.0   65.0  -27.0    -26.0    58.0\n",
       "2023-01-30   44.0  -43.0   81.0     69.0    46.0"
      ]
     },
     "execution_count": 103,
     "metadata": {},
     "output_type": "execute_result"
    }
   ],
   "source": [
    "percentage_change = (stock_prices.pct_change() * 100).round()\n",
    "percentage_change"
   ]
  },
  {
   "cell_type": "code",
   "execution_count": 104,
   "metadata": {},
   "outputs": [
    {
     "name": "stdout",
     "output_type": "stream",
     "text": [
      "BYD       2023-01-11\n",
      "Tesla     2023-01-03\n",
      "KIA       2023-01-27\n",
      "Hyundai   2023-01-02\n",
      "Toyota    2023-01-14\n",
      "dtype: datetime64[ns]\n",
      "BYD       2023-01-10\n",
      "Tesla     2023-01-02\n",
      "KIA       2023-01-25\n",
      "Hyundai   2023-01-11\n",
      "Toyota    2023-01-13\n",
      "dtype: datetime64[ns]\n"
     ]
    }
   ],
   "source": [
    "highest_change = percentage_change.idxmax()\n",
    "lowest_change = percentage_change.idxmin()\n",
    "print(highest_change)\n",
    "print(lowest_change)"
   ]
  },
  {
   "cell_type": "code",
   "execution_count": 108,
   "metadata": {},
   "outputs": [
    {
     "data": {
      "image/png": "[encoded data removed]",
      "text/plain": [
       "<Figure size 1000x600 with 1 Axes>"
      ]
     },
     "metadata": {},
     "output_type": "display_data"
    }
   ],
   "source": [
    "plt.figure(figsize=(10, 6))\n",
    "plt.plot(stock_prices['BYD'], label='BYD', marker='o')\n",
    "plt.plot(stock_prices['Tesla'], label='Tesla', marker='x')\n",
    "plt.title('Stock Prices of BYD and Tesla Over a Month')\n",
    "plt.xlabel('Date')\n",
    "plt.ylabel('Stock Price')\n",
    "plt.legend()\n",
    "plt.xticks(rotation=45)\n",
    "plt.grid()\n",
    "plt.tight_layout()\n",
    "plt.show()"
   ]
  },
  {
   "cell_type": "code",
   "execution_count": null,
   "metadata": {},
   "outputs": [],
   "source": []
  }
 ],
 "metadata": {
  "kernelspec": {
   "display_name": "Python 3 (ipykernel)",
   "language": "python",
   "name": "python3"
  },
  "language_info": {
   "codemirror_mode": {
    "name": "ipython",
    "version": 3
   },
   "file_extension": ".py",
   "mimetype": "text/x-python",
   "name": "python",
   "nbconvert_exporter": "python",
   "pygments_lexer": "ipython3",
   "version": "3.12.7"
  }
 },
 "nbformat": 4,
 "nbformat_minor": 4
}
