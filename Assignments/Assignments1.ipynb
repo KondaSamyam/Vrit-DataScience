{
 "cells": [
  {
   "cell_type": "markdown",
   "id": "bf0e48af",
   "metadata": {},
   "source": [
    "**Question : Variable-length Arguments (*args and **kwargs)**\n",
    "\n",
    "Write a Program to Define a Function `describe_pet` that accepts a variable number of keyword arguments (`**kwargs`)."
   ]
  },
  {
   "cell_type": "code",
   "execution_count": 2,
   "id": "896530ff",
   "metadata": {},
   "outputs": [
    {
     "name": "stdout",
     "output_type": "stream",
     "text": [
      "name : Leo\n",
      "age : 2\n",
      "type : Golden Retriever\n"
     ]
    }
   ],
   "source": [
    "def describe_pets(**kwargs):\n",
    "    \"\"\"\n",
    "    Parameters:\n",
    "    kwargs = Multiple key value pairs\n",
    "    \n",
    "    Returns:\n",
    "    Prints the key and value of the arguments passed\n",
    "    \"\"\"\n",
    "    for key, value in kwargs.items():\n",
    "        print(key, \":\", value)\n",
    "    \n",
    "    return\n",
    "\n",
    "describe_pets(name=\"Leo\", age=2, type=\"Golden Retriever\")"
   ]
  },
  {
   "cell_type": "markdown",
   "id": "ebd57da3",
   "metadata": {},
   "source": [
    "**Question : Calculate Std. Deviation of given list.**"
   ]
  },
  {
   "cell_type": "code",
   "execution_count": 5,
   "id": "016b5632",
   "metadata": {},
   "outputs": [],
   "source": [
    "import math\n",
    "\n",
    "def standard_deviation(my_list):\n",
    "    \"\"\"\n",
    "    Parameters:\n",
    "    my_list = List passed by the user\n",
    "    \n",
    "    Returns:\n",
    "    Standard Deviation value of the List\n",
    "    \"\"\"\n",
    "    n = len(my_list)\n",
    "    total = sum(my_list)\n",
    "    mean = total/n\n",
    "    y = list((x - mean) ** 2 for x in my_list)\n",
    "    res = sum(y)\n",
    "    res1 = res/n\n",
    "    std_dev = math.sqrt(res1)\n",
    "    \n",
    "    return std_dev"
   ]
  },
  {
   "cell_type": "code",
   "execution_count": 6,
   "id": "383cc507",
   "metadata": {},
   "outputs": [
    {
     "name": "stdout",
     "output_type": "stream",
     "text": [
      "16.280049139974977\n"
     ]
    }
   ],
   "source": [
    "result = standard_deviation([11,24,37,42,59])\n",
    "print(result)"
   ]
  },
  {
   "cell_type": "code",
   "execution_count": null,
   "id": "f79eb5fc",
   "metadata": {},
   "outputs": [],
   "source": []
  }
 ],
 "metadata": {
  "kernelspec": {
   "display_name": "Python 3 (ipykernel)",
   "language": "python",
   "name": "python3"
  },
  "language_info": {
   "codemirror_mode": {
    "name": "ipython",
    "version": 3
   },
   "file_extension": ".py",
   "mimetype": "text/x-python",
   "name": "python",
   "nbconvert_exporter": "python",
   "pygments_lexer": "ipython3",
   "version": "3.9.7"
  }
 },
 "nbformat": 4,
 "nbformat_minor": 5
}
