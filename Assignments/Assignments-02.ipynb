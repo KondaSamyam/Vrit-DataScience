{
 "cells": [
  {
   "cell_type": "markdown",
   "metadata": {},
   "source": [
    "### Coding Scenario: Personal Profile and Preferences\n",
    "\n",
    "**Objective:** You are tasked with creating a Python script to represent and process personal profile information and preferences. This scenario will test your knowledge of strings, integers, lists, tuples, dictionaries, and boolean data types in Python.\n",
    "\n",
    "#### Scenario Description:\n",
    "\n",
    "Imagine you are designing a simple profile for a social media application. Each user profile contains basic personal information, a list of favorite hobbies, preferred screen dimensions for viewing the app, and a brief description of their pet.\n"
   ]
  },
  {
   "cell_type": "markdown",
   "metadata": {},
   "source": [
    "\n",
    "#### Task Instructions:\n",
    "\n",
    "1. **Personal Information**\n",
    "   - Create a variable `name` (str) to store the user's name.\n",
    "   - Create a variable `age` (int) to store the user's age.\n",
    "   - Print a greeting message using these variables, e.g., `\"Hello, my name is Alice and I am 30 years old.\"`\n"
   ]
  },
  {
   "cell_type": "code",
   "execution_count": 2,
   "metadata": {},
   "outputs": [
    {
     "name": "stdin",
     "output_type": "stream",
     "text": [
      "Name:  Samyam\n",
      "Age:  23\n"
     ]
    },
    {
     "name": "stdout",
     "output_type": "stream",
     "text": [
      "Hello, my name is Samyam and I am 23 years old.\n"
     ]
    }
   ],
   "source": [
    "# Your Solution Here\n",
    "name = input(\"Name: \")\n",
    "age = int(input(\"Age: \"))\n",
    "print(f\"Hello, my name is {name} and I am {age} years old.\")"
   ]
  },
  {
   "cell_type": "markdown",
   "metadata": {},
   "source": [
    "2. **Favorite Hobbies**\n",
    "   - Create a list `favorite_hobbies` containing at least three hobbies as strings.\n",
    "   - Add another hobby to this list and print the updated list."
   ]
  },
  {
   "cell_type": "code",
   "execution_count": 3,
   "metadata": {},
   "outputs": [
    {
     "data": {
      "text/plain": [
       "['Gaming', 'Football', 'Travelling', 'Eating']"
      ]
     },
     "execution_count": 3,
     "metadata": {},
     "output_type": "execute_result"
    }
   ],
   "source": [
    "# Your Solution Here\n",
    "favorite_hobbies = [\"Gaming\", \"Football\", \"Travelling\"]\n",
    "favorite_hobbies.append(\"Eating\")\n",
    "favorite_hobbies"
   ]
  },
  {
   "cell_type": "markdown",
   "metadata": {},
   "source": [
    "3. **Screen Dimensions**\n",
    "   - Define a tuple `screen_dimensions` with two integers representing the width and height of the user's preferred screen size for the app.\n",
    "   - Attempt to modify one of the values in the tuple to simulate an attempt to change screen preferences and comment on the outcome."
   ]
  },
  {
   "cell_type": "code",
   "execution_count": 3,
   "metadata": {},
   "outputs": [
    {
     "name": "stdout",
     "output_type": "stream",
     "text": [
      "<class 'tuple'>\n",
      "1028\n"
     ]
    }
   ],
   "source": [
    "# Your Solution Here\n",
    "screen_dimensions = (1028, 2048)\n",
    "print(type(screen_dimensions))\n",
    "print(screen_dimensions[0])"
   ]
  },
  {
   "cell_type": "code",
   "execution_count": 4,
   "metadata": {},
   "outputs": [
    {
     "ename": "TypeError",
     "evalue": "'tuple' object does not support item assignment",
     "output_type": "error",
     "traceback": [
      "\u001b[1;31m---------------------------------------------------------------------------\u001b[0m",
      "\u001b[1;31mTypeError\u001b[0m                                 Traceback (most recent call last)",
      "\u001b[1;32m~\\AppData\\Local\\Temp/ipykernel_8756/4083230186.py\u001b[0m in \u001b[0;36m<module>\u001b[1;34m\u001b[0m\n\u001b[1;32m----> 1\u001b[1;33m \u001b[0mscreen_dimensions\u001b[0m\u001b[1;33m[\u001b[0m\u001b[1;36m0\u001b[0m\u001b[1;33m]\u001b[0m \u001b[1;33m=\u001b[0m \u001b[1;36m2021\u001b[0m\u001b[1;33m\u001b[0m\u001b[1;33m\u001b[0m\u001b[0m\n\u001b[0m\u001b[0;32m      2\u001b[0m \u001b[1;31m#Cannot modify the values of a tuple\u001b[0m\u001b[1;33m\u001b[0m\u001b[1;33m\u001b[0m\u001b[0m\n",
      "\u001b[1;31mTypeError\u001b[0m: 'tuple' object does not support item assignment"
     ]
    }
   ],
   "source": [
    "screen_dimensions[0] = 2021\n",
    "#Cannot modify the values of a tuple"
   ]
  },
  {
   "cell_type": "markdown",
   "metadata": {},
   "source": [
    "4. **Pet Description**\n",
    "   - Create a dictionary `pet` to describe the user's pet. It should include keys for `type`, `name`, `age`, and later, `color`.\n",
    "   - Add a `color` key to the `pet` dictionary with an appropriate value and print the pet's name and color."
   ]
  },
  {
   "cell_type": "code",
   "execution_count": 5,
   "metadata": {},
   "outputs": [
    {
     "name": "stdout",
     "output_type": "stream",
     "text": [
      "{'type': 'Dog', 'Name': 'Leo', 'Age': 2}\n",
      "{'type': 'Dog', 'Name': 'Leo', 'Age': 2, 'Color': 'Golden'}\n"
     ]
    }
   ],
   "source": [
    "# Your Solution Here\n",
    "pet = {\"type\" : \"Dog\", \"Name\": \"Leo\", \"Age\": 2}\n",
    "print(pet)\n",
    "pet[\"Color\"] =  \"Golden\"\n",
    "print(pet)"
   ]
  },
  {
   "cell_type": "markdown",
   "metadata": {},
   "source": [
    "5. **Adult Status**\n",
    "   - Determine if the user is an adult with a boolean variable `is_adult`. Consider someone an adult if they are 18 years old or more.\n",
    "   - Using conditional logic, print `\"I am an adult.\"` if true, and `\"I am not an adult.\"` if false.\n"
   ]
  },
  {
   "cell_type": "code",
   "execution_count": 6,
   "metadata": {},
   "outputs": [
    {
     "name": "stdout",
     "output_type": "stream",
     "text": [
      "Enter your Age: 20\n",
      "I am an adult.\n"
     ]
    }
   ],
   "source": [
    "# Your Solution Here\n",
    "age = int(input(\"Enter your Age: \"))\n",
    "\n",
    "if age < 18:\n",
    "    print(\"I am not an adult.\")\n",
    "else:\n",
    "    print(\"I am an adult.\")"
   ]
  },
  {
   "cell_type": "markdown",
   "metadata": {},
   "source": [
    "### Question : Book Keeper\n",
    "\n",
    "Following the data below , complete the given Tasks :"
   ]
  },
  {
   "cell_type": "code",
   "execution_count": 4,
   "metadata": {},
   "outputs": [],
   "source": [
    "# A list of tuples, where each tuple contains information about a book: (title, genre, year_published, times_borrowed).\n",
    "\n",
    "books = [\n",
    "    (\"The Alchemist\", \"Fiction\", 1988, 250),\n",
    "    (\"The Da Vinci Code\", \"Mystery\", 2003, 300),\n",
    "    (\"A Brief History of Time\", \"Science\", 1988, 150),\n",
    "    (\"The Theory of Everything\", \"Science\", 2002, 100),\n",
    "    (\"Pride and Prejudice\", \"Fiction\", 1813, 200),\n",
    "    (\"To Kill a Mockingbird\", \"Fiction\", 1960, 180),\n",
    "    (\"The Catcher in the Rye\", \"Fiction\", 1951, 220),\n",
    "    (\"Angels & Demons\", \"Mystery\", 2000, 210),\n",
    "    (\"The Grand Design\", \"Science\", 2010, 90),\n",
    "    (\"1984\", \"Fiction\", 1949, 190)\n",
    "]"
   ]
  },
  {
   "cell_type": "markdown",
   "metadata": {},
   "source": [
    "**Task 01**: Create a Book Filtering Function\n",
    "\n",
    "Given the list books as shown below, write a Python function named `filter_books` that filters books based on *genre* and *publication year*. The function should take two parameters: `genre (a string)` and `year (an integer)`. It should return a list of book titles that match the given genre and have been **published on or after** the specified year.\n",
    "\n",
    "- Example usage : `print(filter_books(\"Fiction\", 1980))`\n",
    "- Expected output: `['The Alchemist', 'The Catcher in the Rye']`\n",
    "\n",
    "*Try to use List Comprehension with If condition*"
   ]
  },
  {
   "cell_type": "code",
   "execution_count": 5,
   "metadata": {},
   "outputs": [
    {
     "name": "stdout",
     "output_type": "stream",
     "text": [
      "['The Alchemist', 'To Kill a Mockingbird']\n"
     ]
    }
   ],
   "source": [
    "# Your Solution Here\n",
    "def filter_books(genre:str, year:int):\n",
    "    filtered_books = []\n",
    "    for title, book_genre, year_published, times_borrowed in books:\n",
    "        if genre == book_genre and year_published >= year:\n",
    "            filtered_books.append(title)\n",
    "            \n",
    "    return filtered_books\n",
    "\n",
    "print(filter_books(\"Fiction\", 1960))"
   ]
  },
  {
   "cell_type": "code",
   "execution_count": 6,
   "metadata": {},
   "outputs": [
    {
     "name": "stdout",
     "output_type": "stream",
     "text": [
      "['The Alchemist', 'To Kill a Mockingbird']\n"
     ]
    }
   ],
   "source": [
    "def filter_books(genre:str, year:int):\n",
    "    filtered_books = [title for title, book_genre, year_published, times_borrowed in books\n",
    "        if genre == book_genre and year_published >= year]           \n",
    "    return filtered_books\n",
    "\n",
    "print(filter_books(\"Fiction\", 1960))"
   ]
  },
  {
   "cell_type": "markdown",
   "metadata": {},
   "source": [
    "**Task 02** : Write a Python function named `borrowing_stats` that uses dictionary comprehension to create and return a dictionary. This dictionary should map each book's title to the number of times it has been borrowed, but only include books from the \"`Fiction`\" genre.\n",
    "\n",
    "\n",
    "- Example usage : `print(borrowing_stats(books))`\n",
    "- Expected output: `{'The Alchemist': 250, 'Pride and Prejudice': 200, 'To Kill a Mockingbird': 180, 'The Catcher in the Rye': 220, '1984': 190}`"
   ]
  },
  {
   "cell_type": "code",
   "execution_count": 9,
   "metadata": {},
   "outputs": [
    {
     "name": "stdout",
     "output_type": "stream",
     "text": [
      "{'The Alchemist': 250, 'The Da Vinci Code': 300, 'A Brief History of Time': 150, 'The Theory of Everything': 100, 'Pride and Prejudice': 200, 'To Kill a Mockingbird': 180, 'The Catcher in the Rye': 220, 'Angels & Demons': 210, 'The Grand Design': 90, '1984': 190}\n"
     ]
    }
   ],
   "source": [
    "# Your Solution Here\n",
    "def borrowing_stats(books):\n",
    "    books_stats = {title: times_borrowed for title, book_genre, year_published, times_borrowed in books}\n",
    "    return books_stats\n",
    "\n",
    "print(borrowing_stats(books))"
   ]
  },
  {
   "cell_type": "markdown",
   "metadata": {},
   "source": [
    "**Task 03** : Write a Python program that uses a lambda expression to sort this list by publication year in ascending order. Print the sorted list of books.\n",
    "\n",
    "*Try using a lambda expression with the sorted() function*"
   ]
  },
  {
   "cell_type": "code",
   "execution_count": 10,
   "metadata": {},
   "outputs": [
    {
     "name": "stdout",
     "output_type": "stream",
     "text": [
      "[('Pride and Prejudice', 'Fiction', 1813, 200), ('1984', 'Fiction', 1949, 190), ('The Catcher in the Rye', 'Fiction', 1951, 220), ('To Kill a Mockingbird', 'Fiction', 1960, 180), ('The Alchemist', 'Fiction', 1988, 250), ('A Brief History of Time', 'Science', 1988, 150), ('Angels & Demons', 'Mystery', 2000, 210), ('The Theory of Everything', 'Science', 2002, 100), ('The Da Vinci Code', 'Mystery', 2003, 300), ('The Grand Design', 'Science', 2010, 90)]\n"
     ]
    }
   ],
   "source": [
    "# Your Solution Here\n",
    "\n",
    "sorted_books = sorted(books, key=lambda book: book[2])\n",
    "\n",
    "print(sorted_books)"
   ]
  },
  {
   "cell_type": "code",
   "execution_count": null,
   "metadata": {},
   "outputs": [],
   "source": []
  },
  {
   "cell_type": "markdown",
   "metadata": {},
   "source": [
    "### Question: File Read and Write\n",
    "**Write a Program that Uses Functions `write_to_file` and `read_from_file`**:\n",
    "- `write_to_file(filename, content)`: Writes `content` to a file named `filename`. If the file doesn't exist, it should be created.\n",
    "- `read_from_file(filename)`: Reads and prints the content of a file named `filename`.\n",
    "Call `write_to_file` to write \"Hello, Python!\" to a file named \"greetings.txt\", then call `read_from_file` to read and print the content of this file."
   ]
  },
  {
   "cell_type": "code",
   "execution_count": 11,
   "metadata": {},
   "outputs": [],
   "source": [
    "# Your Solution Here\n",
    "def write_to_file(filename, content):\n",
    "    file = open(filename, \"w\")\n",
    "    file.write(content)\n",
    "    file.close()\n",
    "    \n",
    "    return\n",
    "\n",
    "def read_from_file(filename):\n",
    "    file = open(filename, \"r\")\n",
    "    content = file.readlines()\n",
    "    return content"
   ]
  },
  {
   "cell_type": "code",
   "execution_count": 12,
   "metadata": {},
   "outputs": [
    {
     "data": {
      "text/plain": [
       "['Hello, Python!']"
      ]
     },
     "execution_count": 12,
     "metadata": {},
     "output_type": "execute_result"
    }
   ],
   "source": [
    "write_to_file(\"greetings.txt\", \"Hello, Python!\")\n",
    "read_from_file(\"greetings.txt\")"
   ]
  },
  {
   "cell_type": "markdown",
   "metadata": {},
   "source": [
    "### Scenario:\n",
    "\n",
    "You are tasked with designing a system for a **vehicle rental company**. The company rents out various types of vehicles like **Cars** and **Bikes**, and each vehicle has some shared characteristics but also some distinct ones. \n",
    "\n",
    "### Requirements:\n",
    "1. Each **Vehicle** has attributes such as:\n",
    "   - `vehicle_id`: A unique identifier for the vehicle.\n",
    "   - `brand`: The brand of the vehicle.\n",
    "   - `rental_price`: Price per day to rent the vehicle.\n",
    "\n",
    "2. Both **Car** and **Bike** are types of **Vehicles**.  \n",
    "   - A **Car** has an additional attribute: `number_of_doors`.  \n",
    "   - A **Bike** has an additional attribute: `bike_type` (e.g., mountain bike, racing bike).\n",
    "\n",
    "3. You should provide methods to:\n",
    "   - **Calculate total rental cost**: Given the number of rental days, calculate the total cost for any vehicle.\n",
    "   - **Display vehicle details**: For both cars and bikes, display details including the unique attributes (e.g., `number_of_doors` for cars, `bike_type` for bikes).\n",
    "\n",
    "4. Implement the following OOP concepts:\n",
    "   - **Encapsulation**: Ensure that all vehicle attributes are private and can only be accessed or modified through getter/setter methods.\n",
    "   - **Abstraction**: Provide a clean interface for calculating the total rental cost and displaying vehicle details, hiding the internal logic.\n",
    "   - **Inheritance**: Both **Car** and **Bike** should inherit common functionality from the **Vehicle** class.\n",
    "   - **Polymorphism**: Use method overriding so that the method for displaying vehicle details works differently for cars and bikes.\n",
    "\n",
    "---\n",
    "\n",
    "### Task:\n",
    "\n",
    "1. **Define a `Vehicle` base class** that implements the common attributes and methods.\n",
    "2. **Define two subclasses `Car` and `Bike`** that inherit from `Vehicle` and implement their specific attributes.\n",
    "3. Use encapsulation by making attributes private and providing public methods to interact with them.\n",
    "4. Use polymorphism to create a `display_details` method that behaves differently for `Car` and `Bike`.\n",
    "\n",
    "---\n",
    "\n",
    "### Bonus:\n",
    "After completing the classes, create an example script that:\n",
    "- Creates a list of vehicles (a mix of Cars and Bikes).\n",
    "- Displays the details of each vehicle.\n",
    "- Calculates and prints the total rental cost for a given number of days for each vehicle.\n"
   ]
  },
  {
   "cell_type": "code",
   "execution_count": 13,
   "metadata": {},
   "outputs": [],
   "source": [
    "# Your Soloution Here      \n",
    "class Vehicle:\n",
    "    def __init__(self, vehicle_id, brand, rental_price):\n",
    "        self.__vehicle_id = vehicle_id\n",
    "        self.__brand = brand\n",
    "        self.__rental_price = rental_price\n",
    "    \n",
    "    def rental_cost(self, rental_days):\n",
    "        return int(self.__rental_price) * int(rental_days)\n",
    "\n",
    "    def display_details(self):\n",
    "        return f\"Vehicle ID: {self.__vehicle_id}, Brand: {self.__brand}, Rental Price: {self.__rental_price}\"\n",
    "    \n",
    "    def get_vehicle_id(self):\n",
    "        return self.__vehicle_id\n",
    "    \n",
    "    def get_brand(self):\n",
    "        return self.__brand\n",
    "    \n",
    "    def get_rental_price(self):\n",
    "        return self.__rental_price\n",
    "    \n",
    "class Car(Vehicle):\n",
    "    def __init__(self, vehicle_id, brand, rental_price, number_of_doors):\n",
    "        super().__init__(vehicle_id, brand, rental_price)\n",
    "        self.__number_of_doors = number_of_doors\n",
    "        \n",
    "    def display_details(self):\n",
    "        return f\"Vehicle ID: {self.get_vehicle_id()}, Brand: {self.get_brand()}, Rental Price: {self.get_rental_price()}, Number of Doors: {self.__number_of_doors}\"\n",
    "    \n",
    "class Bike(Vehicle):\n",
    "    def __init__(self, vehicle_id, brand, rental_price, bike_type):\n",
    "        super().__init__(vehicle_id, brand, rental_price)\n",
    "        self.__bike_type = bike_type\n",
    "        \n",
    "    def display_details(self):\n",
    "        return f\"Vehicle ID: {self.get_vehicle_id()}, Brand: {self.get_brand()}, Rental Price: {self.get_rental_price()}, Bike Type: {self.__bike_type}\""
   ]
  },
  {
   "cell_type": "code",
   "execution_count": 14,
   "metadata": {},
   "outputs": [],
   "source": [
    "car1 = Car(\"KY14566\", \"Hyundai\", \"6000\", \"4\")\n",
    "car2 = Car(\"IX12465\", \"KIA\", \"8000\", \"5\")"
   ]
  },
  {
   "cell_type": "code",
   "execution_count": 15,
   "metadata": {},
   "outputs": [
    {
     "name": "stdout",
     "output_type": "stream",
     "text": [
      "Vehicle Details:\n",
      "Vehicle ID: KY14566, Brand: Hyundai, Rental Price: 6000, Number of Doors: 4 \n",
      "Total Rental cost: 30000\n"
     ]
    }
   ],
   "source": [
    "print(f\"Vehicle Details:\\n{car1.display_details()} \\nTotal Rental cost: {car1.rental_cost(5)}\")"
   ]
  },
  {
   "cell_type": "code",
   "execution_count": 16,
   "metadata": {},
   "outputs": [
    {
     "name": "stdout",
     "output_type": "stream",
     "text": [
      "Enter no of days to rent: 10\n",
      "Vehicle Details:\n",
      "Vehicle ID: IX12465, Brand: KIA, Rental Price: 8000, Number of Doors: 5 \n",
      "Total Rental cost: 80000\n"
     ]
    }
   ],
   "source": [
    "days = int(input(\"Enter no of days to rent: \"))\n",
    "print(f\"Vehicle Details:\\n{car2.display_details()} \\nTotal Rental cost: {car2.rental_cost(days)}\")"
   ]
  },
  {
   "cell_type": "code",
   "execution_count": 17,
   "metadata": {},
   "outputs": [],
   "source": [
    "bike1 = Bike(\"CR74382\", \"CrossFire\", \"2000\", \"Mountain bike\")\n",
    "bike2 = Bike(\"PL24583\", \"Bajaj\", \"1000\", \"Standard bike\")"
   ]
  },
  {
   "cell_type": "code",
   "execution_count": 18,
   "metadata": {},
   "outputs": [
    {
     "name": "stdout",
     "output_type": "stream",
     "text": [
      "Vehicle Details:\n",
      "Vehicle ID: CR74382, Brand: CrossFire, Rental Price: 2000, Bike Type: Mountain bike \n",
      "Total Rental cost: 10000\n"
     ]
    }
   ],
   "source": [
    "print(f\"Vehicle Details:\\n{bike1.display_details()} \\nTotal Rental cost: {bike1.rental_cost(5)}\")"
   ]
  },
  {
   "cell_type": "code",
   "execution_count": 19,
   "metadata": {},
   "outputs": [
    {
     "name": "stdout",
     "output_type": "stream",
     "text": [
      "Enter no of days to rent: 3\n",
      "Vehicle Details:\n",
      "Vehicle ID: PL24583, Brand: Bajaj, Rental Price: 1000, Bike Type: Standard bike \n",
      "Total Rental cost: 3000\n"
     ]
    }
   ],
   "source": [
    "days = int(input(\"Enter no of days to rent: \"))\n",
    "print(f\"Vehicle Details:\\n{bike2.display_details()} \\nTotal Rental cost: {bike2.rental_cost(days)}\")"
   ]
  },
  {
   "cell_type": "code",
   "execution_count": 20,
   "metadata": {},
   "outputs": [],
   "source": [
    "#Bonus\n",
    "class Vehicle_Rental:\n",
    "    def __init__(self):\n",
    "        self.__vehicles = []\n",
    "    \n",
    "    def add_vehicle(self, vehicle):\n",
    "        self.__vehicles.append(vehicle)\n",
    "        return f\"{vehicle.get_vehicle_id()}, {vehicle.get_brand()} has been added!\"\n",
    "        \n",
    "    def get_vehicles(self):\n",
    "        return self.__vehicles"
   ]
  },
  {
   "cell_type": "code",
   "execution_count": 21,
   "metadata": {},
   "outputs": [
    {
     "name": "stdout",
     "output_type": "stream",
     "text": [
      "KY14566, Hyundai has been added!\n",
      "IX12465, KIA has been added!\n",
      "CR74382, CrossFire has been added!\n",
      "PL24583, Bajaj has been added!\n"
     ]
    }
   ],
   "source": [
    "#Bonus\n",
    "vehicle_rental = Vehicle_Rental()\n",
    "print(vehicle_rental.add_vehicle(car1))\n",
    "print(vehicle_rental.add_vehicle(car2))\n",
    "print(vehicle_rental.add_vehicle(bike1))\n",
    "print(vehicle_rental.add_vehicle(bike2))"
   ]
  },
  {
   "cell_type": "code",
   "execution_count": 22,
   "metadata": {},
   "outputs": [],
   "source": [
    "def main():\n",
    "    days = int(input(\"Enter no of days to rent: \"))\n",
    "    vehicles = vehicle_rental.get_vehicles()\n",
    "    i = 1\n",
    "    \n",
    "    for v in vehicles:\n",
    "        print(f\"{i}: {v.display_details()}, Total rental cost: {v.rental_cost(days)}\")\n",
    "        i += 1\n",
    "    \n",
    "#     rent = int(input(\"Enter Vehicle no to rent: \")) - 1 \n",
    "#     print(f\"{i}: {lv[i].display_details()}, Total rental cost: {lv[i].rental_cost(days)}\")  xx\n",
    "#     print(\"Thank You for Renting!!\")"
   ]
  },
  {
   "cell_type": "code",
   "execution_count": 23,
   "metadata": {},
   "outputs": [
    {
     "name": "stdout",
     "output_type": "stream",
     "text": [
      "Enter no of days to rent: 3\n",
      "1: Vehicle ID: KY14566, Brand: Hyundai, Rental Price: 6000, Number of Doors: 4, Total rental cost: 18000\n",
      "2: Vehicle ID: IX12465, Brand: KIA, Rental Price: 8000, Number of Doors: 5, Total rental cost: 24000\n",
      "3: Vehicle ID: CR74382, Brand: CrossFire, Rental Price: 2000, Bike Type: Mountain bike, Total rental cost: 6000\n",
      "4: Vehicle ID: PL24583, Brand: Bajaj, Rental Price: 1000, Bike Type: Standard bike, Total rental cost: 3000\n"
     ]
    }
   ],
   "source": [
    "main()"
   ]
  },
  {
   "cell_type": "code",
   "execution_count": null,
   "metadata": {},
   "outputs": [],
   "source": []
  }
 ],
 "metadata": {
  "kernelspec": {
   "display_name": "Python 3 (ipykernel)",
   "language": "python",
   "name": "python3"
  },
  "language_info": {
   "codemirror_mode": {
    "name": "ipython",
    "version": 3
   },
   "file_extension": ".py",
   "mimetype": "text/x-python",
   "name": "python",
   "nbconvert_exporter": "python",
   "pygments_lexer": "ipython3",
   "version": "3.12.6"
  }
 },
 "nbformat": 4,
 "nbformat_minor": 4
}
