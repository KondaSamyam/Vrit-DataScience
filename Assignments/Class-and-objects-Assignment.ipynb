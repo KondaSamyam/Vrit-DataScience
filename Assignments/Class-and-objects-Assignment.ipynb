{
 "cells": [
  {
   "cell_type": "markdown",
   "id": "53456d55",
   "metadata": {},
   "source": [
    "**Abstraction is used to create a structure for derived class for consistency. Aditional functions in derived class can be added based on the requirements**"
   ]
  },
  {
   "cell_type": "code",
   "execution_count": 1,
   "id": "2c791f49",
   "metadata": {},
   "outputs": [],
   "source": [
    "from abc import ABC, abstractmethod\n",
    "\n",
    "class Shape(ABC):\n",
    "    @abstractmethod\n",
    "    def area(self):\n",
    "        pass\n",
    "    \n",
    "    @abstractmethod\n",
    "    def perimeter(self):\n",
    "        pass\n",
    "    \n",
    "    @abstractmethod\n",
    "    def volume(self):\n",
    "        pass"
   ]
  },
  {
   "cell_type": "markdown",
   "id": "7c13e8de",
   "metadata": {},
   "source": [
    "**Magic Methods**\n",
    "\n",
    "Changing the behaviour of built-in methods"
   ]
  },
  {
   "cell_type": "code",
   "execution_count": 2,
   "id": "68e15d69",
   "metadata": {},
   "outputs": [],
   "source": [
    "class Person:\n",
    "    def __init__(self, name, age):\n",
    "        self.name = name\n",
    "        self.age = age\n",
    "        \n",
    "    def __str__(self):  #overloading print...\n",
    "        return f\"{self.name} is {self.age} years old!\"\n",
    "        \n",
    "    def __repr__(self):\n",
    "        return f\"Person({self.name}, Age: {self.age})\"\n",
    "    \n",
    "    def __len__(self):\n",
    "        return self.age\n",
    "    \n",
    "    def __call__(self):\n",
    "        return f\"{self.name} is being called!\""
   ]
  },
  {
   "cell_type": "code",
   "execution_count": 3,
   "id": "8f512ed8",
   "metadata": {
    "scrolled": true
   },
   "outputs": [
    {
     "name": "stdout",
     "output_type": "stream",
     "text": [
      "Sam is 20 years old!\n",
      "20\n",
      "Sam is being called!\n"
     ]
    },
    {
     "data": {
      "text/plain": [
       "Person(Sam, Age: 20)"
      ]
     },
     "execution_count": 3,
     "metadata": {},
     "output_type": "execute_result"
    }
   ],
   "source": [
    "person = Person(\"Sam\", 20)\n",
    "print(person) #str\n",
    "print(len(person)) #len\n",
    "print(person()) #call\n",
    "person #repr"
   ]
  },
  {
   "cell_type": "markdown",
   "id": "bb73e8cd",
   "metadata": {},
   "source": [
    "**Scenario: You are tasked with designing a simplified library management system in Python for a local library. The system needs to manage books, library members, and their borrowings. Implement the following classes based on the requirements:**\n",
    "\n",
    "Class: Book - Properties: title, author, ISBN, is_available. - Methods:\n",
    "\n",
    "__init__(self, title, author, ISBN): Initializes the book with the title, author, and ISBN.\n",
    "borrow(self): Marks the book as borrowed (is_available = False) if it is available.\n",
    "return_book(self): Marks the book as available (is_available = True).\n",
    "Encapsulate the properties to prevent direct modification from outside the class.\n",
    "\n",
    "Class: Member - Properties: name, member_id, and borrowed_books (a list of borrowed book instances).- Methods:\n",
    "\n",
    "__init__(self, name, member_id): Initializes the member with a name and ID.\n",
    "borrow_book(self, book: Book): Allows the member to borrow a book. Adds the book to borrowed_books if the book is available.\n",
    "return_book(self, book: Book): Allows the member to return a borrowed book and remove it from their borrowed list.\n",
    "\n",
    "Class: Staff (Inherits from Member) - Additional Property: position. - Additional Method:\n",
    "\n",
    "__init__(self, name, member_id, position): Initializes the staff member with a name, member ID, and position.\n",
    "\n",
    "Class: Librarian (Inherits from Staff) - Additional Method:\n",
    "\n",
    "add_book(self, book: Book): Allows the librarian to add new books to the library collection.\n",
    "Polymorphism Requirement: - Implement a method get_details(self) in both Member and Staff classes to return information specific to that class. - For Member, it should return the member's name and ID. - For Staff, it should additionally return the staff's position.\n",
    "\n",
    "Abstraction Requirement: - Create an abstract base class LibraryUser with abstract methods borrow_book and return_book. Both Member and Staff should inherit from LibraryUser and implement these methods.\n",
    "\n",
    "Task:\n",
    "\n",
    "Write the code to implement the scenario above, demonstrating the following OOP concepts: 1. Encapsulation: Use private attributes and provide getters and setters if needed. 2. Inheritance: Show the use of inheritance with Staff and Librarian classes. 3. Polymorphism: Demonstrate how get_details behaves differently for Member and Staff. 4. Abstraction: Use the abstract base class LibraryUser to enforce the interface for borrowing and returning books."
   ]
  },
  {
   "cell_type": "code",
   "execution_count": 5,
   "id": "9e2027bd",
   "metadata": {},
   "outputs": [],
   "source": [
    "from abc import ABC, abstractmethod\n",
    "\n",
    "books = []\n",
    "\n",
    "class LibraryUser(ABC):\n",
    "    @abstractmethod\n",
    "    def borrow_book(self, book:Book):\n",
    "        pass\n",
    "    \n",
    "    @abstractmethod \n",
    "    def return_book(self, book:Book):\n",
    "        pass"
   ]
  },
  {
   "cell_type": "code",
   "execution_count": 6,
   "id": "56114aac",
   "metadata": {},
   "outputs": [],
   "source": [
    "# Class: Book - Properties: title, author, ISBN, is_available. - Methods:\n",
    "\n",
    "# __init__(self, title, author, ISBN): Initializes the book with the title, author, and ISBN.\n",
    "# borrow(self): Marks the book as borrowed (is_available = False) if it is available.\n",
    "# return_book(self): Marks the book as available (is_available = True).\n",
    "# Encapsulate the properties to prevent direct modification from outside the class."
   ]
  },
  {
   "cell_type": "code",
   "execution_count": 189,
   "id": "15ee569f",
   "metadata": {},
   "outputs": [],
   "source": [
    "class Book:\n",
    "    def __init__(self, title, author, ISBN):\n",
    "        self.title = title\n",
    "        self.author = author\n",
    "        self.__ISBN = ISBN\n",
    "        self.__is_available = True\n",
    "        \n",
    "    def borrow(self):\n",
    "        if self.__is_available == True:\n",
    "            self.__is_available = False\n",
    "            return True\n",
    "        else:\n",
    "            return False\n",
    "        \n",
    "    def return_book(self):\n",
    "        if not self.__is_available:\n",
    "            self.__is_available = True\n",
    "            return\n",
    "    "
   ]
  },
  {
   "cell_type": "code",
   "execution_count": 190,
   "id": "4fe809f9",
   "metadata": {},
   "outputs": [],
   "source": [
    "# Class: Member - Properties: name, member_id, and borrowed_books (a list of borrowed book instances).- Methods:\n",
    "\n",
    "# __init__(self, name, member_id): Initializes the member with a name and ID.\n",
    "# borrow_book(self, book: Book): Allows the member to borrow a book. Adds the book to borrowed_books if the book is available.\n",
    "# return_book(self, book: Book): Allows the member to return a borrowed book and remove it from their borrowed list."
   ]
  },
  {
   "cell_type": "code",
   "execution_count": 191,
   "id": "8db5bf26",
   "metadata": {},
   "outputs": [],
   "source": [
    "class Member(LibraryUser):\n",
    "    def __init__(self, name, member_id):\n",
    "        self.name = name\n",
    "        self.__member_id = member_id\n",
    "        self.__borrowed_books = []\n",
    "        \n",
    "    def borrow_book(self, book:Book):\n",
    "        if book in self.__borrowed_books:\n",
    "            return f\"Already borrowed {book.title}\"\n",
    "        elif book.borrow() == True:\n",
    "            self.__borrowed_books.append(book.title)\n",
    "#             print(self.__borrowed_books)\n",
    "            return f\"Thank You for borrowing {book.title}!\"\n",
    "        else:\n",
    "            return f\"{book.title} isnot available!\"\n",
    "        \n",
    "    def return_book(self, book:Book):\n",
    "        if book.title in self.__borrowed_books:\n",
    "            book.return_book()\n",
    "            self.__borrowed_books.remove(book.title)\n",
    "            return f\"Thank You for returning {book.title}!!\"\n",
    "        else:\n",
    "            return f\"You have not borrowed {book.title}!\"\n",
    "        \n",
    "    def get_details(self):\n",
    "        return f\"Name: {self.name}, Member ID: {self.__member_id}, Books: {self.__borrowed_books}\""
   ]
  },
  {
   "cell_type": "code",
   "execution_count": 192,
   "id": "866e547b",
   "metadata": {},
   "outputs": [],
   "source": [
    "# Class: Staff (Inherits from Member) - Additional Property: position. - Additional Method:\n",
    "\n",
    "# __init__(self, name, member_id, position): Initializes the staff member with a name, member ID, and position."
   ]
  },
  {
   "cell_type": "code",
   "execution_count": 193,
   "id": "d81c43bd",
   "metadata": {},
   "outputs": [],
   "source": [
    "class Staff(Member):\n",
    "    def __init__(self, name, member_id, position):\n",
    "        super().__init__(name, member_id)\n",
    "        self.position = position\n",
    "        self.__borrowed_books = []\n",
    "        \n",
    "    def borrow_book(self, book:Book):\n",
    "        if book.title in self.__borrowed_books:\n",
    "            return f\"Already borrowed {book.title}\"\n",
    "        elif book.borrow():\n",
    "            self.__borrowed_books.append(book.title)\n",
    "            return f\"Thank You for borrowing {book.title}!\"\n",
    "        else:\n",
    "            return f\"{book.title} isnot available!\"\n",
    "        \n",
    "    def return_book(self, book:Book):\n",
    "        if book.title in self.__borrowed_books:\n",
    "            book.return_book()\n",
    "            return f\"Thank You for returning {book.title}!!\"\n",
    "        else:\n",
    "            return f\"You have not borrowed {book.title}!\"\n",
    "        \n",
    "    def get_details(self):\n",
    "        return f\"Name: {self.name}, Member ID: {self._Member__member_id}, Position: {self.position}\"\n",
    "        "
   ]
  },
  {
   "cell_type": "code",
   "execution_count": 194,
   "id": "b268fb8d",
   "metadata": {},
   "outputs": [],
   "source": [
    "# Class: Librarian (Inherits from Staff) - Additional Method:\n",
    "\n",
    "# add_book(self, book: Book): Allows the librarian to add new books to the library collection.\n",
    "# Polymorphism Requirement: - Implement a method get_details(self) in both Member and Staff classes to return information \n",
    "# specific to that class. \n",
    "# - For Member, it should return the member's name and ID. - For Staff, it should additionally return the staff's position."
   ]
  },
  {
   "cell_type": "code",
   "execution_count": 195,
   "id": "3e55d58b",
   "metadata": {},
   "outputs": [],
   "source": [
    "class Librarian(Staff):\n",
    "    def __init__(self, name, member_id, position):\n",
    "        super().__init__(name, member_id, position)\n",
    "        self.__library_books = []\n",
    "        \n",
    "#     def borrow_book(self, book:Book):\n",
    "#         if book in self.__borrowed_books:\n",
    "#             return f\"Already borrowed {book.title}\"\n",
    "#         elif Book.borrow_book(book):\n",
    "#             return f\"Thank You for borrowing {book.title}!\"\n",
    "#         else:\n",
    "#             return f\"{book.title} isnot available!\"\n",
    "        \n",
    "#     def return_book(self, book:Book):\n",
    "#         if book.tile in self.__borrowed_books:\n",
    "#             book.return_book()\n",
    "#             return f\"Thank You for returning {book.title}!!\"\n",
    "        \n",
    "    def add_book(self, book:Book):\n",
    "        if book in books:\n",
    "            return f\"Book already exists\"\n",
    "        else:\n",
    "            self.__library_books.append(book)\n",
    "            return f\"{book.title} has been added\"\n",
    "        \n",
    "    def get_details(self):\n",
    "        return f\"Name: {self.name}, Member ID: {self._Member__member_id}, Position: {self.position}\"\n",
    "    "
   ]
  },
  {
   "cell_type": "code",
   "execution_count": 196,
   "id": "4e37178e",
   "metadata": {},
   "outputs": [],
   "source": [
    "book = Book(\"1984\",\"Georgr Orwell\", \"AD77281\")\n",
    "book1 = Book(\"Harry Potter\",\"J.K Rowling\", \"HP34412\")"
   ]
  },
  {
   "cell_type": "code",
   "execution_count": 197,
   "id": "c58e6607",
   "metadata": {
    "scrolled": true
   },
   "outputs": [],
   "source": [
    "member = Member(\"S\", 23)"
   ]
  },
  {
   "cell_type": "code",
   "execution_count": 198,
   "id": "47c2d218",
   "metadata": {
    "scrolled": false
   },
   "outputs": [
    {
     "data": {
      "text/plain": [
       "'Thank You for borrowing 1984!'"
      ]
     },
     "execution_count": 198,
     "metadata": {},
     "output_type": "execute_result"
    }
   ],
   "source": [
    "# member.borrow_book(\"1984\")\n",
    "member.borrow_book(book)"
   ]
  },
  {
   "cell_type": "code",
   "execution_count": 199,
   "id": "365d914d",
   "metadata": {},
   "outputs": [
    {
     "data": {
      "text/plain": [
       "'Thank You for borrowing Harry Potter!'"
      ]
     },
     "execution_count": 199,
     "metadata": {},
     "output_type": "execute_result"
    }
   ],
   "source": [
    "member.borrow_book(book1)"
   ]
  },
  {
   "cell_type": "code",
   "execution_count": 200,
   "id": "3bb7be0a",
   "metadata": {},
   "outputs": [
    {
     "data": {
      "text/plain": [
       "\"Name: S, Member ID: 23, Books: ['1984', 'Harry Potter']\""
      ]
     },
     "execution_count": 200,
     "metadata": {},
     "output_type": "execute_result"
    }
   ],
   "source": [
    "member.get_details()"
   ]
  },
  {
   "cell_type": "code",
   "execution_count": 201,
   "id": "cde69d60",
   "metadata": {
    "scrolled": true
   },
   "outputs": [
    {
     "data": {
      "text/plain": [
       "'Thank You for returning 1984!!'"
      ]
     },
     "execution_count": 201,
     "metadata": {},
     "output_type": "execute_result"
    }
   ],
   "source": [
    "member.return_book(book)"
   ]
  },
  {
   "cell_type": "code",
   "execution_count": 202,
   "id": "acac0597",
   "metadata": {},
   "outputs": [
    {
     "data": {
      "text/plain": [
       "\"Name: S, Member ID: 23, Books: ['Harry Potter']\""
      ]
     },
     "execution_count": 202,
     "metadata": {},
     "output_type": "execute_result"
    }
   ],
   "source": [
    "member.get_details()"
   ]
  },
  {
   "cell_type": "code",
   "execution_count": 203,
   "id": "a03e6f77",
   "metadata": {
    "scrolled": true
   },
   "outputs": [
    {
     "data": {
      "text/plain": [
       "'Name: Sk, Member ID: 21, Position: Teacher'"
      ]
     },
     "execution_count": 203,
     "metadata": {},
     "output_type": "execute_result"
    }
   ],
   "source": [
    "staff = Staff(\"Sk\", 21, \"Teacher\")\n",
    "staff.get_details()"
   ]
  },
  {
   "cell_type": "code",
   "execution_count": 204,
   "id": "7f4d4538",
   "metadata": {},
   "outputs": [
    {
     "data": {
      "text/plain": [
       "'Harry Potter isnot available!'"
      ]
     },
     "execution_count": 204,
     "metadata": {},
     "output_type": "execute_result"
    }
   ],
   "source": [
    "staff.borrow_book(book1)"
   ]
  },
  {
   "cell_type": "code",
   "execution_count": 205,
   "id": "bb350777",
   "metadata": {
    "scrolled": true
   },
   "outputs": [
    {
     "data": {
      "text/plain": [
       "'Thank You for borrowing 1984!'"
      ]
     },
     "execution_count": 205,
     "metadata": {},
     "output_type": "execute_result"
    }
   ],
   "source": [
    "staff.borrow_book(book)"
   ]
  },
  {
   "cell_type": "code",
   "execution_count": 206,
   "id": "14a01179",
   "metadata": {},
   "outputs": [
    {
     "data": {
      "text/plain": [
       "'Thank You for returning 1984!!'"
      ]
     },
     "execution_count": 206,
     "metadata": {},
     "output_type": "execute_result"
    }
   ],
   "source": [
    "staff.return_book(book)"
   ]
  },
  {
   "cell_type": "code",
   "execution_count": 207,
   "id": "b068fc6f",
   "metadata": {},
   "outputs": [
    {
     "data": {
      "text/plain": [
       "'Name: Sk, Member ID: 21, Position: Librarian'"
      ]
     },
     "execution_count": 207,
     "metadata": {},
     "output_type": "execute_result"
    }
   ],
   "source": [
    "librarian = Librarian(\"Sk\", 21, \"Librarian\")\n",
    "librarian.get_details()"
   ]
  },
  {
   "cell_type": "code",
   "execution_count": 50,
   "id": "d5516f85",
   "metadata": {},
   "outputs": [
    {
     "name": "stdout",
     "output_type": "stream",
     "text": [
      "Book already exists\n",
      "Harry Potter has been added\n"
     ]
    },
    {
     "data": {
      "text/plain": [
       "[<__main__.Book at 0x1fe594b0c10>, <__main__.Book at 0x1fe594b0370>]"
      ]
     },
     "execution_count": 50,
     "metadata": {},
     "output_type": "execute_result"
    }
   ],
   "source": [
    "print(librarian.add_book(book))\n",
    "print(librarian.add_book(book1))\n",
    "books"
   ]
  },
  {
   "cell_type": "code",
   "execution_count": null,
   "id": "a375c7dc",
   "metadata": {},
   "outputs": [],
   "source": []
  },
  {
   "cell_type": "code",
   "execution_count": null,
   "id": "5d04d641",
   "metadata": {},
   "outputs": [],
   "source": []
  }
 ],
 "metadata": {
  "kernelspec": {
   "display_name": "Python 3 (ipykernel)",
   "language": "python",
   "name": "python3"
  },
  "language_info": {
   "codemirror_mode": {
    "name": "ipython",
    "version": 3
   },
   "file_extension": ".py",
   "mimetype": "text/x-python",
   "name": "python",
   "nbconvert_exporter": "python",
   "pygments_lexer": "ipython3",
   "version": "3.9.7"
  }
 },
 "nbformat": 4,
 "nbformat_minor": 5
}
