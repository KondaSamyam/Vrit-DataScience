{
 "cells": [
  {
   "cell_type": "code",
   "execution_count": 2,
   "id": "71b1c4d2-21d9-4b02-82ab-ddb886f9e63e",
   "metadata": {},
   "outputs": [
    {
     "name": "stdout",
     "output_type": "stream",
     "text": [
      "0.03127723515084557\n"
     ]
    }
   ],
   "source": [
    "import random\n",
    "\n",
    "print(random.random())"
   ]
  },
  {
   "cell_type": "code",
   "execution_count": 3,
   "id": "03c025d3-bb44-4464-a70b-4faede07b8eb",
   "metadata": {},
   "outputs": [
    {
     "name": "stdout",
     "output_type": "stream",
     "text": [
      "0.7760792881079785\n"
     ]
    }
   ],
   "source": [
    "print(random.uniform(-1, 2))"
   ]
  },
  {
   "cell_type": "code",
   "execution_count": 6,
   "id": "59b56978-fa47-4e7c-9721-236464040ccb",
   "metadata": {},
   "outputs": [
    {
     "name": "stdout",
     "output_type": "stream",
     "text": [
      "10\n"
     ]
    }
   ],
   "source": [
    "print(random.randint(-11, 22))"
   ]
  },
  {
   "cell_type": "code",
   "execution_count": 8,
   "id": "cbb52597-923b-4dcd-805a-baa598c3d7a6",
   "metadata": {},
   "outputs": [
    {
     "name": "stdout",
     "output_type": "stream",
     "text": [
      "1\n",
      "0\n",
      "-1\n"
     ]
    }
   ],
   "source": [
    "print(random.randrange(5))\n",
    "print(random.randrange(-1, 5))\n",
    "print(random.randrange(-1, 5, 2))"
   ]
  },
  {
   "cell_type": "code",
   "execution_count": 10,
   "id": "9563c7e0-1172-4ccd-9698-3dfd601aef2c",
   "metadata": {},
   "outputs": [
    {
     "name": "stdout",
     "output_type": "stream",
     "text": [
      "queen\n",
      "['nine', 'ace', 'king']\n"
     ]
    }
   ],
   "source": [
    "cards = ['ace', 'king', 'queen', 'jack', 'ten', 'nine']\n",
    "\n",
    "print(random.choice(cards))\n",
    "print(random.sample(cards, 3))"
   ]
  },
  {
   "cell_type": "code",
   "execution_count": 12,
   "id": "df55565c-8392-4524-9895-401a95b8aaf4",
   "metadata": {},
   "outputs": [
    {
     "name": "stdout",
     "output_type": "stream",
     "text": [
      "['ten', 'nine', 'jack', 'ace', 'queen', 'king']\n"
     ]
    }
   ],
   "source": [
    "random.shuffle(cards)\n",
    "print(cards)"
   ]
  },
  {
   "cell_type": "code",
   "execution_count": 15,
   "id": "b7782ef2-f9fa-47b7-bac8-bb8fe38ebf4a",
   "metadata": {},
   "outputs": [
    {
     "name": "stdout",
     "output_type": "stream",
     "text": [
      "['queen', 'jack', 'nine']\n"
     ]
    }
   ],
   "source": [
    "weight = [0.2, 0.12, 0.1, 0.3, 0.15, 0.13]\n",
    "print(random.choices(cards, weights=weight, k=3))"
   ]
  },
  {
   "cell_type": "code",
   "execution_count": 19,
   "id": "bc889bd8-e12c-4808-b63e-aa4cfbe2b999",
   "metadata": {},
   "outputs": [
    {
     "name": "stdout",
     "output_type": "stream",
     "text": [
      "9 9 1\n"
     ]
    }
   ],
   "source": [
    "state = random.getstate()\n",
    "\n",
    "a = random.randint(1,10)\n",
    "b = random.randint(1,10)\n",
    "c = random.randint(1,10)\n",
    "\n",
    "print(a,b,c)"
   ]
  },
  {
   "cell_type": "code",
   "execution_count": 20,
   "id": "f6a57eda-1982-40f6-8cb1-5b99ee611d58",
   "metadata": {},
   "outputs": [
    {
     "name": "stdout",
     "output_type": "stream",
     "text": [
      "9 9 1\n"
     ]
    }
   ],
   "source": [
    "random.setstate(state)\n",
    "\n",
    "d = random.randint(1,10)\n",
    "e = random.randint(1,10)\n",
    "f = random.randint(1,10)\n",
    "\n",
    "print(d,e,f)"
   ]
  },
  {
   "cell_type": "code",
   "execution_count": 21,
   "id": "93e7dc51-fe74-4d3f-9cec-039556955fa3",
   "metadata": {},
   "outputs": [
    {
     "data": {
      "text/plain": [
       "3"
      ]
     },
     "execution_count": 21,
     "metadata": {},
     "output_type": "execute_result"
    }
   ],
   "source": [
    "random.seed(100)\n",
    "random.randint(1,10)"
   ]
  },
  {
   "cell_type": "code",
   "execution_count": null,
   "id": "07a6f25b-ae9d-4f82-9c89-0b33d330038d",
   "metadata": {},
   "outputs": [],
   "source": []
  }
 ],
 "metadata": {
  "kernelspec": {
   "display_name": "Python 3 (ipykernel)",
   "language": "python",
   "name": "python3"
  },
  "language_info": {
   "codemirror_mode": {
    "name": "ipython",
    "version": 3
   },
   "file_extension": ".py",
   "mimetype": "text/x-python",
   "name": "python",
   "nbconvert_exporter": "python",
   "pygments_lexer": "ipython3",
   "version": "3.12.6"
  }
 },
 "nbformat": 4,
 "nbformat_minor": 5
}
