{
 "cells": [
  {
   "cell_type": "code",
   "execution_count": 1,
   "id": "6c0d2dff-357d-42ee-ad33-07f24347656b",
   "metadata": {},
   "outputs": [
    {
     "name": "stdout",
     "output_type": "stream",
     "text": [
      "Current Working Directory: C:\\Users\\Samyam\\Desktop\\Vrit-DataScience\n"
     ]
    }
   ],
   "source": [
    "import os\n",
    "\n",
    "cwd = os.getcwd()\n",
    "print(\"Current Working Directory:\", cwd)"
   ]
  },
  {
   "cell_type": "code",
   "execution_count": 2,
   "id": "ef03d205-47de-4c98-b2a3-b03313dd76ed",
   "metadata": {},
   "outputs": [],
   "source": [
    "os.chdir('Python Modules')"
   ]
  },
  {
   "cell_type": "code",
   "execution_count": 3,
   "id": "b9632138-0e66-49bc-aa97-3d72665a64a6",
   "metadata": {},
   "outputs": [],
   "source": [
    "if not os.path.exists(\"new_directory\"):\n",
    "    os.mkdir(\"new_directory\")"
   ]
  },
  {
   "cell_type": "code",
   "execution_count": 4,
   "id": "ba0924f7-24c2-4e10-8d3e-46dd4c74971a",
   "metadata": {},
   "outputs": [
    {
     "name": "stdout",
     "output_type": "stream",
     "text": [
      "Changed Directory to : C:\\Users\\Samyam\\Desktop\\Vrit-DataScience\\Python Modules\\new_directory\n"
     ]
    }
   ],
   "source": [
    "os.chdir('new_directory')\n",
    "print('Changed Directory to :', os.getcwd())"
   ]
  },
  {
   "cell_type": "code",
   "execution_count": 5,
   "id": "33189fbb-41c1-4bb1-afe6-e8b05cd8c085",
   "metadata": {},
   "outputs": [
    {
     "name": "stdout",
     "output_type": "stream",
     "text": [
      "Changed Directory to : C:\\Users\\Samyam\\Desktop\\Vrit-DataScience\\Python Modules\n"
     ]
    }
   ],
   "source": [
    "os.chdir('..')\n",
    "print('Changed Directory to :', os.getcwd())"
   ]
  },
  {
   "cell_type": "code",
   "execution_count": 6,
   "id": "343d0baf-eac1-4966-99da-345ffd35c6b8",
   "metadata": {},
   "outputs": [
    {
     "name": "stdout",
     "output_type": "stream",
     "text": [
      "Contents of directory:  ['.ipynb_checkpoints', 'Datetime.ipynb', 'new_directory']\n"
     ]
    }
   ],
   "source": [
    "contents = os.listdir('.')\n",
    "print('Contents of directory: ', contents)"
   ]
  },
  {
   "cell_type": "code",
   "execution_count": 8,
   "id": "979ca09b-c850-44c9-85ec-75ef8d09a7ae",
   "metadata": {},
   "outputs": [
    {
     "name": "stdout",
     "output_type": "stream",
     "text": [
      "\\Users\\Samyam\n"
     ]
    }
   ],
   "source": [
    "value = os.getenv('HOMEPATH')\n",
    "print(value)"
   ]
  },
  {
   "cell_type": "code",
   "execution_count": null,
   "id": "e2ca9899-ea9d-4dd0-aaf3-e6a1ba4e65b3",
   "metadata": {},
   "outputs": [],
   "source": []
  }
 ],
 "metadata": {
  "kernelspec": {
   "display_name": "Python 3 (ipykernel)",
   "language": "python",
   "name": "python3"
  },
  "language_info": {
   "codemirror_mode": {
    "name": "ipython",
    "version": 3
   },
   "file_extension": ".py",
   "mimetype": "text/x-python",
   "name": "python",
   "nbconvert_exporter": "python",
   "pygments_lexer": "ipython3",
   "version": "3.12.6"
  }
 },
 "nbformat": 4,
 "nbformat_minor": 5
}
