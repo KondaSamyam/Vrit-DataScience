{
 "cells": [
  {
   "cell_type": "code",
   "execution_count": 2,
   "id": "05f919fc-2971-42ea-9c59-cda76785bb5c",
   "metadata": {},
   "outputs": [],
   "source": [
    "import datetime\n",
    "\n",
    "date1 = datetime.date(2024, 3, 7)\n",
    "date2 = datetime.date(2024, 3, 1)"
   ]
  },
  {
   "cell_type": "code",
   "execution_count": 3,
   "id": "100c44c5-0fc9-402c-988e-b4d829c755d0",
   "metadata": {},
   "outputs": [
    {
     "name": "stdout",
     "output_type": "stream",
     "text": [
      "2024-03-07\n",
      "2024-03-01\n"
     ]
    }
   ],
   "source": [
    "print(date1)\n",
    "print(date2)"
   ]
  },
  {
   "cell_type": "code",
   "execution_count": 4,
   "id": "3445bc51-8ee7-4ab9-815e-2b3314512f5f",
   "metadata": {},
   "outputs": [
    {
     "name": "stdout",
     "output_type": "stream",
     "text": [
      "12:30:20\n"
     ]
    }
   ],
   "source": [
    "time = datetime.time(12,30,20)\n",
    "print(time)"
   ]
  },
  {
   "cell_type": "code",
   "execution_count": 5,
   "id": "01515041-32ca-433e-a49e-ca0b53995fbc",
   "metadata": {},
   "outputs": [
    {
     "name": "stdout",
     "output_type": "stream",
     "text": [
      "2024-03-07 12:30:20\n"
     ]
    }
   ],
   "source": [
    "dt = datetime.datetime(2024, 3, 7, 12,30,20)\n",
    "print(dt)"
   ]
  },
  {
   "cell_type": "code",
   "execution_count": 6,
   "id": "96b97bac-fabb-4cbc-b6f7-e2cd346e50a7",
   "metadata": {},
   "outputs": [
    {
     "name": "stdout",
     "output_type": "stream",
     "text": [
      "5 days, 3:15:00\n"
     ]
    }
   ],
   "source": [
    "td = datetime.timedelta(days=5, hours = 3, minutes =15)\n",
    "print(td)"
   ]
  },
  {
   "cell_type": "code",
   "execution_count": 7,
   "id": "2483bd99-8166-41d9-b3d8-63e4a384f914",
   "metadata": {},
   "outputs": [
    {
     "name": "stdout",
     "output_type": "stream",
     "text": [
      "2024-03-12 15:45:20\n"
     ]
    }
   ],
   "source": [
    "new_dt = dt + td\n",
    "print(new_dt)"
   ]
  },
  {
   "cell_type": "code",
   "execution_count": 8,
   "id": "3301b155-fcb3-4845-bef1-9d9eb51024be",
   "metadata": {},
   "outputs": [
    {
     "data": {
      "text/plain": [
       "['MAXYEAR',\n",
       " 'MINYEAR',\n",
       " 'UTC',\n",
       " '__all__',\n",
       " '__builtins__',\n",
       " '__cached__',\n",
       " '__doc__',\n",
       " '__file__',\n",
       " '__loader__',\n",
       " '__name__',\n",
       " '__package__',\n",
       " '__spec__',\n",
       " 'date',\n",
       " 'datetime',\n",
       " 'datetime_CAPI',\n",
       " 'time',\n",
       " 'timedelta',\n",
       " 'timezone',\n",
       " 'tzinfo']"
      ]
     },
     "execution_count": 8,
     "metadata": {},
     "output_type": "execute_result"
    }
   ],
   "source": [
    "dir(datetime)"
   ]
  },
  {
   "cell_type": "code",
   "execution_count": null,
   "id": "2fffa75d-048f-49b3-a0d1-c9e86c42db72",
   "metadata": {},
   "outputs": [],
   "source": []
  }
 ],
 "metadata": {
  "kernelspec": {
   "display_name": "Python 3 (ipykernel)",
   "language": "python",
   "name": "python3"
  },
  "language_info": {
   "codemirror_mode": {
    "name": "ipython",
    "version": 3
   },
   "file_extension": ".py",
   "mimetype": "text/x-python",
   "name": "python",
   "nbconvert_exporter": "python",
   "pygments_lexer": "ipython3",
   "version": "3.12.6"
  }
 },
 "nbformat": 4,
 "nbformat_minor": 5
}
