{
 "cells": [
  {
   "cell_type": "code",
   "execution_count": 4,
   "id": "02496015-9592-46cf-ba93-5fff5a14cb4a",
   "metadata": {},
   "outputs": [
    {
     "name": "stdout",
     "output_type": "stream",
     "text": [
      "True\n"
     ]
    }
   ],
   "source": [
    "import re\n",
    "\n",
    "string = \"In theory, there’s no difference between theory and practice. In practice there is.\"\n",
    "pattern = r\"the\"\n",
    "match = re.search(pattern, string)\n",
    "\n",
    "print(pattern in string)"
   ]
  },
  {
   "cell_type": "code",
   "execution_count": 5,
   "id": "14361a2c-6c55-4956-86f2-e4384fc04f01",
   "metadata": {},
   "outputs": [
    {
     "name": "stdout",
     "output_type": "stream",
     "text": [
      "Match Object: <re.Match object; span=(3, 6), match='the'>\n",
      "Match Object: the\n",
      "Match Object: 3\n",
      "Match Object: 6\n",
      "Match Object: (3, 6)\n"
     ]
    }
   ],
   "source": [
    "if match:\n",
    "    print(\"Match Object:\", match)\n",
    "    print(\"Match Object:\", match.group())\n",
    "    print(\"Match Object:\", match.start())\n",
    "    print(\"Match Object:\", match.end())\n",
    "    print(\"Match Object:\", match.span())"
   ]
  },
  {
   "cell_type": "code",
   "execution_count": null,
   "id": "66c5b3b5-a98b-46d2-9f22-d6b774a459e6",
   "metadata": {},
   "outputs": [],
   "source": []
  }
 ],
 "metadata": {
  "kernelspec": {
   "display_name": "Python 3 (ipykernel)",
   "language": "python",
   "name": "python3"
  },
  "language_info": {
   "codemirror_mode": {
    "name": "ipython",
    "version": 3
   },
   "file_extension": ".py",
   "mimetype": "text/x-python",
   "name": "python",
   "nbconvert_exporter": "python",
   "pygments_lexer": "ipython3",
   "version": "3.12.6"
  }
 },
 "nbformat": 4,
 "nbformat_minor": 5
}
