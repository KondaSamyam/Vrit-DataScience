{
 "cells": [
  {
   "cell_type": "code",
   "execution_count": 1,
   "id": "a0f0759a-41c0-4bd3-a046-f2bd48a3300c",
   "metadata": {},
   "outputs": [],
   "source": [
    "def my_decorator(func):\n",
    "    def wrapper():\n",
    "        print(\"Before Execution\")\n",
    "        func()\n",
    "        print(\"After Execution\")\n",
    "    return wrapper"
   ]
  },
  {
   "cell_type": "code",
   "execution_count": 2,
   "id": "c6963afa-a6e2-4692-8a93-4651e87aaf89",
   "metadata": {},
   "outputs": [],
   "source": [
    "@my_decorator\n",
    "def say_hello():\n",
    "    print(\"Hello World!\")"
   ]
  },
  {
   "cell_type": "code",
   "execution_count": 3,
   "id": "0f0d0fc1-b1cf-47eb-b6fd-94e22a79f9fb",
   "metadata": {},
   "outputs": [
    {
     "name": "stdout",
     "output_type": "stream",
     "text": [
      "Before Execution\n",
      "Hello World!\n",
      "After Execution\n"
     ]
    }
   ],
   "source": [
    "say_hello()"
   ]
  },
  {
   "cell_type": "code",
   "execution_count": 10,
   "id": "64f1fa83-3cdb-4378-bce5-0455b2b904bb",
   "metadata": {},
   "outputs": [],
   "source": [
    "import time\n",
    "\n",
    "def repeat(n):\n",
    "    def decorator(func):\n",
    "        def wrapper(*args, **kwargs):\n",
    "            print(f\"It will run {n} times\")\n",
    "\n",
    "            for i in range(n):\n",
    "                func()\n",
    "                time.sleep(1)\n",
    "\n",
    "        return wrapper\n",
    "    return decorator"
   ]
  },
  {
   "cell_type": "code",
   "execution_count": 11,
   "id": "8b5ad60e-dbf8-4da4-94b3-8eeae60bd673",
   "metadata": {},
   "outputs": [],
   "source": [
    "@repeat(3)\n",
    "def say_hello():\n",
    "    print(\"Hello World!\")"
   ]
  },
  {
   "cell_type": "code",
   "execution_count": 12,
   "id": "1baa9658-76cb-4807-a9e8-49e76c152b64",
   "metadata": {},
   "outputs": [
    {
     "name": "stdout",
     "output_type": "stream",
     "text": [
      "It will run 3 times\n",
      "Hello World!\n",
      "Hello World!\n",
      "Hello World!\n"
     ]
    }
   ],
   "source": [
    "say_hello()"
   ]
  },
  {
   "cell_type": "code",
   "execution_count": 16,
   "id": "67388c94-f011-4843-b064-5ae312e3b556",
   "metadata": {},
   "outputs": [],
   "source": [
    "#Without Decorator\n",
    "def validate_email(email):\n",
    "    if email.endswith(\"@vrit.com\"):\n",
    "        return True\n",
    "    else:\n",
    "        return False"
   ]
  },
  {
   "cell_type": "code",
   "execution_count": 17,
   "id": "1c18497e-1714-4be9-a9ac-0fae83716e75",
   "metadata": {},
   "outputs": [],
   "source": [
    "def get_data(email):\n",
    "    print(\"Accessing DB....\")\n",
    "    print(f\"Data Fetched by {email}\")"
   ]
  },
  {
   "cell_type": "code",
   "execution_count": 18,
   "id": "66965aa4-323e-486c-838c-8074ea00999c",
   "metadata": {},
   "outputs": [
    {
     "name": "stdout",
     "output_type": "stream",
     "text": [
      "Accessing DB....\n",
      "Data Fetched by samyam@vrit.com\n"
     ]
    }
   ],
   "source": [
    "validate = validate_email(\"samyam@vrit.com\")\n",
    "if validate:\n",
    "    get_data(\"samyam@vrit.com\")"
   ]
  },
  {
   "cell_type": "code",
   "execution_count": 24,
   "id": "5e49e946-32c3-4ff1-b16b-53584dc23489",
   "metadata": {},
   "outputs": [],
   "source": [
    "#With Decorator\n",
    "def validate_email(func):\n",
    "    def wrapper(user_email):\n",
    "        if user_email.endswith(\"@vrit.com\"):\n",
    "            func(user_email)\n",
    "        else:\n",
    "            print(\"Only Vrit user can access data\")\n",
    "    return wrapper"
   ]
  },
  {
   "cell_type": "code",
   "execution_count": 25,
   "id": "7af185c9-634e-4115-b8ee-933156f69999",
   "metadata": {},
   "outputs": [],
   "source": [
    "@validate_email\n",
    "def get_data(email):\n",
    "    print(\"Accessing DB....\")\n",
    "    print(f\"Data Fetched by {email}\")"
   ]
  },
  {
   "cell_type": "code",
   "execution_count": 26,
   "id": "e7fe356e-d36d-4269-95fa-59254c860978",
   "metadata": {},
   "outputs": [
    {
     "name": "stdout",
     "output_type": "stream",
     "text": [
      "Accessing DB....\n",
      "Data Fetched by samyam@vrit.com\n"
     ]
    }
   ],
   "source": [
    "get_data(\"samyam@vrit.com\")"
   ]
  },
  {
   "cell_type": "code",
   "execution_count": 27,
   "id": "0e70711c-a353-416b-8b25-0a9bfa475dbb",
   "metadata": {},
   "outputs": [
    {
     "name": "stdout",
     "output_type": "stream",
     "text": [
      "Only Vrit user can access data\n"
     ]
    }
   ],
   "source": [
    "get_data(\"samyam@gmail.com\")"
   ]
  },
  {
   "cell_type": "code",
   "execution_count": 31,
   "id": "6a46f610-3c65-471d-9b36-23102ba69164",
   "metadata": {},
   "outputs": [
    {
     "name": "stdout",
     "output_type": "stream",
     "text": [
      "2.0001916885375977\n"
     ]
    }
   ],
   "source": [
    "import time\n",
    "\n",
    "st = time.time()\n",
    "\n",
    "time.sleep(2)\n",
    "\n",
    "ed = time.time()\n",
    "\n",
    "print(ed - st)"
   ]
  },
  {
   "cell_type": "code",
   "execution_count": 79,
   "id": "1e84a170-a7ac-4632-8759-61457138afe6",
   "metadata": {},
   "outputs": [],
   "source": [
    "def time_it(func):\n",
    "    def wrapper(*args, **kwargs):\n",
    "        st = time.time()\n",
    "        time.sleep(2)\n",
    "        res = func(*args, **kwargs)\n",
    "        ed = time.time()\n",
    "        print(f\"Time Taken: {ed - st}\")\n",
    "        return res\n",
    "    return wrapper"
   ]
  },
  {
   "cell_type": "code",
   "execution_count": 80,
   "id": "9dff9a3e-f12d-454c-8040-5e6c13999c6d",
   "metadata": {},
   "outputs": [],
   "source": [
    "@time_it\n",
    "def slow_function ():\n",
    "    print(\"Done Sleeping!\")"
   ]
  },
  {
   "cell_type": "code",
   "execution_count": 81,
   "id": "94f9a37d-9db3-40be-92f9-21149aa953a3",
   "metadata": {},
   "outputs": [
    {
     "name": "stdout",
     "output_type": "stream",
     "text": [
      "Done Sleeping!\n",
      "Time Taken: 2.000676393508911\n"
     ]
    }
   ],
   "source": [
    "slow_function()"
   ]
  },
  {
   "cell_type": "code",
   "execution_count": 82,
   "id": "c3e5b217-f0e4-4a8e-a70c-92863e16a313",
   "metadata": {},
   "outputs": [],
   "source": [
    "@time_it\n",
    "def find_square(x):\n",
    "    return x * x\n",
    "    \n",
    "@time_it\n",
    "def get_fullname(first, last, middle=\"\"):\n",
    "    return f\"{first} {middle} {last}\""
   ]
  },
  {
   "cell_type": "code",
   "execution_count": 83,
   "id": "a87156fa-fbe5-48ba-a221-f089cb720841",
   "metadata": {},
   "outputs": [
    {
     "name": "stdout",
     "output_type": "stream",
     "text": [
      "Time Taken: 2.0003397464752197\n",
      "Square is 16\n"
     ]
    }
   ],
   "source": [
    "sq = find_square(4)\n",
    "print(f\"Square is {sq}\")"
   ]
  },
  {
   "cell_type": "code",
   "execution_count": 85,
   "id": "e25d89f7-07e0-4177-8382-7b63824d5869",
   "metadata": {},
   "outputs": [
    {
     "name": "stdout",
     "output_type": "stream",
     "text": [
      "Time Taken: 2.0006752014160156\n",
      "Ram Hari Shrestha\n"
     ]
    }
   ],
   "source": [
    "name = get_fullname(first = \"Ram\", middle = \"Hari\", last = \"Shrestha\")\n",
    "print(name)"
   ]
  },
  {
   "cell_type": "code",
   "execution_count": 88,
   "id": "4f924c60-e71c-4dd9-8422-9485e929862d",
   "metadata": {},
   "outputs": [],
   "source": [
    "def cache_results(func):\n",
    "    cache = {}\n",
    "\n",
    "    def wrapper(n):\n",
    "        if n in cache:\n",
    "            return cache[n]\n",
    "        result = func(n)\n",
    "        cache[n] = result\n",
    "        return result\n",
    "\n",
    "    return wrapper"
   ]
  },
  {
   "cell_type": "code",
   "execution_count": 89,
   "id": "4f092457-17d1-49f7-9d14-e5812567c939",
   "metadata": {},
   "outputs": [],
   "source": [
    "def fibonacci(n):\n",
    "    if n <= 1:\n",
    "        return n\n",
    "    else:\n",
    "        return fibonacci(n-1) + fibonacci(n-2)"
   ]
  },
  {
   "cell_type": "code",
   "execution_count": 91,
   "id": "cb732280-5e90-458f-ac29-5b98db30ee9c",
   "metadata": {},
   "outputs": [
    {
     "data": {
      "text/plain": [
       "6765"
      ]
     },
     "execution_count": 91,
     "metadata": {},
     "output_type": "execute_result"
    }
   ],
   "source": [
    "fibonacci(20)"
   ]
  },
  {
   "cell_type": "code",
   "execution_count": null,
   "id": "c12da9ca-804c-48f0-a508-811ff605a9d6",
   "metadata": {},
   "outputs": [],
   "source": []
  }
 ],
 "metadata": {
  "kernelspec": {
   "display_name": "Python 3 (ipykernel)",
   "language": "python",
   "name": "python3"
  },
  "language_info": {
   "codemirror_mode": {
    "name": "ipython",
    "version": 3
   },
   "file_extension": ".py",
   "mimetype": "text/x-python",
   "name": "python",
   "nbconvert_exporter": "python",
   "pygments_lexer": "ipython3",
   "version": "3.12.6"
  }
 },
 "nbformat": 4,
 "nbformat_minor": 5
}
