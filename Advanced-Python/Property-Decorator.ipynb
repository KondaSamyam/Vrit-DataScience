{
 "cells": [
  {
   "cell_type": "markdown",
   "id": "80ea9bd2",
   "metadata": {},
   "source": [
    "**Getter**\n",
    "\n",
    "Used to get the value of an attribute"
   ]
  },
  {
   "cell_type": "code",
   "execution_count": 7,
   "id": "a3dde04e",
   "metadata": {},
   "outputs": [],
   "source": [
    "class Person:\n",
    "    def __init__(self, name):\n",
    "        self.__name = name\n",
    "    \n",
    "    @property\n",
    "    def name(self):\n",
    "        print(\"Getting Name...\")\n",
    "        return self.__name\n",
    "    \n",
    "person = Person(\"Samyam\")"
   ]
  },
  {
   "cell_type": "code",
   "execution_count": 8,
   "id": "72e0e4e0",
   "metadata": {},
   "outputs": [
    {
     "name": "stdout",
     "output_type": "stream",
     "text": [
      "Getting Name...\n",
      "Samyam\n"
     ]
    }
   ],
   "source": [
    "print(person.name) #Changed to a attribute"
   ]
  },
  {
   "cell_type": "markdown",
   "id": "ab68c5fe",
   "metadata": {},
   "source": [
    "**Setter**\n",
    "\n",
    "Used to set a value of a attribute, can only work on @property attributes"
   ]
  },
  {
   "cell_type": "code",
   "execution_count": 10,
   "id": "98287b27",
   "metadata": {},
   "outputs": [],
   "source": [
    "class Person:\n",
    "    def __init__(self, name):\n",
    "        self.__name = name\n",
    "    \n",
    "    @property\n",
    "    def name(self):\n",
    "        print(\"Getting Name...\")\n",
    "        return self.__name\n",
    "    \n",
    "    @name.setter\n",
    "    def name(self, value):\n",
    "        print(\"Setting name...\")\n",
    "        self.__name = value\n",
    "    \n",
    "person = Person(\"Samyam\")"
   ]
  },
  {
   "cell_type": "code",
   "execution_count": 11,
   "id": "f825349b",
   "metadata": {},
   "outputs": [
    {
     "name": "stdout",
     "output_type": "stream",
     "text": [
      "Getting Name...\n",
      "Samyam\n"
     ]
    }
   ],
   "source": [
    "print(person.name)"
   ]
  },
  {
   "cell_type": "code",
   "execution_count": 12,
   "id": "4a3dc6ee",
   "metadata": {},
   "outputs": [
    {
     "name": "stdout",
     "output_type": "stream",
     "text": [
      "Setting name...\n"
     ]
    }
   ],
   "source": [
    "person.name = \"Bob\""
   ]
  },
  {
   "cell_type": "code",
   "execution_count": 13,
   "id": "6b8c8e83",
   "metadata": {},
   "outputs": [
    {
     "name": "stdout",
     "output_type": "stream",
     "text": [
      "Getting Name...\n",
      "Bob\n"
     ]
    }
   ],
   "source": [
    "print(person.name)"
   ]
  },
  {
   "cell_type": "markdown",
   "id": "ea590992",
   "metadata": {},
   "source": [
    "**Deleter**\n",
    "\n",
    "Used to delete and attribute or object."
   ]
  },
  {
   "cell_type": "code",
   "execution_count": 15,
   "id": "a313fbbb",
   "metadata": {},
   "outputs": [],
   "source": [
    "class Person:\n",
    "    def __init__(self, name):\n",
    "        self.__name = name\n",
    "    \n",
    "    @property\n",
    "    def name(self):\n",
    "        print(\"Getting Name...\")\n",
    "        return self.__name\n",
    "    \n",
    "    @name.setter\n",
    "    def name(self, value):\n",
    "        print(\"Setting name...\")\n",
    "        self.__name = value\n",
    "        \n",
    "    @name.deleter\n",
    "    def name(self, value):\n",
    "        print(\"Deleteing name...\")\n",
    "        del self.__name\n",
    "        \n",
    "person = Person(\"Samyam\")"
   ]
  },
  {
   "cell_type": "code",
   "execution_count": 16,
   "id": "0365efb7",
   "metadata": {},
   "outputs": [
    {
     "name": "stdout",
     "output_type": "stream",
     "text": [
      "Getting Name...\n",
      "Samyam\n"
     ]
    }
   ],
   "source": [
    "print(person.name)"
   ]
  },
  {
   "cell_type": "code",
   "execution_count": 18,
   "id": "fcffb38e",
   "metadata": {},
   "outputs": [],
   "source": [
    "del person"
   ]
  },
  {
   "cell_type": "code",
   "execution_count": 19,
   "id": "7a8de11f",
   "metadata": {},
   "outputs": [
    {
     "ename": "NameError",
     "evalue": "name 'person' is not defined",
     "output_type": "error",
     "traceback": [
      "\u001b[1;31m------------------------------------------------------------------\u001b[0m",
      "\u001b[1;31mNameError\u001b[0m                        Traceback (most recent call last)",
      "\u001b[1;32m~\\AppData\\Local\\Temp/ipykernel_1408/2048573010.py\u001b[0m in \u001b[0;36m<module>\u001b[1;34m\u001b[0m\n\u001b[1;32m----> 1\u001b[1;33m \u001b[0mprint\u001b[0m\u001b[1;33m(\u001b[0m\u001b[0mperson\u001b[0m\u001b[1;33m.\u001b[0m\u001b[0mname\u001b[0m\u001b[1;33m)\u001b[0m\u001b[1;33m\u001b[0m\u001b[1;33m\u001b[0m\u001b[0m\n\u001b[0m",
      "\u001b[1;31mNameError\u001b[0m: name 'person' is not defined"
     ]
    }
   ],
   "source": [
    "print(person.name)"
   ]
  }
 ],
 "metadata": {
  "kernelspec": {
   "display_name": "Python 3 (ipykernel)",
   "language": "python",
   "name": "python3"
  },
  "language_info": {
   "codemirror_mode": {
    "name": "ipython",
    "version": 3
   },
   "file_extension": ".py",
   "mimetype": "text/x-python",
   "name": "python",
   "nbconvert_exporter": "python",
   "pygments_lexer": "ipython3",
   "version": "3.9.7"
  }
 },
 "nbformat": 4,
 "nbformat_minor": 5
}
