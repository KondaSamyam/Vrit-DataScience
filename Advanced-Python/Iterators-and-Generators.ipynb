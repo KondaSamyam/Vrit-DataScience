{
 "cells": [
  {
   "cell_type": "markdown",
   "id": "b3ead220",
   "metadata": {},
   "source": [
    "**Iterator**"
   ]
  },
  {
   "cell_type": "code",
   "execution_count": 1,
   "id": "645874dc",
   "metadata": {},
   "outputs": [],
   "source": [
    "class Iterator:\n",
    "    def __iter__(self):\n",
    "        return self\n",
    "\n",
    "    def __next__(self):\n",
    "        if any_condition:\n",
    "            raise StopIteration\n",
    "\n",
    "        return next_number"
   ]
  },
  {
   "cell_type": "markdown",
   "id": "2d89303e",
   "metadata": {},
   "source": [
    "**Generator**\n",
    "\n",
    "Type of iterator that generates value when requested\n",
    "\n",
    "Keyword: Yield"
   ]
  },
  {
   "cell_type": "code",
   "execution_count": 2,
   "id": "1a6f0dd9",
   "metadata": {},
   "outputs": [],
   "source": [
    "def num_generator(start, end):\n",
    "    for i in range(start, end+1):\n",
    "        yield i"
   ]
  },
  {
   "cell_type": "code",
   "execution_count": 3,
   "id": "87a711f7",
   "metadata": {},
   "outputs": [],
   "source": [
    "ng = num_generator(1,5)"
   ]
  },
  {
   "cell_type": "code",
   "execution_count": 4,
   "id": "cb02b651",
   "metadata": {},
   "outputs": [
    {
     "name": "stdout",
     "output_type": "stream",
     "text": [
      "1\n"
     ]
    }
   ],
   "source": [
    "print(next(ng))"
   ]
  },
  {
   "cell_type": "code",
   "execution_count": 5,
   "id": "4b48fd19",
   "metadata": {},
   "outputs": [
    {
     "name": "stdout",
     "output_type": "stream",
     "text": [
      "2\n",
      "3\n",
      "4\n",
      "5\n"
     ]
    }
   ],
   "source": [
    "print(next(ng))\n",
    "print(next(ng))\n",
    "print(next(ng))\n",
    "print(next(ng))"
   ]
  },
  {
   "cell_type": "code",
   "execution_count": 6,
   "id": "40ac4e85",
   "metadata": {},
   "outputs": [
    {
     "ename": "StopIteration",
     "evalue": "",
     "output_type": "error",
     "traceback": [
      "\u001b[1;31m------------------------------------------------------------------\u001b[0m",
      "\u001b[1;31mStopIteration\u001b[0m                    Traceback (most recent call last)",
      "\u001b[1;32m~\\AppData\\Local\\Temp/ipykernel_18140/1388359553.py\u001b[0m in \u001b[0;36m<module>\u001b[1;34m\u001b[0m\n\u001b[1;32m----> 1\u001b[1;33m \u001b[0mprint\u001b[0m\u001b[1;33m(\u001b[0m\u001b[0mnext\u001b[0m\u001b[1;33m(\u001b[0m\u001b[0mng\u001b[0m\u001b[1;33m)\u001b[0m\u001b[1;33m)\u001b[0m\u001b[1;33m\u001b[0m\u001b[1;33m\u001b[0m\u001b[0m\n\u001b[0m",
      "\u001b[1;31mStopIteration\u001b[0m: "
     ]
    }
   ],
   "source": [
    "print(next(ng))"
   ]
  },
  {
   "cell_type": "code",
   "execution_count": 7,
   "id": "b5c7db98",
   "metadata": {},
   "outputs": [
    {
     "name": "stdout",
     "output_type": "stream",
     "text": [
      "1\n",
      "2\n",
      "3\n",
      "4\n",
      "5\n"
     ]
    }
   ],
   "source": [
    "ng1 = num_generator(1,5)\n",
    "\n",
    "for n in ng1:\n",
    "    print(n)"
   ]
  },
  {
   "cell_type": "code",
   "execution_count": 8,
   "id": "1c6d35a5",
   "metadata": {},
   "outputs": [
    {
     "name": "stdout",
     "output_type": "stream",
     "text": [
      "1\n",
      "2\n",
      "3\n",
      "4\n",
      "5\n"
     ]
    }
   ],
   "source": [
    "ng2 = num_generator(1,5)\n",
    "\n",
    "while True:\n",
    "    try:\n",
    "        num = next(ng2)\n",
    "        print(num)\n",
    "    except StopIteration:\n",
    "        break"
   ]
  },
  {
   "cell_type": "code",
   "execution_count": 9,
   "id": "b6896504",
   "metadata": {},
   "outputs": [
    {
     "data": {
      "text/plain": [
       "<generator object <genexpr> at 0x000001E9FD589B30>"
      ]
     },
     "execution_count": 9,
     "metadata": {},
     "output_type": "execute_result"
    }
   ],
   "source": [
    "gen =  (i for i in range(1,5))\n",
    "gen"
   ]
  },
  {
   "cell_type": "code",
   "execution_count": 10,
   "id": "eae2aa7d",
   "metadata": {},
   "outputs": [
    {
     "name": "stdout",
     "output_type": "stream",
     "text": [
      "1\n"
     ]
    }
   ],
   "source": [
    "print(next(gen))"
   ]
  },
  {
   "cell_type": "code",
   "execution_count": 11,
   "id": "af058b80",
   "metadata": {},
   "outputs": [],
   "source": [
    "def is_prime(num):\n",
    "    flag = False\n",
    "    if num == 0 or num == 1:\n",
    "        flag = False\n",
    "\n",
    "    elif num > 1:\n",
    "        # check for factors\n",
    "        for i in range(2, num):\n",
    "            if (num % i) == 0:\n",
    "                # if factor is found, set flag to True\n",
    "                flag = True\n",
    "                # break out of loop\n",
    "                break\n",
    "    return flag\n"
   ]
  },
  {
   "cell_type": "code",
   "execution_count": 21,
   "id": "cc98a8a7",
   "metadata": {},
   "outputs": [],
   "source": [
    "def prime_number():\n",
    "    n = 2\n",
    "    while True:\n",
    "        if not is_prime(n):\n",
    "            yield n\n",
    "            \n",
    "        n += 1\n",
    "\n",
    "prime = prime_number()"
   ]
  },
  {
   "cell_type": "code",
   "execution_count": 22,
   "id": "71d51b9a",
   "metadata": {},
   "outputs": [
    {
     "name": "stdout",
     "output_type": "stream",
     "text": [
      "2\n"
     ]
    }
   ],
   "source": [
    "print(next(prime))"
   ]
  },
  {
   "cell_type": "code",
   "execution_count": 25,
   "id": "2aa8bb33",
   "metadata": {},
   "outputs": [
    {
     "name": "stdout",
     "output_type": "stream",
     "text": [
      "7\n"
     ]
    }
   ],
   "source": [
    "print(next(prime))"
   ]
  },
  {
   "cell_type": "code",
   "execution_count": 26,
   "id": "7c447132",
   "metadata": {},
   "outputs": [
    {
     "name": "stdout",
     "output_type": "stream",
     "text": [
      "2\n",
      "3\n",
      "5\n",
      "7\n",
      "11\n",
      "13\n",
      "17\n",
      "19\n",
      "23\n",
      "29\n"
     ]
    }
   ],
   "source": [
    "p = prime_number()\n",
    "\n",
    "for i in range(10):\n",
    "    print(next(p))"
   ]
  },
  {
   "cell_type": "code",
   "execution_count": null,
   "id": "56ec8114",
   "metadata": {},
   "outputs": [],
   "source": []
  }
 ],
 "metadata": {
  "kernelspec": {
   "display_name": "Python 3 (ipykernel)",
   "language": "python",
   "name": "python3"
  },
  "language_info": {
   "codemirror_mode": {
    "name": "ipython",
    "version": 3
   },
   "file_extension": ".py",
   "mimetype": "text/x-python",
   "name": "python",
   "nbconvert_exporter": "python",
   "pygments_lexer": "ipython3",
   "version": "3.9.7"
  }
 },
 "nbformat": 4,
 "nbformat_minor": 5
}
