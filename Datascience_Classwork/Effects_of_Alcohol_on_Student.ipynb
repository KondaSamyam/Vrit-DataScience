{
 "cells": [
  {
   "cell_type": "code",
   "execution_count": 61,
   "id": "083229a5-1212-4796-8bec-85a62678b0e7",
   "metadata": {},
   "outputs": [],
   "source": [
    "import pandas as pd\n",
    "import seaborn as sns\n",
    "from scipy import stats"
   ]
  },
  {
   "cell_type": "code",
   "execution_count": 12,
   "id": "7d8936e7-de25-4209-b639-0b60462ae9b9",
   "metadata": {},
   "outputs": [
    {
     "data": {
      "text/html": [
       "<div>\n",
       "<style scoped>\n",
       "    .dataframe tbody tr th:only-of-type {\n",
       "        vertical-align: middle;\n",
       "    }\n",
       "\n",
       "    .dataframe tbody tr th {\n",
       "        vertical-align: top;\n",
       "    }\n",
       "\n",
       "    .dataframe thead th {\n",
       "        text-align: right;\n",
       "    }\n",
       "</style>\n",
       "<table border=\"1\" class=\"dataframe\">\n",
       "  <thead>\n",
       "    <tr style=\"text-align: right;\">\n",
       "      <th></th>\n",
       "      <th>timestamp</th>\n",
       "      <th>sex</th>\n",
       "      <th>matric_gpa_%</th>\n",
       "      <th>study_year</th>\n",
       "      <th>faculty</th>\n",
       "      <th>gpa_%_2023</th>\n",
       "      <th>accommodation_status</th>\n",
       "      <th>monthly_allowance</th>\n",
       "      <th>scholarship</th>\n",
       "      <th>study_hours_week</th>\n",
       "      <th>socialising_week</th>\n",
       "      <th>drinks_night</th>\n",
       "      <th>classes_missed</th>\n",
       "      <th>modules_failed</th>\n",
       "      <th>in_relationship</th>\n",
       "      <th>parental_approval</th>\n",
       "      <th>relationship_parents</th>\n",
       "    </tr>\n",
       "  </thead>\n",
       "  <tbody>\n",
       "    <tr>\n",
       "      <th>0</th>\n",
       "      <td>2024/03/07 5:12:01 pm EET</td>\n",
       "      <td>Female</td>\n",
       "      <td>76.0</td>\n",
       "      <td>2nd Year</td>\n",
       "      <td>Arts &amp; Social Sciences</td>\n",
       "      <td>72.0</td>\n",
       "      <td>Private accommodation/ stay with family/friends</td>\n",
       "      <td>R 4001- R 5000</td>\n",
       "      <td>No</td>\n",
       "      <td>8+</td>\n",
       "      <td>Only weekends</td>\n",
       "      <td>8+</td>\n",
       "      <td>3</td>\n",
       "      <td>0</td>\n",
       "      <td>Yes</td>\n",
       "      <td>Yes</td>\n",
       "      <td>Very close</td>\n",
       "    </tr>\n",
       "    <tr>\n",
       "      <th>1</th>\n",
       "      <td>2024/03/07 5:12:08 pm EET</td>\n",
       "      <td>Male</td>\n",
       "      <td>89.0</td>\n",
       "      <td>2nd Year</td>\n",
       "      <td>Economic &amp; Management Sciences</td>\n",
       "      <td>75.0</td>\n",
       "      <td>Private accommodation/ stay with family/friends</td>\n",
       "      <td>R 7001 - R 8000</td>\n",
       "      <td>Yes (NSFAS, etc...)</td>\n",
       "      <td>8+</td>\n",
       "      <td>Only weekends</td>\n",
       "      <td>3-5</td>\n",
       "      <td>4+</td>\n",
       "      <td>0</td>\n",
       "      <td>No</td>\n",
       "      <td>Yes</td>\n",
       "      <td>Very close</td>\n",
       "    </tr>\n",
       "    <tr>\n",
       "      <th>2</th>\n",
       "      <td>2024/03/07 5:12:25 pm EET</td>\n",
       "      <td>Male</td>\n",
       "      <td>76.0</td>\n",
       "      <td>1st Year</td>\n",
       "      <td>AgriSciences</td>\n",
       "      <td>55.0</td>\n",
       "      <td>Private accommodation/ stay with family/friends</td>\n",
       "      <td>R 4001- R 5000</td>\n",
       "      <td>No</td>\n",
       "      <td>3-5</td>\n",
       "      <td>2</td>\n",
       "      <td>8+</td>\n",
       "      <td>3</td>\n",
       "      <td>0</td>\n",
       "      <td>No</td>\n",
       "      <td>Yes</td>\n",
       "      <td>Very close</td>\n",
       "    </tr>\n",
       "    <tr>\n",
       "      <th>3</th>\n",
       "      <td>2024/03/07 5:12:28 pm EET</td>\n",
       "      <td>Male</td>\n",
       "      <td>89.0</td>\n",
       "      <td>2nd Year</td>\n",
       "      <td>Engineering</td>\n",
       "      <td>84.0</td>\n",
       "      <td>Private accommodation/ stay with family/friends</td>\n",
       "      <td>R 6001 - R 7000</td>\n",
       "      <td>No</td>\n",
       "      <td>3-5</td>\n",
       "      <td>3</td>\n",
       "      <td>8+</td>\n",
       "      <td>2</td>\n",
       "      <td>0</td>\n",
       "      <td>Yes</td>\n",
       "      <td>Yes</td>\n",
       "      <td>Very close</td>\n",
       "    </tr>\n",
       "    <tr>\n",
       "      <th>4</th>\n",
       "      <td>2024/03/07 5:13:00 pm EET</td>\n",
       "      <td>Female</td>\n",
       "      <td>74.0</td>\n",
       "      <td>2nd Year</td>\n",
       "      <td>Arts &amp; Social Sciences</td>\n",
       "      <td>52.0</td>\n",
       "      <td>Private accommodation/ stay with family/friends</td>\n",
       "      <td>R 4001- R 5000</td>\n",
       "      <td>No</td>\n",
       "      <td>3-5</td>\n",
       "      <td>Only weekends</td>\n",
       "      <td>5-8</td>\n",
       "      <td>1</td>\n",
       "      <td>3</td>\n",
       "      <td>No</td>\n",
       "      <td>Yes</td>\n",
       "      <td>Fair</td>\n",
       "    </tr>\n",
       "  </tbody>\n",
       "</table>\n",
       "</div>"
      ],
      "text/plain": [
       "                   timestamp     sex  matric_gpa_% study_year  \\\n",
       "0  2024/03/07 5:12:01 pm EET  Female          76.0   2nd Year   \n",
       "1  2024/03/07 5:12:08 pm EET    Male          89.0   2nd Year   \n",
       "2  2024/03/07 5:12:25 pm EET    Male          76.0   1st Year   \n",
       "3  2024/03/07 5:12:28 pm EET    Male          89.0   2nd Year   \n",
       "4  2024/03/07 5:13:00 pm EET  Female          74.0   2nd Year   \n",
       "\n",
       "                          faculty  gpa_%_2023  \\\n",
       "0          Arts & Social Sciences        72.0   \n",
       "1  Economic & Management Sciences        75.0   \n",
       "2                    AgriSciences        55.0   \n",
       "3                     Engineering        84.0   \n",
       "4          Arts & Social Sciences        52.0   \n",
       "\n",
       "                              accommodation_status monthly_allowance  \\\n",
       "0  Private accommodation/ stay with family/friends    R 4001- R 5000   \n",
       "1  Private accommodation/ stay with family/friends   R 7001 - R 8000   \n",
       "2  Private accommodation/ stay with family/friends    R 4001- R 5000   \n",
       "3  Private accommodation/ stay with family/friends   R 6001 - R 7000   \n",
       "4  Private accommodation/ stay with family/friends    R 4001- R 5000   \n",
       "\n",
       "           scholarship study_hours_week socialising_week drinks_night  \\\n",
       "0                   No               8+    Only weekends           8+   \n",
       "1  Yes (NSFAS, etc...)               8+    Only weekends          3-5   \n",
       "2                   No              3-5                2           8+   \n",
       "3                   No              3-5                3           8+   \n",
       "4                   No              3-5    Only weekends          5-8   \n",
       "\n",
       "  classes_missed modules_failed in_relationship parental_approval  \\\n",
       "0              3              0             Yes               Yes   \n",
       "1             4+              0              No               Yes   \n",
       "2              3              0              No               Yes   \n",
       "3              2              0             Yes               Yes   \n",
       "4              1              3              No               Yes   \n",
       "\n",
       "  relationship_parents  \n",
       "0           Very close  \n",
       "1           Very close  \n",
       "2           Very close  \n",
       "3           Very close  \n",
       "4                 Fair  "
      ]
     },
     "execution_count": 12,
     "metadata": {},
     "output_type": "execute_result"
    }
   ],
   "source": [
    "columns_name = [\n",
    "    'timestamp','sex','matric_gpa_%' ,'study_year','faculty','gpa_%_2023','accommodation_status',\n",
    "    'monthly_allowance','scholarship','study_hours_week','socialising_week','drinks_night',\n",
    "    'classes_missed','modules_failed','in_relationship','parental_approval','relationship_parents'\n",
    "]\n",
    "survey_df = pd.read_csv('Stats survey.csv', names=columns_name, header=0)\n",
    "survey_df.head()"
   ]
  },
  {
   "cell_type": "code",
   "execution_count": 13,
   "id": "0b1888a7-7e96-47f5-b239-b9480ac9fd92",
   "metadata": {},
   "outputs": [
    {
     "data": {
      "text/plain": [
       "(406, 17)"
      ]
     },
     "execution_count": 13,
     "metadata": {},
     "output_type": "execute_result"
    }
   ],
   "source": [
    "survey_df.shape"
   ]
  },
  {
   "cell_type": "code",
   "execution_count": 15,
   "id": "1525b87a-c4d6-49c1-8afb-96a752b74b26",
   "metadata": {},
   "outputs": [
    {
     "name": "stdout",
     "output_type": "stream",
     "text": [
      "<class 'pandas.core.frame.DataFrame'>\n",
      "RangeIndex: 406 entries, 0 to 405\n",
      "Data columns (total 17 columns):\n",
      " #   Column                Non-Null Count  Dtype  \n",
      "---  ------                --------------  -----  \n",
      " 0   timestamp             406 non-null    object \n",
      " 1   sex                   404 non-null    object \n",
      " 2   matric_gpa_%          399 non-null    float64\n",
      " 3   study_year            333 non-null    object \n",
      " 4   faculty               399 non-null    object \n",
      " 5   gpa_%_2023            320 non-null    float64\n",
      " 6   accommodation_status  383 non-null    object \n",
      " 7   monthly_allowance     375 non-null    object \n",
      " 8   scholarship           398 non-null    object \n",
      " 9   study_hours_week      403 non-null    object \n",
      " 10  socialising_week      404 non-null    object \n",
      " 11  drinks_night          404 non-null    object \n",
      " 12  classes_missed        403 non-null    object \n",
      " 13  modules_failed        403 non-null    object \n",
      " 14  in_relationship       403 non-null    object \n",
      " 15  parental_approval     402 non-null    object \n",
      " 16  relationship_parents  403 non-null    object \n",
      "dtypes: float64(2), object(15)\n",
      "memory usage: 54.1+ KB\n"
     ]
    }
   ],
   "source": [
    "survey_df.info()"
   ]
  },
  {
   "cell_type": "code",
   "execution_count": 16,
   "id": "c5c65e2b-141d-41ce-b26d-2ba1a0915e3b",
   "metadata": {},
   "outputs": [
    {
     "data": {
      "text/plain": [
       "sex\n",
       "Male      0.534653\n",
       "Female    0.465347\n",
       "Name: proportion, dtype: float64"
      ]
     },
     "execution_count": 16,
     "metadata": {},
     "output_type": "execute_result"
    }
   ],
   "source": [
    "survey_df[\"sex\"].value_counts(normalize = True)"
   ]
  },
  {
   "cell_type": "markdown",
   "id": "756465eb-755a-41bf-a62d-4406d9e58593",
   "metadata": {},
   "source": [
    "* In the survey 53% of responders are male and 47% are female"
   ]
  },
  {
   "cell_type": "code",
   "execution_count": 20,
   "id": "c8441e11-10d4-435a-81e7-989608edfabb",
   "metadata": {},
   "outputs": [
    {
     "data": {
      "text/html": [
       "<div>\n",
       "<style scoped>\n",
       "    .dataframe tbody tr th:only-of-type {\n",
       "        vertical-align: middle;\n",
       "    }\n",
       "\n",
       "    .dataframe tbody tr th {\n",
       "        vertical-align: top;\n",
       "    }\n",
       "\n",
       "    .dataframe thead th {\n",
       "        text-align: right;\n",
       "    }\n",
       "</style>\n",
       "<table border=\"1\" class=\"dataframe\">\n",
       "  <thead>\n",
       "    <tr style=\"text-align: right;\">\n",
       "      <th>relationship_parents</th>\n",
       "      <th>Close</th>\n",
       "      <th>Distant</th>\n",
       "      <th>Fair</th>\n",
       "      <th>Very close</th>\n",
       "    </tr>\n",
       "    <tr>\n",
       "      <th>parental_approval</th>\n",
       "      <th></th>\n",
       "      <th></th>\n",
       "      <th></th>\n",
       "      <th></th>\n",
       "    </tr>\n",
       "  </thead>\n",
       "  <tbody>\n",
       "    <tr>\n",
       "      <th>No</th>\n",
       "      <td>18</td>\n",
       "      <td>1</td>\n",
       "      <td>9</td>\n",
       "      <td>20</td>\n",
       "    </tr>\n",
       "    <tr>\n",
       "      <th>Yes</th>\n",
       "      <td>79</td>\n",
       "      <td>1</td>\n",
       "      <td>25</td>\n",
       "      <td>248</td>\n",
       "    </tr>\n",
       "  </tbody>\n",
       "</table>\n",
       "</div>"
      ],
      "text/plain": [
       "relationship_parents  Close  Distant  Fair  Very close\n",
       "parental_approval                                     \n",
       "No                       18        1     9          20\n",
       "Yes                      79        1    25         248"
      ]
     },
     "execution_count": 20,
     "metadata": {},
     "output_type": "execute_result"
    }
   ],
   "source": [
    "table = pd.crosstab(survey_df['parental_approval'], survey_df['relationship_parents'])\n",
    "table"
   ]
  },
  {
   "cell_type": "markdown",
   "id": "d9528cb8-7a32-446e-b841-245fb37c7111",
   "metadata": {},
   "source": [
    "Description"
   ]
  },
  {
   "cell_type": "code",
   "execution_count": 21,
   "id": "4edcb338-1541-41c8-a33c-9e41eed717db",
   "metadata": {},
   "outputs": [
    {
     "data": {
      "text/plain": [
       "Index(['Close', 'Distant', 'Fair', 'Very close'], dtype='object', name='relationship_parents')"
      ]
     },
     "execution_count": 21,
     "metadata": {},
     "output_type": "execute_result"
    }
   ],
   "source": [
    "table.columns"
   ]
  },
  {
   "cell_type": "code",
   "execution_count": 22,
   "id": "7fd5fb2b-d8d1-405a-aa36-0f3c72adfeef",
   "metadata": {},
   "outputs": [
    {
     "data": {
      "text/plain": [
       "<Axes: xlabel='parental_approval'>"
      ]
     },
     "execution_count": 22,
     "metadata": {},
     "output_type": "execute_result"
    },
    {
     "data": {
      "image/png": "[encoded data removed]",
      "text/plain": [
       "<Figure size 640x480 with 1 Axes>"
      ]
     },
     "metadata": {},
     "output_type": "display_data"
    }
   ],
   "source": [
    "table.plot.bar()"
   ]
  },
  {
   "cell_type": "code",
   "execution_count": 31,
   "id": "81a57bea-5a1c-4265-b74b-627735f40341",
   "metadata": {},
   "outputs": [
    {
     "data": {
      "text/plain": [
       "<Axes: xlabel='relationship_parents', ylabel='parental_approval'>"
      ]
     },
     "execution_count": 31,
     "metadata": {},
     "output_type": "execute_result"
    },
    {
     "data": {
      "image/png": "[encoded data removed]",
      "text/plain": [
       "<Figure size 640x480 with 2 Axes>"
      ]
     },
     "metadata": {},
     "output_type": "display_data"
    }
   ],
   "source": [
    "sns.heatmap(table, annot=True, fmt='.3g', cmap='crest')"
   ]
  },
  {
   "cell_type": "code",
   "execution_count": 32,
   "id": "0b2c77fd-36f4-4d92-bfad-43c1e84b7f3c",
   "metadata": {},
   "outputs": [
    {
     "data": {
      "text/plain": [
       "accommodation_status\n",
       "Private accommodation/ stay with family/friends    335\n",
       "Non-private accommodation ie. Res                   48\n",
       "Name: count, dtype: int64"
      ]
     },
     "execution_count": 32,
     "metadata": {},
     "output_type": "execute_result"
    }
   ],
   "source": [
    "survey_df.accommodation_status.value_counts()"
   ]
  },
  {
   "cell_type": "code",
   "execution_count": 33,
   "id": "b4abaeca-17ba-4ab2-af98-00823c3b48d1",
   "metadata": {},
   "outputs": [
    {
     "data": {
      "text/plain": [
       "socialising_week\n",
       "Only weekends    113\n",
       "1                108\n",
       "2                 87\n",
       "3                 63\n",
       "0                 17\n",
       "4+                16\n",
       "Name: count, dtype: int64"
      ]
     },
     "execution_count": 33,
     "metadata": {},
     "output_type": "execute_result"
    }
   ],
   "source": [
    "survey_df.socialising_week.value_counts()"
   ]
  },
  {
   "cell_type": "code",
   "execution_count": 39,
   "id": "0aee2525-b8ef-4b8d-b4ba-78177127e9ad",
   "metadata": {},
   "outputs": [
    {
     "data": {
      "text/html": [
       "<div>\n",
       "<style scoped>\n",
       "    .dataframe tbody tr th:only-of-type {\n",
       "        vertical-align: middle;\n",
       "    }\n",
       "\n",
       "    .dataframe tbody tr th {\n",
       "        vertical-align: top;\n",
       "    }\n",
       "\n",
       "    .dataframe thead th {\n",
       "        text-align: right;\n",
       "    }\n",
       "</style>\n",
       "<table border=\"1\" class=\"dataframe\">\n",
       "  <thead>\n",
       "    <tr style=\"text-align: right;\">\n",
       "      <th>accommodation_status</th>\n",
       "      <th>Non-private accommodation ie. Res</th>\n",
       "      <th>Private accommodation/ stay with family/friends</th>\n",
       "    </tr>\n",
       "    <tr>\n",
       "      <th>socialising_week</th>\n",
       "      <th></th>\n",
       "      <th></th>\n",
       "    </tr>\n",
       "  </thead>\n",
       "  <tbody>\n",
       "    <tr>\n",
       "      <th>0</th>\n",
       "      <td>2</td>\n",
       "      <td>14</td>\n",
       "    </tr>\n",
       "    <tr>\n",
       "      <th>1</th>\n",
       "      <td>12</td>\n",
       "      <td>89</td>\n",
       "    </tr>\n",
       "    <tr>\n",
       "      <th>2</th>\n",
       "      <td>15</td>\n",
       "      <td>70</td>\n",
       "    </tr>\n",
       "    <tr>\n",
       "      <th>3</th>\n",
       "      <td>5</td>\n",
       "      <td>52</td>\n",
       "    </tr>\n",
       "    <tr>\n",
       "      <th>4+</th>\n",
       "      <td>3</td>\n",
       "      <td>13</td>\n",
       "    </tr>\n",
       "    <tr>\n",
       "      <th>Only weekends</th>\n",
       "      <td>11</td>\n",
       "      <td>97</td>\n",
       "    </tr>\n",
       "  </tbody>\n",
       "</table>\n",
       "</div>"
      ],
      "text/plain": [
       "accommodation_status  Non-private accommodation ie. Res  \\\n",
       "socialising_week                                          \n",
       "0                                                     2   \n",
       "1                                                    12   \n",
       "2                                                    15   \n",
       "3                                                     5   \n",
       "4+                                                    3   \n",
       "Only weekends                                        11   \n",
       "\n",
       "accommodation_status  Private accommodation/ stay with family/friends  \n",
       "socialising_week                                                       \n",
       "0                                                                  14  \n",
       "1                                                                  89  \n",
       "2                                                                  70  \n",
       "3                                                                  52  \n",
       "4+                                                                 13  \n",
       "Only weekends                                                      97  "
      ]
     },
     "execution_count": 39,
     "metadata": {},
     "output_type": "execute_result"
    }
   ],
   "source": [
    "table = pd.crosstab(survey_df['accommodation_status'], survey_df['socialising_week'])\n",
    "table.T"
   ]
  },
  {
   "cell_type": "code",
   "execution_count": 62,
   "id": "209d484b-cc43-41ec-82e9-f6951b92f5e2",
   "metadata": {},
   "outputs": [],
   "source": [
    "contingency_table = pd.crosstab(survey_df['accommodation_status'], survey_df['socialising_week'])\n",
    "chi2_square, p_value, dof, expected = stats.chi2_contingency(contingency_table)"
   ]
  },
  {
   "cell_type": "code",
   "execution_count": 63,
   "id": "cdf20ccf-c88e-4e68-820a-a06ad4ab6133",
   "metadata": {},
   "outputs": [
    {
     "name": "stdout",
     "output_type": "stream",
     "text": [
      "3.9099046455825284 0.5624591514521107\n"
     ]
    }
   ],
   "source": [
    "print(chi2_square, p_value)"
   ]
  },
  {
   "cell_type": "markdown",
   "id": "68d65773-abe9-47b6-a3f8-af885924453d",
   "metadata": {},
   "source": [
    "* In average, Students with Private Accomodation socialize 7 times more than students with no private accomodation"
   ]
  },
  {
   "cell_type": "code",
   "execution_count": 37,
   "id": "9550b4f3-1242-48d7-9462-7057198ef006",
   "metadata": {},
   "outputs": [
    {
     "data": {
      "text/plain": [
       "<Axes: xlabel='accommodation_status'>"
      ]
     },
     "execution_count": 37,
     "metadata": {},
     "output_type": "execute_result"
    },
    {
     "data": {
      "image/png": "[encoded data removed]",
      "text/plain": [
       "<Figure size 640x480 with 1 Axes>"
      ]
     },
     "metadata": {},
     "output_type": "display_data"
    }
   ],
   "source": [
    "table.plot.bar()"
   ]
  },
  {
   "cell_type": "markdown",
   "id": "7f3b1d2f-4588-4f25-9f25-7b331a83a606",
   "metadata": {},
   "source": [
    "## Influence of Gender on GPA"
   ]
  },
  {
   "cell_type": "code",
   "execution_count": 41,
   "id": "54772595-737d-4ce8-96a0-16c58aee18d3",
   "metadata": {},
   "outputs": [],
   "source": [
    "grouped = survey_df[['sex', 'gpa_%_2023']].groupby(\"sex\")"
   ]
  },
  {
   "cell_type": "code",
   "execution_count": 42,
   "id": "b3fdbdea-ea47-4328-88a4-df5ecefbc21a",
   "metadata": {},
   "outputs": [
    {
     "data": {
      "text/html": [
       "<div>\n",
       "<style scoped>\n",
       "    .dataframe tbody tr th:only-of-type {\n",
       "        vertical-align: middle;\n",
       "    }\n",
       "\n",
       "    .dataframe tbody tr th {\n",
       "        vertical-align: top;\n",
       "    }\n",
       "\n",
       "    .dataframe thead th {\n",
       "        text-align: right;\n",
       "    }\n",
       "</style>\n",
       "<table border=\"1\" class=\"dataframe\">\n",
       "  <thead>\n",
       "    <tr style=\"text-align: right;\">\n",
       "      <th></th>\n",
       "      <th>gpa_%_2023</th>\n",
       "    </tr>\n",
       "    <tr>\n",
       "      <th>sex</th>\n",
       "      <th></th>\n",
       "    </tr>\n",
       "  </thead>\n",
       "  <tbody>\n",
       "    <tr>\n",
       "      <th>Female</th>\n",
       "      <td>67.596067</td>\n",
       "    </tr>\n",
       "    <tr>\n",
       "      <th>Male</th>\n",
       "      <td>65.097059</td>\n",
       "    </tr>\n",
       "  </tbody>\n",
       "</table>\n",
       "</div>"
      ],
      "text/plain": [
       "        gpa_%_2023\n",
       "sex               \n",
       "Female   67.596067\n",
       "Male     65.097059"
      ]
     },
     "execution_count": 42,
     "metadata": {},
     "output_type": "execute_result"
    }
   ],
   "source": [
    "grouped.mean()"
   ]
  },
  {
   "cell_type": "code",
   "execution_count": 44,
   "id": "ec02c782-eb18-41d4-9912-d2b2406306e0",
   "metadata": {},
   "outputs": [
    {
     "data": {
      "text/plain": [
       "<Axes: xlabel='sex'>"
      ]
     },
     "execution_count": 44,
     "metadata": {},
     "output_type": "execute_result"
    },
    {
     "data": {
      "image/png": "[encoded data removed]",
      "text/plain": [
       "<Figure size 640x480 with 1 Axes>"
      ]
     },
     "metadata": {},
     "output_type": "display_data"
    }
   ],
   "source": [
    "sns.barplot(grouped.mean().T)"
   ]
  },
  {
   "cell_type": "code",
   "execution_count": 48,
   "id": "c9ed7f60-5686-48d5-84cb-55b7261a728d",
   "metadata": {},
   "outputs": [
    {
     "data": {
      "text/plain": [
       "<Axes: xlabel='gpa_%_2023', ylabel='sex'>"
      ]
     },
     "execution_count": 48,
     "metadata": {},
     "output_type": "execute_result"
    },
    {
     "data": {
      "image/png": "[encoded data removed]",
      "text/plain": [
       "<Figure size 640x480 with 1 Axes>"
      ]
     },
     "metadata": {},
     "output_type": "display_data"
    }
   ],
   "source": [
    "sns.boxplot(x='gpa_%_2023', y='sex', data=survey_df)"
   ]
  },
  {
   "cell_type": "markdown",
   "id": "18efcd60-3422-40ad-b5bd-16d57c6a2d18",
   "metadata": {},
   "source": [
    "Description"
   ]
  },
  {
   "cell_type": "code",
   "execution_count": 51,
   "id": "8d49e3ad-d326-4b94-8185-ad1ac73c108b",
   "metadata": {},
   "outputs": [
    {
     "data": {
      "text/html": [
       "<div>\n",
       "<style scoped>\n",
       "    .dataframe tbody tr th:only-of-type {\n",
       "        vertical-align: middle;\n",
       "    }\n",
       "\n",
       "    .dataframe tbody tr th {\n",
       "        vertical-align: top;\n",
       "    }\n",
       "\n",
       "    .dataframe thead th {\n",
       "        text-align: right;\n",
       "    }\n",
       "</style>\n",
       "<table border=\"1\" class=\"dataframe\">\n",
       "  <thead>\n",
       "    <tr style=\"text-align: right;\">\n",
       "      <th></th>\n",
       "      <th>matric_gpa_%</th>\n",
       "      <th>gpa_%_2023</th>\n",
       "    </tr>\n",
       "  </thead>\n",
       "  <tbody>\n",
       "    <tr>\n",
       "      <th>matric_gpa_%</th>\n",
       "      <td>1.000000</td>\n",
       "      <td>0.299104</td>\n",
       "    </tr>\n",
       "    <tr>\n",
       "      <th>gpa_%_2023</th>\n",
       "      <td>0.299104</td>\n",
       "      <td>1.000000</td>\n",
       "    </tr>\n",
       "  </tbody>\n",
       "</table>\n",
       "</div>"
      ],
      "text/plain": [
       "              matric_gpa_%  gpa_%_2023\n",
       "matric_gpa_%      1.000000    0.299104\n",
       "gpa_%_2023        0.299104    1.000000"
      ]
     },
     "execution_count": 51,
     "metadata": {},
     "output_type": "execute_result"
    }
   ],
   "source": [
    "survey_df[['matric_gpa_%', 'gpa_%_2023']].corr()"
   ]
  },
  {
   "cell_type": "markdown",
   "id": "46a0dbcb-f746-4aa4-8ed0-b19a56234160",
   "metadata": {},
   "source": [
    "* Matric GPA has a negligible influence in the GPA of 2023"
   ]
  },
  {
   "cell_type": "code",
   "execution_count": 59,
   "id": "508f9c83-203c-476e-a78c-a8034de4d3e5",
   "metadata": {},
   "outputs": [
    {
     "data": {
      "text/plain": [
       "timestamp                0\n",
       "sex                      2\n",
       "matric_gpa_%             7\n",
       "study_year              73\n",
       "faculty                  7\n",
       "gpa_%_2023              86\n",
       "accommodation_status    23\n",
       "monthly_allowance       31\n",
       "scholarship              8\n",
       "study_hours_week         3\n",
       "socialising_week         2\n",
       "drinks_night             2\n",
       "classes_missed           3\n",
       "modules_failed           3\n",
       "in_relationship          3\n",
       "parental_approval        4\n",
       "relationship_parents     3\n",
       "dtype: int64"
      ]
     },
     "execution_count": 59,
     "metadata": {},
     "output_type": "execute_result"
    }
   ],
   "source": [
    "survey_df.isna().sum()"
   ]
  },
  {
   "cell_type": "code",
   "execution_count": 60,
   "id": "dd5e1a12-7262-4c44-8352-5d6218231c92",
   "metadata": {},
   "outputs": [
    {
     "data": {
      "text/plain": [
       "study_year\n",
       "2nd Year        153\n",
       "1st Year        128\n",
       "NaN              73\n",
       "3rd Year         40\n",
       "4th Year          7\n",
       "Postgraduate      5\n",
       "Name: count, dtype: int64"
      ]
     },
     "execution_count": 60,
     "metadata": {},
     "output_type": "execute_result"
    }
   ],
   "source": [
    "survey_df['study_year'].value_counts(dropna=False)"
   ]
  },
  {
   "cell_type": "code",
   "execution_count": null,
   "id": "77a9b792-b950-4bb4-a50d-80081001071a",
   "metadata": {},
   "outputs": [],
   "source": []
  }
 ],
 "metadata": {
  "kernelspec": {
   "display_name": "Python 3 (ipykernel)",
   "language": "python",
   "name": "python3"
  },
  "language_info": {
   "codemirror_mode": {
    "name": "ipython",
    "version": 3
   },
   "file_extension": ".py",
   "mimetype": "text/x-python",
   "name": "python",
   "nbconvert_exporter": "python",
   "pygments_lexer": "ipython3",
   "version": "3.12.7"
  }
 },
 "nbformat": 4,
 "nbformat_minor": 5
}
